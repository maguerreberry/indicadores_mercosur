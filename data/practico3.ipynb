{
  "nbformat": 4,
  "nbformat_minor": 0,
  "metadata": {
    "colab": {
      "name": "Practico3_con_mlflow_casifinal.ipynb",
      "provenance": [],
      "collapsed_sections": [],
      "toc_visible": true
    },
    "kernelspec": {
      "display_name": "Python 3",
      "language": "python",
      "name": "python3"
    },
    "language_info": {
      "codemirror_mode": {
        "name": "ipython",
        "version": 3
      },
      "file_extension": ".py",
      "mimetype": "text/x-python",
      "name": "python",
      "nbconvert_exporter": "python",
      "pygments_lexer": "ipython3",
      "version": "3.6.10"
    },
    "toc": {
      "base_numbering": 1,
      "nav_menu": {},
      "number_sections": true,
      "sideBar": true,
      "skip_h1_title": false,
      "title_cell": "Table of Contents",
      "title_sidebar": "Contents",
      "toc_cell": false,
      "toc_position": {
        "height": "calc(100% - 180px)",
        "left": "10px",
        "top": "150px",
        "width": "209px"
      },
      "toc_section_display": true,
      "toc_window_display": true
    }
  },
  "cells": [
    {
      "cell_type": "markdown",
      "metadata": {
        "id": "u4BBdDHjdchE"
      },
      "source": [
        "# MENTORÍA: Predicción de indicadores sociales para países del MERCOSUR"
      ]
    },
    {
      "cell_type": "markdown",
      "metadata": {
        "id": "USww_FkGdchH"
      },
      "source": [
        "## Práctico 3: Introducción a ML - Aprendizaje Supervisado"
      ]
    },
    {
      "cell_type": "markdown",
      "metadata": {
        "id": "6HuicPoodchK"
      },
      "source": [
        "### Introducción"
      ]
    },
    {
      "cell_type": "markdown",
      "metadata": {
        "id": "293vY8bDdchM"
      },
      "source": [
        "En el presente práctico, se intentará predecir los valores para el Índice de Gini, mediante el uso de algoritmos de aprendizaje supervisado (AS). Para ello se tendrán en cuenta los valores de Argentina, Brasil, Uruguay y Paraguay, y diferentes features de los indicadores de pobreza, protección social y educación. Además, el año será otro feature más de análisis.\n",
        "\n",
        "En primer lugar, se construirá un dataset que incluya a todos los países mencionados, y los valores de varios features de interés (una columna por feature), desde el año 1990 a 2018. Luego, se construirán modelos de AS: regresiones lineales, polinomiales, y árboles de decisión. Dichos modelos se construirán teniendo en cuenta el dataset con los valores sin transformar, con los valores escalados, y con los valores transformados con logaritmo natural.\n",
        "\n",
        "Se analizarán las salidas de todos los modelos y se informarán algunas conclusiones generales.\n"
      ]
    },
    {
      "cell_type": "markdown",
      "metadata": {
        "id": "9MZ2zaKtdchX"
      },
      "source": [
        "## Preprocesamiento de los datos"
      ]
    },
    {
      "cell_type": "code",
      "metadata": {
        "id": "p_XkumOXdchX",
        "scrolled": true,
        "outputId": "9a630f2e-fba2-4738-db60-90f9a35d9518",
        "colab": {
          "base_uri": "https://localhost:8080/",
          "height": 72
        }
      },
      "source": [
        "import pandas as pd\n",
        "pd.set_option('display.max_colwidth', -1)"
      ],
      "execution_count": null,
      "outputs": [
        {
          "output_type": "stream",
          "text": [
            "/usr/local/lib/python3.6/dist-packages/ipykernel_launcher.py:2: FutureWarning: Passing a negative integer is deprecated in version 1.0 and will not be supported in future version. Instead, use None to not limit the column width.\n",
            "  \n"
          ],
          "name": "stderr"
        }
      ]
    },
    {
      "cell_type": "markdown",
      "metadata": {
        "id": "Y8DHNvTndchg"
      },
      "source": [
        "### Carga de datos"
      ]
    },
    {
      "cell_type": "code",
      "metadata": {
        "id": "OjXg-cWQe6xd",
        "outputId": "f7b9aa44-c35e-46a3-821f-20cecaa673ba",
        "colab": {
          "base_uri": "https://localhost:8080/",
          "height": 54
        }
      },
      "source": [
        "from google.colab import drive\n",
        "drive.mount('/content/drive')"
      ],
      "execution_count": null,
      "outputs": [
        {
          "output_type": "stream",
          "text": [
            "Drive already mounted at /content/drive; to attempt to forcibly remount, call drive.mount(\"/content/drive\", force_remount=True).\n"
          ],
          "name": "stdout"
        }
      ]
    },
    {
      "cell_type": "code",
      "metadata": {
        "id": "UasJlfyPe9K-"
      },
      "source": [
        "# # Setear el path de su drive personal donde se encuentran los datasets\n",
        "# #BASE_DIR = '/content/drive/My Drive/Mentoria/datasets/' # path de Nico\n",
        "# BASE_DIR = '/content/drive/My Drive/Mentoria/Practico3/data_practico_ml_supervisado/' # path de Pablo\n",
        "# #BASE_DIR = '/content/drive/My Drive/DiploDatos/Mentoria/datasets/' # path de Matt\n",
        "\n",
        "# Habilitar el siguiente path si se corre localmente\n",
        "# BASE_DIR = '/data/'"
      ],
      "execution_count": null,
      "outputs": []
    },
    {
      "cell_type": "code",
      "metadata": {
        "id": "3lqZVVPVdchi"
      },
      "source": [
        "# Datasets pobreza\n",
        "pobreza_BRA_1990_2018 = pd.read_csv(BASE_DIR +'pobreza_BRA_1990_2018.csv')\n",
        "pobreza_URU_1990_2018 = pd.read_csv(BASE_DIR+'pobreza_URU_1990_2018.csv')\n",
        "pobreza_PAR_1990_2018 = pd.read_csv(BASE_DIR+'pobreza_PAR_1990_2018.csv')\n"
      ],
      "execution_count": null,
      "outputs": []
    },
    {
      "cell_type": "code",
      "metadata": {
        "id": "J4Br7t85dcho"
      },
      "source": [
        "# Datasets protección social\n",
        "proteccionsocial_BRA_1990_2018 = pd.read_csv(BASE_DIR+'proteccionsocial_BRA_1990_2018.csv')\n",
        "proteccionsocial_URU_1990_2018 = pd.read_csv(BASE_DIR+'proteccionsocial_URU_1990_2018.csv')\n",
        "proteccionsocial_PAR_1990_2018 = pd.read_csv(BASE_DIR+'proteccionsocial_PAR_1990_2018.csv')"
      ],
      "execution_count": null,
      "outputs": []
    },
    {
      "cell_type": "code",
      "metadata": {
        "id": "t1kwJXXQdchv"
      },
      "source": [
        "# Datasets educación\n",
        "educacion_BRA_1990_2018 = pd.read_csv(BASE_DIR+'educacion_BRA_1990_2018.csv')\n",
        "educacion_URU_1990_2018 = pd.read_csv(BASE_DIR+'educacion_URU_1990_2018.csv')\n",
        "educacion_PAR_1990_2018 = pd.read_csv(BASE_DIR+'educacion_PAR_1990_2018.csv')"
      ],
      "execution_count": null,
      "outputs": []
    },
    {
      "cell_type": "markdown",
      "metadata": {
        "id": "dRBjHLMPdch0"
      },
      "source": [
        "### Filtro por indicadores"
      ]
    },
    {
      "cell_type": "markdown",
      "metadata": {
        "id": "7DJcld0sdch1"
      },
      "source": [
        "#### Pobreza"
      ]
    },
    {
      "cell_type": "code",
      "metadata": {
        "id": "nBTonhUfdch2"
      },
      "source": [
        "codigos_indicadores_pobreza = ['SI.POV.GINI','SI.POV.GAPS','SI.POV.DDAY']"
      ],
      "execution_count": null,
      "outputs": []
    },
    {
      "cell_type": "code",
      "metadata": {
        "id": "P4Uk6P7Edch8"
      },
      "source": [
        "pobreza_BRA = pobreza_BRA_1990_2018[pobreza_BRA_1990_2018['Indicator Code'].isin(codigos_indicadores_pobreza)]\n",
        "pobreza_URU = pobreza_URU_1990_2018[pobreza_URU_1990_2018['Indicator Code'].isin(codigos_indicadores_pobreza)]\n",
        "pobreza_PAR = pobreza_PAR_1990_2018[pobreza_PAR_1990_2018['Indicator Code'].isin(codigos_indicadores_pobreza)]"
      ],
      "execution_count": null,
      "outputs": []
    },
    {
      "cell_type": "code",
      "metadata": {
        "id": "YD7_897cdciA",
        "outputId": "7537bba4-51e6-42b5-fffb-c3fc160dda47",
        "colab": {
          "base_uri": "https://localhost:8080/",
          "height": 106
        }
      },
      "source": [
        "pobreza_PAR['Indicator Name'].unique()"
      ],
      "execution_count": null,
      "outputs": [
        {
          "output_type": "execute_result",
          "data": {
            "text/plain": [
              "array(['Índice de Gini',\n",
              "       'Brecha de pobreza a $1,90 por día (2011 PPA) (%)',\n",
              "       'Tasa de incidencia de la pobreza, sobre la base de $1,90 por día (2011 PPA) (% de la población)'],\n",
              "      dtype=object)"
            ]
          },
          "metadata": {
            "tags": []
          },
          "execution_count": 62
        }
      ]
    },
    {
      "cell_type": "markdown",
      "metadata": {
        "id": "MprjslrddciF"
      },
      "source": [
        "#### Protección Social"
      ]
    },
    {
      "cell_type": "code",
      "metadata": {
        "id": "VNCyjsgndciG",
        "scrolled": true
      },
      "source": [
        "codigos_indicadores_proteccionsocial = ['SL.UEM.TOTL.NE.ZS','SL.TLF.CACT.FM.ZS','SL.TLF.CACT.FM.NE.ZS']"
      ],
      "execution_count": null,
      "outputs": []
    },
    {
      "cell_type": "code",
      "metadata": {
        "id": "p4SMzB9zdciM"
      },
      "source": [
        "proteccionsocial_BRA = proteccionsocial_BRA_1990_2018[proteccionsocial_BRA_1990_2018['Indicator Code'].isin(codigos_indicadores_proteccionsocial)]\n",
        "proteccionsocial_URU = proteccionsocial_URU_1990_2018[proteccionsocial_URU_1990_2018['Indicator Code'].isin(codigos_indicadores_proteccionsocial)]\n",
        "proteccionsocial_PAR = proteccionsocial_PAR_1990_2018[proteccionsocial_PAR_1990_2018['Indicator Code'].isin(codigos_indicadores_proteccionsocial)]"
      ],
      "execution_count": null,
      "outputs": []
    },
    {
      "cell_type": "code",
      "metadata": {
        "id": "946pQOmcdciR",
        "outputId": "dcf4d053-fa5c-4ba6-d507-11fd3eb5f75c",
        "colab": {
          "base_uri": "https://localhost:8080/",
          "height": 106
        }
      },
      "source": [
        "proteccionsocial_BRA['Indicator Name'].unique()"
      ],
      "execution_count": null,
      "outputs": [
        {
          "output_type": "execute_result",
          "data": {
            "text/plain": [
              "array(['Desempleo, total (% de participación total en la fuerza laboral) (estimación nacional)',\n",
              "       'Proporcin de tasas de participacin laboral femenina y masculina (%) (estimación modelado OIT)',\n",
              "       'Proporción de participación en la fuerza laboral de mujeres y varones (%) (estimación nacional)'],\n",
              "      dtype=object)"
            ]
          },
          "metadata": {
            "tags": []
          },
          "execution_count": 65
        }
      ]
    },
    {
      "cell_type": "code",
      "metadata": {
        "id": "Vix-sNx0dciW",
        "outputId": "4222d421-ae04-413b-c8be-2a4564ff8541",
        "colab": {
          "base_uri": "https://localhost:8080/",
          "height": 598
        }
      },
      "source": [
        "proteccionsocial_BRA"
      ],
      "execution_count": null,
      "outputs": [
        {
          "output_type": "execute_result",
          "data": {
            "text/html": [
              "<div>\n",
              "<style scoped>\n",
              "    .dataframe tbody tr th:only-of-type {\n",
              "        vertical-align: middle;\n",
              "    }\n",
              "\n",
              "    .dataframe tbody tr th {\n",
              "        vertical-align: top;\n",
              "    }\n",
              "\n",
              "    .dataframe thead th {\n",
              "        text-align: right;\n",
              "    }\n",
              "</style>\n",
              "<table border=\"1\" class=\"dataframe\">\n",
              "  <thead>\n",
              "    <tr style=\"text-align: right;\">\n",
              "      <th></th>\n",
              "      <th>Country Name</th>\n",
              "      <th>Country Code</th>\n",
              "      <th>Indicator Name</th>\n",
              "      <th>Indicator Code</th>\n",
              "      <th>1990.0</th>\n",
              "      <th>1991.0</th>\n",
              "      <th>1992.0</th>\n",
              "      <th>1993.0</th>\n",
              "      <th>1994.0</th>\n",
              "      <th>1995.0</th>\n",
              "      <th>1996.0</th>\n",
              "      <th>1997.0</th>\n",
              "      <th>1998.0</th>\n",
              "      <th>1999.0</th>\n",
              "      <th>2000.0</th>\n",
              "      <th>2001.0</th>\n",
              "      <th>2002.0</th>\n",
              "      <th>2003.0</th>\n",
              "      <th>2004.0</th>\n",
              "      <th>2005.0</th>\n",
              "      <th>2006.0</th>\n",
              "      <th>2007.0</th>\n",
              "      <th>2008.0</th>\n",
              "      <th>2009.0</th>\n",
              "      <th>2010.0</th>\n",
              "      <th>2011.0</th>\n",
              "      <th>2012.0</th>\n",
              "      <th>2013.0</th>\n",
              "      <th>2014.0</th>\n",
              "      <th>2015.0</th>\n",
              "      <th>2016.0</th>\n",
              "      <th>2017.0</th>\n",
              "      <th>2018.0</th>\n",
              "    </tr>\n",
              "  </thead>\n",
              "  <tbody>\n",
              "    <tr>\n",
              "      <th>0</th>\n",
              "      <td>Brasil</td>\n",
              "      <td>BRA</td>\n",
              "      <td>Desempleo, total (% de participación total en la fuerza laboral) (estimación nacional)</td>\n",
              "      <td>SL.UEM.TOTL.NE.ZS</td>\n",
              "      <td>3.690000</td>\n",
              "      <td>5.055000</td>\n",
              "      <td>6.420000</td>\n",
              "      <td>6.030000</td>\n",
              "      <td>6.225250</td>\n",
              "      <td>6.420500</td>\n",
              "      <td>7.253400</td>\n",
              "      <td>8.158400</td>\n",
              "      <td>9.422800</td>\n",
              "      <td>10.208300</td>\n",
              "      <td>9.909350</td>\n",
              "      <td>9.610400</td>\n",
              "      <td>9.370900</td>\n",
              "      <td>9.991000</td>\n",
              "      <td>9.105200</td>\n",
              "      <td>9.567700</td>\n",
              "      <td>8.639500</td>\n",
              "      <td>8.327300</td>\n",
              "      <td>7.342600</td>\n",
              "      <td>8.522100</td>\n",
              "      <td>7.719550</td>\n",
              "      <td>6.917000</td>\n",
              "      <td>7.185700</td>\n",
              "      <td>6.976400</td>\n",
              "      <td>6.661200</td>\n",
              "      <td>8.426700</td>\n",
              "      <td>11.599900</td>\n",
              "      <td>12.822400</td>\n",
              "      <td>12.333800</td>\n",
              "    </tr>\n",
              "    <tr>\n",
              "      <th>5</th>\n",
              "      <td>Brasil</td>\n",
              "      <td>BRA</td>\n",
              "      <td>Proporcin de tasas de participacin laboral femenina y masculina (%) (estimación modelado OIT)</td>\n",
              "      <td>SL.TLF.CACT.FM.ZS</td>\n",
              "      <td>50.196931</td>\n",
              "      <td>50.499762</td>\n",
              "      <td>52.370154</td>\n",
              "      <td>54.279407</td>\n",
              "      <td>56.223705</td>\n",
              "      <td>58.200648</td>\n",
              "      <td>58.204175</td>\n",
              "      <td>58.980117</td>\n",
              "      <td>60.447570</td>\n",
              "      <td>62.135357</td>\n",
              "      <td>63.869804</td>\n",
              "      <td>65.653999</td>\n",
              "      <td>67.378769</td>\n",
              "      <td>68.038635</td>\n",
              "      <td>69.098641</td>\n",
              "      <td>70.447685</td>\n",
              "      <td>70.535980</td>\n",
              "      <td>70.555513</td>\n",
              "      <td>70.346964</td>\n",
              "      <td>71.002781</td>\n",
              "      <td>69.959603</td>\n",
              "      <td>68.908161</td>\n",
              "      <td>69.641806</td>\n",
              "      <td>69.637640</td>\n",
              "      <td>69.893991</td>\n",
              "      <td>70.804848</td>\n",
              "      <td>71.184286</td>\n",
              "      <td>72.654804</td>\n",
              "      <td>73.180848</td>\n",
              "    </tr>\n",
              "    <tr>\n",
              "      <th>6</th>\n",
              "      <td>Brasil</td>\n",
              "      <td>BRA</td>\n",
              "      <td>Proporción de participación en la fuerza laboral de mujeres y varones (%) (estimación nacional)</td>\n",
              "      <td>SL.TLF.CACT.FM.NE.ZS</td>\n",
              "      <td>52.051556</td>\n",
              "      <td>52.051556</td>\n",
              "      <td>61.589794</td>\n",
              "      <td>61.858219</td>\n",
              "      <td>60.583450</td>\n",
              "      <td>59.308681</td>\n",
              "      <td>59.348093</td>\n",
              "      <td>59.981109</td>\n",
              "      <td>61.320042</td>\n",
              "      <td>62.880824</td>\n",
              "      <td>64.831101</td>\n",
              "      <td>66.781379</td>\n",
              "      <td>68.430204</td>\n",
              "      <td>69.052496</td>\n",
              "      <td>70.109272</td>\n",
              "      <td>71.354868</td>\n",
              "      <td>71.487097</td>\n",
              "      <td>71.611070</td>\n",
              "      <td>71.245450</td>\n",
              "      <td>71.893508</td>\n",
              "      <td>70.935170</td>\n",
              "      <td>69.976833</td>\n",
              "      <td>69.410888</td>\n",
              "      <td>69.333404</td>\n",
              "      <td>69.637027</td>\n",
              "      <td>70.603539</td>\n",
              "      <td>70.852825</td>\n",
              "      <td>72.463443</td>\n",
              "      <td>73.006388</td>\n",
              "    </tr>\n",
              "  </tbody>\n",
              "</table>\n",
              "</div>"
            ],
            "text/plain": [
              "  Country Name Country Code  ...     2017.0     2018.0\n",
              "0  Brasil       BRA          ...  12.822400  12.333800\n",
              "5  Brasil       BRA          ...  72.654804  73.180848\n",
              "6  Brasil       BRA          ...  72.463443  73.006388\n",
              "\n",
              "[3 rows x 33 columns]"
            ]
          },
          "metadata": {
            "tags": []
          },
          "execution_count": 66
        }
      ]
    },
    {
      "cell_type": "markdown",
      "metadata": {
        "id": "Rq6Qt7y6dcic"
      },
      "source": [
        "#### Educación"
      ]
    },
    {
      "cell_type": "code",
      "metadata": {
        "id": "YYOtZfcndcic"
      },
      "source": [
        "codigos_indicadores_educacion = ['SL.TLF.TOTL.IN','SE.SEC.ENRL.GC','SE.PRM.CMPT.ZS']"
      ],
      "execution_count": null,
      "outputs": []
    },
    {
      "cell_type": "code",
      "metadata": {
        "id": "_J-AWbxHdcih"
      },
      "source": [
        "educacion_BRA = educacion_BRA_1990_2018[educacion_BRA_1990_2018['Indicator Code'].isin(codigos_indicadores_educacion)]\n",
        "educacion_URU = educacion_URU_1990_2018[educacion_URU_1990_2018['Indicator Code'].isin(codigos_indicadores_educacion)]\n",
        "educacion_PAR = educacion_PAR_1990_2018[educacion_PAR_1990_2018['Indicator Code'].isin(codigos_indicadores_educacion)]"
      ],
      "execution_count": null,
      "outputs": []
    },
    {
      "cell_type": "code",
      "metadata": {
        "id": "n4S9YqIHdcil",
        "outputId": "dd7da51b-5e12-407d-9ec1-097a5e2a9f79",
        "colab": {
          "base_uri": "https://localhost:8080/",
          "height": 69
        }
      },
      "source": [
        "educacion_BRA['Indicator Name'].unique()"
      ],
      "execution_count": null,
      "outputs": [
        {
          "output_type": "execute_result",
          "data": {
            "text/plain": [
              "array(['Población activa, total',\n",
              "       'Educación de nivel secundario, alumnos en programas de educación general'],\n",
              "      dtype=object)"
            ]
          },
          "metadata": {
            "tags": []
          },
          "execution_count": 69
        }
      ]
    },
    {
      "cell_type": "code",
      "metadata": {
        "id": "vQU27PhEdcip",
        "outputId": "94f0990d-30fb-42d3-a5c7-754c01558a0c",
        "colab": {
          "base_uri": "https://localhost:8080/",
          "height": 323
        }
      },
      "source": [
        "educacion_BRA"
      ],
      "execution_count": null,
      "outputs": [
        {
          "output_type": "execute_result",
          "data": {
            "text/html": [
              "<div>\n",
              "<style scoped>\n",
              "    .dataframe tbody tr th:only-of-type {\n",
              "        vertical-align: middle;\n",
              "    }\n",
              "\n",
              "    .dataframe tbody tr th {\n",
              "        vertical-align: top;\n",
              "    }\n",
              "\n",
              "    .dataframe thead th {\n",
              "        text-align: right;\n",
              "    }\n",
              "</style>\n",
              "<table border=\"1\" class=\"dataframe\">\n",
              "  <thead>\n",
              "    <tr style=\"text-align: right;\">\n",
              "      <th></th>\n",
              "      <th>Country Name</th>\n",
              "      <th>Country Code</th>\n",
              "      <th>Indicator Name</th>\n",
              "      <th>Indicator Code</th>\n",
              "      <th>1990.0</th>\n",
              "      <th>1991.0</th>\n",
              "      <th>1992.0</th>\n",
              "      <th>1993.0</th>\n",
              "      <th>1994.0</th>\n",
              "      <th>1995.0</th>\n",
              "      <th>1996.0</th>\n",
              "      <th>1997.0</th>\n",
              "      <th>1998.0</th>\n",
              "      <th>1999.0</th>\n",
              "      <th>2000.0</th>\n",
              "      <th>2001.0</th>\n",
              "      <th>2002.0</th>\n",
              "      <th>2003.0</th>\n",
              "      <th>2004.0</th>\n",
              "      <th>2005.0</th>\n",
              "      <th>2006.0</th>\n",
              "      <th>2007.0</th>\n",
              "      <th>2008.0</th>\n",
              "      <th>2009.0</th>\n",
              "      <th>2010.0</th>\n",
              "      <th>2011.0</th>\n",
              "      <th>2012.0</th>\n",
              "      <th>2013.0</th>\n",
              "      <th>2014.0</th>\n",
              "      <th>2015.0</th>\n",
              "      <th>2016.0</th>\n",
              "      <th>2017.0</th>\n",
              "      <th>2018.0</th>\n",
              "    </tr>\n",
              "  </thead>\n",
              "  <tbody>\n",
              "    <tr>\n",
              "      <th>4</th>\n",
              "      <td>Brasil</td>\n",
              "      <td>BRA</td>\n",
              "      <td>Población activa, total</td>\n",
              "      <td>SL.TLF.TOTL.IN</td>\n",
              "      <td>59920078.0</td>\n",
              "      <td>61473096.0</td>\n",
              "      <td>63397868.0</td>\n",
              "      <td>65352451.0</td>\n",
              "      <td>67376427.0</td>\n",
              "      <td>69484734.0</td>\n",
              "      <td>69626959.0</td>\n",
              "      <td>72072769.0</td>\n",
              "      <td>74043475.0</td>\n",
              "      <td>76474668.0</td>\n",
              "      <td>78492808.0</td>\n",
              "      <td>80429456.0</td>\n",
              "      <td>82986830.0</td>\n",
              "      <td>84687253.0</td>\n",
              "      <td>87249646.0</td>\n",
              "      <td>89725161.0</td>\n",
              "      <td>90821471.0</td>\n",
              "      <td>91963822.0</td>\n",
              "      <td>93486539.0</td>\n",
              "      <td>95333404.0</td>\n",
              "      <td>95231965.0</td>\n",
              "      <td>95052710.0</td>\n",
              "      <td>97597798.0</td>\n",
              "      <td>98903783.0</td>\n",
              "      <td>99932834.0</td>\n",
              "      <td>101600929.0</td>\n",
              "      <td>102508951.0</td>\n",
              "      <td>104260712.0</td>\n",
              "      <td>105542232.0</td>\n",
              "    </tr>\n",
              "    <tr>\n",
              "      <th>5</th>\n",
              "      <td>Brasil</td>\n",
              "      <td>BRA</td>\n",
              "      <td>Educación de nivel secundario, alumnos en programas de educación general</td>\n",
              "      <td>SE.SEC.ENRL.GC</td>\n",
              "      <td>12130155.0</td>\n",
              "      <td>13971090.0</td>\n",
              "      <td>14960211.0</td>\n",
              "      <td>15322543.0</td>\n",
              "      <td>15799825.0</td>\n",
              "      <td>17332329.0</td>\n",
              "      <td>18864833.0</td>\n",
              "      <td>20397337.0</td>\n",
              "      <td>21929841.0</td>\n",
              "      <td>23462345.0</td>\n",
              "      <td>25094296.0</td>\n",
              "      <td>25126886.0</td>\n",
              "      <td>26317983.0</td>\n",
              "      <td>24140227.0</td>\n",
              "      <td>24437536.0</td>\n",
              "      <td>24109589.0</td>\n",
              "      <td>23268100.5</td>\n",
              "      <td>22426612.0</td>\n",
              "      <td>22516085.0</td>\n",
              "      <td>22384267.0</td>\n",
              "      <td>22215054.0</td>\n",
              "      <td>21982889.0</td>\n",
              "      <td>21637503.0</td>\n",
              "      <td>24006493.0</td>\n",
              "      <td>23326279.0</td>\n",
              "      <td>22607924.0</td>\n",
              "      <td>22559870.0</td>\n",
              "      <td>22161547.0</td>\n",
              "      <td>22161547.0</td>\n",
              "    </tr>\n",
              "  </tbody>\n",
              "</table>\n",
              "</div>"
            ],
            "text/plain": [
              "  Country Name Country Code  ...       2017.0       2018.0\n",
              "4  Brasil       BRA          ...  104260712.0  105542232.0\n",
              "5  Brasil       BRA          ...  22161547.0   22161547.0 \n",
              "\n",
              "[2 rows x 33 columns]"
            ]
          },
          "metadata": {
            "tags": []
          },
          "execution_count": 70
        }
      ]
    },
    {
      "cell_type": "markdown",
      "metadata": {
        "id": "YxRlK2Mudciu"
      },
      "source": [
        "## Construccion del dataset para modelos de supervisado"
      ]
    },
    {
      "cell_type": "code",
      "metadata": {
        "id": "nIBqcNU5dciv"
      },
      "source": [
        "variables_educacion = ['SL.TLF.TOTL.IN']\n",
        "variables_proteccionsocial = ['SL.UEM.TOTL.NE.ZS']\n",
        "variables_pobreza = codigos_indicadores_pobreza"
      ],
      "execution_count": null,
      "outputs": []
    },
    {
      "cell_type": "markdown",
      "metadata": {
        "id": "K8UYNOY7dciz"
      },
      "source": [
        "### Variables tomadas de Educación"
      ]
    },
    {
      "cell_type": "code",
      "metadata": {
        "id": "LF43xSxFdci0"
      },
      "source": [
        "def generacion_dataset(dataset,lista_indicadores,pais_string):\n",
        "    dataset = dataset[dataset['Indicator Code'].isin(lista_indicadores)]\n",
        "    df = dataset.drop(['Country Name', 'Country Code', 'Indicator Code'],axis=1)\n",
        "    df = df.columns.to_frame().T.append(df, ignore_index=True)\n",
        "    df.columns = range(len(df.columns))\n",
        "    df1 = df.T\n",
        "    df1.columns = df1.iloc[0]\n",
        "    df1 = df1.drop(df1.index[0])\n",
        "    df1['Country'] = pais_string\n",
        "    return df1"
      ],
      "execution_count": null,
      "outputs": []
    },
    {
      "cell_type": "code",
      "metadata": {
        "id": "KNqxRWYwdci3"
      },
      "source": [
        "df_educacion_PAR = generacion_dataset(educacion_PAR,variables_educacion,'PAR')\n",
        "df_educacion_BRA = generacion_dataset(educacion_BRA,variables_educacion,'BRA')\n",
        "df_educacion_URU = generacion_dataset(educacion_URU,variables_educacion,'URU')"
      ],
      "execution_count": null,
      "outputs": []
    },
    {
      "cell_type": "code",
      "metadata": {
        "id": "uC06J9OOdci7",
        "scrolled": true,
        "outputId": "ec780251-5e71-43da-8d31-dac0ee2ea3d1",
        "colab": {
          "base_uri": "https://localhost:8080/",
          "height": 424
        }
      },
      "source": [
        "educacion = pd.concat([df_educacion_PAR, df_educacion_BRA,df_educacion_URU])\n",
        "educacion"
      ],
      "execution_count": null,
      "outputs": [
        {
          "output_type": "execute_result",
          "data": {
            "text/html": [
              "<div>\n",
              "<style scoped>\n",
              "    .dataframe tbody tr th:only-of-type {\n",
              "        vertical-align: middle;\n",
              "    }\n",
              "\n",
              "    .dataframe tbody tr th {\n",
              "        vertical-align: top;\n",
              "    }\n",
              "\n",
              "    .dataframe thead th {\n",
              "        text-align: right;\n",
              "    }\n",
              "</style>\n",
              "<table border=\"1\" class=\"dataframe\">\n",
              "  <thead>\n",
              "    <tr style=\"text-align: right;\">\n",
              "      <th></th>\n",
              "      <th>Indicator Name</th>\n",
              "      <th>Población activa, total</th>\n",
              "      <th>Country</th>\n",
              "    </tr>\n",
              "  </thead>\n",
              "  <tbody>\n",
              "    <tr>\n",
              "      <th>1</th>\n",
              "      <td>1990.0</td>\n",
              "      <td>1.7066e+06</td>\n",
              "      <td>PAR</td>\n",
              "    </tr>\n",
              "    <tr>\n",
              "      <th>2</th>\n",
              "      <td>1991.0</td>\n",
              "      <td>1.75702e+06</td>\n",
              "      <td>PAR</td>\n",
              "    </tr>\n",
              "    <tr>\n",
              "      <th>3</th>\n",
              "      <td>1992.0</td>\n",
              "      <td>1.80544e+06</td>\n",
              "      <td>PAR</td>\n",
              "    </tr>\n",
              "    <tr>\n",
              "      <th>4</th>\n",
              "      <td>1993.0</td>\n",
              "      <td>1.86062e+06</td>\n",
              "      <td>PAR</td>\n",
              "    </tr>\n",
              "    <tr>\n",
              "      <th>5</th>\n",
              "      <td>1994.0</td>\n",
              "      <td>1.9188e+06</td>\n",
              "      <td>PAR</td>\n",
              "    </tr>\n",
              "    <tr>\n",
              "      <th>...</th>\n",
              "      <td>...</td>\n",
              "      <td>...</td>\n",
              "      <td>...</td>\n",
              "    </tr>\n",
              "    <tr>\n",
              "      <th>25</th>\n",
              "      <td>2014.0</td>\n",
              "      <td>1.75016e+06</td>\n",
              "      <td>URU</td>\n",
              "    </tr>\n",
              "    <tr>\n",
              "      <th>26</th>\n",
              "      <td>2015.0</td>\n",
              "      <td>1.74923e+06</td>\n",
              "      <td>URU</td>\n",
              "    </tr>\n",
              "    <tr>\n",
              "      <th>27</th>\n",
              "      <td>2016.0</td>\n",
              "      <td>1.75087e+06</td>\n",
              "      <td>URU</td>\n",
              "    </tr>\n",
              "    <tr>\n",
              "      <th>28</th>\n",
              "      <td>2017.0</td>\n",
              "      <td>1.74827e+06</td>\n",
              "      <td>URU</td>\n",
              "    </tr>\n",
              "    <tr>\n",
              "      <th>29</th>\n",
              "      <td>2018.0</td>\n",
              "      <td>1.74988e+06</td>\n",
              "      <td>URU</td>\n",
              "    </tr>\n",
              "  </tbody>\n",
              "</table>\n",
              "<p>87 rows × 3 columns</p>\n",
              "</div>"
            ],
            "text/plain": [
              "0  Indicator Name Población activa, total Country\n",
              "1   1990.0         1.7066e+06              PAR   \n",
              "2   1991.0         1.75702e+06             PAR   \n",
              "3   1992.0         1.80544e+06             PAR   \n",
              "4   1993.0         1.86062e+06             PAR   \n",
              "5   1994.0         1.9188e+06              PAR   \n",
              "..     ...                ...              ...   \n",
              "25  2014.0         1.75016e+06             URU   \n",
              "26  2015.0         1.74923e+06             URU   \n",
              "27  2016.0         1.75087e+06             URU   \n",
              "28  2017.0         1.74827e+06             URU   \n",
              "29  2018.0         1.74988e+06             URU   \n",
              "\n",
              "[87 rows x 3 columns]"
            ]
          },
          "metadata": {
            "tags": []
          },
          "execution_count": 74
        }
      ]
    },
    {
      "cell_type": "markdown",
      "metadata": {
        "id": "G_h2KEyYdcjA"
      },
      "source": [
        "### Variables tomadas de Protección Social"
      ]
    },
    {
      "cell_type": "code",
      "metadata": {
        "id": "mkimU3v-dcjA"
      },
      "source": [
        "df_psocial_PAR = generacion_dataset(proteccionsocial_PAR,variables_proteccionsocial,'PAR')\n",
        "df_psocial_BRA = generacion_dataset(proteccionsocial_BRA,variables_proteccionsocial,'BRA')\n",
        "df_psocial_URU = generacion_dataset(proteccionsocial_URU,variables_proteccionsocial,'URU')"
      ],
      "execution_count": null,
      "outputs": []
    },
    {
      "cell_type": "code",
      "metadata": {
        "id": "XxBrBWv2dcjD",
        "outputId": "2f129d73-cb77-426f-bb75-b244d36fb93e",
        "colab": {
          "base_uri": "https://localhost:8080/",
          "height": 441
        }
      },
      "source": [
        "psocial = pd.concat([df_psocial_PAR, df_psocial_BRA,df_psocial_URU])\n",
        "psocial"
      ],
      "execution_count": null,
      "outputs": [
        {
          "output_type": "execute_result",
          "data": {
            "text/html": [
              "<div>\n",
              "<style scoped>\n",
              "    .dataframe tbody tr th:only-of-type {\n",
              "        vertical-align: middle;\n",
              "    }\n",
              "\n",
              "    .dataframe tbody tr th {\n",
              "        vertical-align: top;\n",
              "    }\n",
              "\n",
              "    .dataframe thead th {\n",
              "        text-align: right;\n",
              "    }\n",
              "</style>\n",
              "<table border=\"1\" class=\"dataframe\">\n",
              "  <thead>\n",
              "    <tr style=\"text-align: right;\">\n",
              "      <th></th>\n",
              "      <th>Indicator Name</th>\n",
              "      <th>Desempleo, total (% de participación total en la fuerza laboral) (estimación nacional)</th>\n",
              "      <th>Country</th>\n",
              "    </tr>\n",
              "  </thead>\n",
              "  <tbody>\n",
              "    <tr>\n",
              "      <th>1</th>\n",
              "      <td>1990.0</td>\n",
              "      <td>5.8</td>\n",
              "      <td>PAR</td>\n",
              "    </tr>\n",
              "    <tr>\n",
              "      <th>2</th>\n",
              "      <td>1991.0</td>\n",
              "      <td>5.1</td>\n",
              "      <td>PAR</td>\n",
              "    </tr>\n",
              "    <tr>\n",
              "      <th>3</th>\n",
              "      <td>1992.0</td>\n",
              "      <td>4.98</td>\n",
              "      <td>PAR</td>\n",
              "    </tr>\n",
              "    <tr>\n",
              "      <th>4</th>\n",
              "      <td>1993.0</td>\n",
              "      <td>5.06</td>\n",
              "      <td>PAR</td>\n",
              "    </tr>\n",
              "    <tr>\n",
              "      <th>5</th>\n",
              "      <td>1994.0</td>\n",
              "      <td>4.41</td>\n",
              "      <td>PAR</td>\n",
              "    </tr>\n",
              "    <tr>\n",
              "      <th>...</th>\n",
              "      <td>...</td>\n",
              "      <td>...</td>\n",
              "      <td>...</td>\n",
              "    </tr>\n",
              "    <tr>\n",
              "      <th>25</th>\n",
              "      <td>2014.0</td>\n",
              "      <td>6.5474</td>\n",
              "      <td>URU</td>\n",
              "    </tr>\n",
              "    <tr>\n",
              "      <th>26</th>\n",
              "      <td>2015.0</td>\n",
              "      <td>7.4879</td>\n",
              "      <td>URU</td>\n",
              "    </tr>\n",
              "    <tr>\n",
              "      <th>27</th>\n",
              "      <td>2016.0</td>\n",
              "      <td>7.8406</td>\n",
              "      <td>URU</td>\n",
              "    </tr>\n",
              "    <tr>\n",
              "      <th>28</th>\n",
              "      <td>2017.0</td>\n",
              "      <td>7.8896</td>\n",
              "      <td>URU</td>\n",
              "    </tr>\n",
              "    <tr>\n",
              "      <th>29</th>\n",
              "      <td>2018.0</td>\n",
              "      <td>8.3358</td>\n",
              "      <td>URU</td>\n",
              "    </tr>\n",
              "  </tbody>\n",
              "</table>\n",
              "<p>87 rows × 3 columns</p>\n",
              "</div>"
            ],
            "text/plain": [
              "0  Indicator Name  ... Country\n",
              "1   1990.0         ...  PAR   \n",
              "2   1991.0         ...  PAR   \n",
              "3   1992.0         ...  PAR   \n",
              "4   1993.0         ...  PAR   \n",
              "5   1994.0         ...  PAR   \n",
              "..     ...         ...  ...   \n",
              "25  2014.0         ...  URU   \n",
              "26  2015.0         ...  URU   \n",
              "27  2016.0         ...  URU   \n",
              "28  2017.0         ...  URU   \n",
              "29  2018.0         ...  URU   \n",
              "\n",
              "[87 rows x 3 columns]"
            ]
          },
          "metadata": {
            "tags": []
          },
          "execution_count": 76
        }
      ]
    },
    {
      "cell_type": "markdown",
      "metadata": {
        "id": "mSoGA1SAdcjJ"
      },
      "source": [
        "### Variables tomadas de Pobreza"
      ]
    },
    {
      "cell_type": "code",
      "metadata": {
        "id": "NuLAOW0XdcjK"
      },
      "source": [
        "pobreza_PAR = generacion_dataset(pobreza_PAR,variables_pobreza,'PAR')\n",
        "pobreza_BRA = generacion_dataset(pobreza_BRA,variables_pobreza,'BRA')\n",
        "pobreza_URU = generacion_dataset(pobreza_URU,variables_pobreza,'URU')"
      ],
      "execution_count": null,
      "outputs": []
    },
    {
      "cell_type": "code",
      "metadata": {
        "id": "V5di-7MVdcjO",
        "outputId": "bfb3f84e-82df-49bc-91e0-9ee409f812c0",
        "colab": {
          "base_uri": "https://localhost:8080/",
          "height": 241
        }
      },
      "source": [
        "pobreza_BRA.head()"
      ],
      "execution_count": null,
      "outputs": [
        {
          "output_type": "execute_result",
          "data": {
            "text/html": [
              "<div>\n",
              "<style scoped>\n",
              "    .dataframe tbody tr th:only-of-type {\n",
              "        vertical-align: middle;\n",
              "    }\n",
              "\n",
              "    .dataframe tbody tr th {\n",
              "        vertical-align: top;\n",
              "    }\n",
              "\n",
              "    .dataframe thead th {\n",
              "        text-align: right;\n",
              "    }\n",
              "</style>\n",
              "<table border=\"1\" class=\"dataframe\">\n",
              "  <thead>\n",
              "    <tr style=\"text-align: right;\">\n",
              "      <th></th>\n",
              "      <th>Indicator Name</th>\n",
              "      <th>Índice de Gini</th>\n",
              "      <th>Brecha de pobreza a $1,90 por día (2011 PPA) (%)</th>\n",
              "      <th>Tasa de incidencia de la pobreza, sobre la base de $1,90 por día (2011 PPA) (% de la población)</th>\n",
              "      <th>Country</th>\n",
              "    </tr>\n",
              "  </thead>\n",
              "  <tbody>\n",
              "    <tr>\n",
              "      <th>1</th>\n",
              "      <td>1990.0</td>\n",
              "      <td>60.5</td>\n",
              "      <td>8.7</td>\n",
              "      <td>21.6</td>\n",
              "      <td>BRA</td>\n",
              "    </tr>\n",
              "    <tr>\n",
              "      <th>2</th>\n",
              "      <td>1991.0</td>\n",
              "      <td>56.85</td>\n",
              "      <td>8.9</td>\n",
              "      <td>21.25</td>\n",
              "      <td>BRA</td>\n",
              "    </tr>\n",
              "    <tr>\n",
              "      <th>3</th>\n",
              "      <td>1992.0</td>\n",
              "      <td>53.2</td>\n",
              "      <td>9.1</td>\n",
              "      <td>20.9</td>\n",
              "      <td>BRA</td>\n",
              "    </tr>\n",
              "    <tr>\n",
              "      <th>4</th>\n",
              "      <td>1993.0</td>\n",
              "      <td>60.1</td>\n",
              "      <td>8.6</td>\n",
              "      <td>19.9</td>\n",
              "      <td>BRA</td>\n",
              "    </tr>\n",
              "    <tr>\n",
              "      <th>5</th>\n",
              "      <td>1994.0</td>\n",
              "      <td>59.85</td>\n",
              "      <td>6.95</td>\n",
              "      <td>16.45</td>\n",
              "      <td>BRA</td>\n",
              "    </tr>\n",
              "  </tbody>\n",
              "</table>\n",
              "</div>"
            ],
            "text/plain": [
              "0 Indicator Name  ... Country\n",
              "1  1990.0         ...  BRA   \n",
              "2  1991.0         ...  BRA   \n",
              "3  1992.0         ...  BRA   \n",
              "4  1993.0         ...  BRA   \n",
              "5  1994.0         ...  BRA   \n",
              "\n",
              "[5 rows x 5 columns]"
            ]
          },
          "metadata": {
            "tags": []
          },
          "execution_count": 78
        }
      ]
    },
    {
      "cell_type": "code",
      "metadata": {
        "id": "cveQ3oN1dcjS",
        "scrolled": true,
        "outputId": "94c12ca9-f024-4484-d257-e68ced27f317",
        "colab": {
          "base_uri": "https://localhost:8080/",
          "height": 458
        }
      },
      "source": [
        "pobreza = pd.concat([pobreza_PAR,pobreza_BRA,pobreza_URU])\n",
        "pobreza"
      ],
      "execution_count": null,
      "outputs": [
        {
          "output_type": "execute_result",
          "data": {
            "text/html": [
              "<div>\n",
              "<style scoped>\n",
              "    .dataframe tbody tr th:only-of-type {\n",
              "        vertical-align: middle;\n",
              "    }\n",
              "\n",
              "    .dataframe tbody tr th {\n",
              "        vertical-align: top;\n",
              "    }\n",
              "\n",
              "    .dataframe thead th {\n",
              "        text-align: right;\n",
              "    }\n",
              "</style>\n",
              "<table border=\"1\" class=\"dataframe\">\n",
              "  <thead>\n",
              "    <tr style=\"text-align: right;\">\n",
              "      <th></th>\n",
              "      <th>Indicator Name</th>\n",
              "      <th>Índice de Gini</th>\n",
              "      <th>Brecha de pobreza a $1,90 por día (2011 PPA) (%)</th>\n",
              "      <th>Tasa de incidencia de la pobreza, sobre la base de $1,90 por día (2011 PPA) (% de la población)</th>\n",
              "      <th>Country</th>\n",
              "    </tr>\n",
              "  </thead>\n",
              "  <tbody>\n",
              "    <tr>\n",
              "      <th>1</th>\n",
              "      <td>1990.0</td>\n",
              "      <td>40.8</td>\n",
              "      <td>0.3</td>\n",
              "      <td>1.2</td>\n",
              "      <td>PAR</td>\n",
              "    </tr>\n",
              "    <tr>\n",
              "      <th>2</th>\n",
              "      <td>1991.0</td>\n",
              "      <td>44.28</td>\n",
              "      <td>1.3</td>\n",
              "      <td>3.44</td>\n",
              "      <td>PAR</td>\n",
              "    </tr>\n",
              "    <tr>\n",
              "      <th>3</th>\n",
              "      <td>1992.0</td>\n",
              "      <td>47.76</td>\n",
              "      <td>2.3</td>\n",
              "      <td>5.68</td>\n",
              "      <td>PAR</td>\n",
              "    </tr>\n",
              "    <tr>\n",
              "      <th>4</th>\n",
              "      <td>1993.0</td>\n",
              "      <td>51.24</td>\n",
              "      <td>3.3</td>\n",
              "      <td>7.92</td>\n",
              "      <td>PAR</td>\n",
              "    </tr>\n",
              "    <tr>\n",
              "      <th>5</th>\n",
              "      <td>1994.0</td>\n",
              "      <td>54.72</td>\n",
              "      <td>4.3</td>\n",
              "      <td>10.16</td>\n",
              "      <td>PAR</td>\n",
              "    </tr>\n",
              "    <tr>\n",
              "      <th>...</th>\n",
              "      <td>...</td>\n",
              "      <td>...</td>\n",
              "      <td>...</td>\n",
              "      <td>...</td>\n",
              "      <td>...</td>\n",
              "    </tr>\n",
              "    <tr>\n",
              "      <th>25</th>\n",
              "      <td>2014.0</td>\n",
              "      <td>40.1</td>\n",
              "      <td>0</td>\n",
              "      <td>0.1</td>\n",
              "      <td>URU</td>\n",
              "    </tr>\n",
              "    <tr>\n",
              "      <th>26</th>\n",
              "      <td>2015.0</td>\n",
              "      <td>40.1</td>\n",
              "      <td>0</td>\n",
              "      <td>0.1</td>\n",
              "      <td>URU</td>\n",
              "    </tr>\n",
              "    <tr>\n",
              "      <th>27</th>\n",
              "      <td>2016.0</td>\n",
              "      <td>39.7</td>\n",
              "      <td>0</td>\n",
              "      <td>0.1</td>\n",
              "      <td>URU</td>\n",
              "    </tr>\n",
              "    <tr>\n",
              "      <th>28</th>\n",
              "      <td>2017.0</td>\n",
              "      <td>39.5</td>\n",
              "      <td>0</td>\n",
              "      <td>0.1</td>\n",
              "      <td>URU</td>\n",
              "    </tr>\n",
              "    <tr>\n",
              "      <th>29</th>\n",
              "      <td>2018.0</td>\n",
              "      <td>39.7</td>\n",
              "      <td>0</td>\n",
              "      <td>0.1</td>\n",
              "      <td>URU</td>\n",
              "    </tr>\n",
              "  </tbody>\n",
              "</table>\n",
              "<p>87 rows × 5 columns</p>\n",
              "</div>"
            ],
            "text/plain": [
              "0  Indicator Name  ... Country\n",
              "1   1990.0         ...  PAR   \n",
              "2   1991.0         ...  PAR   \n",
              "3   1992.0         ...  PAR   \n",
              "4   1993.0         ...  PAR   \n",
              "5   1994.0         ...  PAR   \n",
              "..     ...         ...  ...   \n",
              "25  2014.0         ...  URU   \n",
              "26  2015.0         ...  URU   \n",
              "27  2016.0         ...  URU   \n",
              "28  2017.0         ...  URU   \n",
              "29  2018.0         ...  URU   \n",
              "\n",
              "[87 rows x 5 columns]"
            ]
          },
          "metadata": {
            "tags": []
          },
          "execution_count": 79
        }
      ]
    },
    {
      "cell_type": "code",
      "metadata": {
        "id": "R6fQZm7_dcjV"
      },
      "source": [
        "dfmer1 = pd.merge(educacion, pobreza, on=[\"Country\",'Indicator Name'])\n",
        "df_final = dfmer1.merge(psocial,on=[\"Country\",'Indicator Name'])\n",
        "df_final.columns = ['Year', 'Población activa, total', 'Country',\n",
        "       'Índice de Gini', 'Brecha de pobreza a $1,90 por día (2011 PPA) (%)',\n",
        "       'Tasa de incidencia de la pobreza, sobre la base de $1,90 por día (2011 PPA) (% de la población)',\n",
        "       'Desempleo, total (% de participación total en la fuerza laboral) (estimación nacional)']"
      ],
      "execution_count": null,
      "outputs": []
    },
    {
      "cell_type": "code",
      "metadata": {
        "id": "9Gocvrc8EIGW",
        "outputId": "e73ea25c-9710-4fdc-9836-bd946710017f",
        "colab": {
          "base_uri": "https://localhost:8080/",
          "height": 511
        }
      },
      "source": [
        "df_final"
      ],
      "execution_count": null,
      "outputs": [
        {
          "output_type": "execute_result",
          "data": {
            "text/html": [
              "<div>\n",
              "<style scoped>\n",
              "    .dataframe tbody tr th:only-of-type {\n",
              "        vertical-align: middle;\n",
              "    }\n",
              "\n",
              "    .dataframe tbody tr th {\n",
              "        vertical-align: top;\n",
              "    }\n",
              "\n",
              "    .dataframe thead th {\n",
              "        text-align: right;\n",
              "    }\n",
              "</style>\n",
              "<table border=\"1\" class=\"dataframe\">\n",
              "  <thead>\n",
              "    <tr style=\"text-align: right;\">\n",
              "      <th></th>\n",
              "      <th>Year</th>\n",
              "      <th>Población activa, total</th>\n",
              "      <th>Country</th>\n",
              "      <th>Índice de Gini</th>\n",
              "      <th>Brecha de pobreza a $1,90 por día (2011 PPA) (%)</th>\n",
              "      <th>Tasa de incidencia de la pobreza, sobre la base de $1,90 por día (2011 PPA) (% de la población)</th>\n",
              "      <th>Desempleo, total (% de participación total en la fuerza laboral) (estimación nacional)</th>\n",
              "    </tr>\n",
              "  </thead>\n",
              "  <tbody>\n",
              "    <tr>\n",
              "      <th>0</th>\n",
              "      <td>1990.0</td>\n",
              "      <td>1.7066e+06</td>\n",
              "      <td>PAR</td>\n",
              "      <td>40.8</td>\n",
              "      <td>0.3</td>\n",
              "      <td>1.2</td>\n",
              "      <td>5.8</td>\n",
              "    </tr>\n",
              "    <tr>\n",
              "      <th>1</th>\n",
              "      <td>1991.0</td>\n",
              "      <td>1.75702e+06</td>\n",
              "      <td>PAR</td>\n",
              "      <td>44.28</td>\n",
              "      <td>1.3</td>\n",
              "      <td>3.44</td>\n",
              "      <td>5.1</td>\n",
              "    </tr>\n",
              "    <tr>\n",
              "      <th>2</th>\n",
              "      <td>1992.0</td>\n",
              "      <td>1.80544e+06</td>\n",
              "      <td>PAR</td>\n",
              "      <td>47.76</td>\n",
              "      <td>2.3</td>\n",
              "      <td>5.68</td>\n",
              "      <td>4.98</td>\n",
              "    </tr>\n",
              "    <tr>\n",
              "      <th>3</th>\n",
              "      <td>1993.0</td>\n",
              "      <td>1.86062e+06</td>\n",
              "      <td>PAR</td>\n",
              "      <td>51.24</td>\n",
              "      <td>3.3</td>\n",
              "      <td>7.92</td>\n",
              "      <td>5.06</td>\n",
              "    </tr>\n",
              "    <tr>\n",
              "      <th>4</th>\n",
              "      <td>1994.0</td>\n",
              "      <td>1.9188e+06</td>\n",
              "      <td>PAR</td>\n",
              "      <td>54.72</td>\n",
              "      <td>4.3</td>\n",
              "      <td>10.16</td>\n",
              "      <td>4.41</td>\n",
              "    </tr>\n",
              "    <tr>\n",
              "      <th>...</th>\n",
              "      <td>...</td>\n",
              "      <td>...</td>\n",
              "      <td>...</td>\n",
              "      <td>...</td>\n",
              "      <td>...</td>\n",
              "      <td>...</td>\n",
              "      <td>...</td>\n",
              "    </tr>\n",
              "    <tr>\n",
              "      <th>82</th>\n",
              "      <td>2014.0</td>\n",
              "      <td>1.75016e+06</td>\n",
              "      <td>URU</td>\n",
              "      <td>40.1</td>\n",
              "      <td>0</td>\n",
              "      <td>0.1</td>\n",
              "      <td>6.5474</td>\n",
              "    </tr>\n",
              "    <tr>\n",
              "      <th>83</th>\n",
              "      <td>2015.0</td>\n",
              "      <td>1.74923e+06</td>\n",
              "      <td>URU</td>\n",
              "      <td>40.1</td>\n",
              "      <td>0</td>\n",
              "      <td>0.1</td>\n",
              "      <td>7.4879</td>\n",
              "    </tr>\n",
              "    <tr>\n",
              "      <th>84</th>\n",
              "      <td>2016.0</td>\n",
              "      <td>1.75087e+06</td>\n",
              "      <td>URU</td>\n",
              "      <td>39.7</td>\n",
              "      <td>0</td>\n",
              "      <td>0.1</td>\n",
              "      <td>7.8406</td>\n",
              "    </tr>\n",
              "    <tr>\n",
              "      <th>85</th>\n",
              "      <td>2017.0</td>\n",
              "      <td>1.74827e+06</td>\n",
              "      <td>URU</td>\n",
              "      <td>39.5</td>\n",
              "      <td>0</td>\n",
              "      <td>0.1</td>\n",
              "      <td>7.8896</td>\n",
              "    </tr>\n",
              "    <tr>\n",
              "      <th>86</th>\n",
              "      <td>2018.0</td>\n",
              "      <td>1.74988e+06</td>\n",
              "      <td>URU</td>\n",
              "      <td>39.7</td>\n",
              "      <td>0</td>\n",
              "      <td>0.1</td>\n",
              "      <td>8.3358</td>\n",
              "    </tr>\n",
              "  </tbody>\n",
              "</table>\n",
              "<p>87 rows × 7 columns</p>\n",
              "</div>"
            ],
            "text/plain": [
              "      Year  ... Desempleo, total (% de participación total en la fuerza laboral) (estimación nacional)\n",
              "0   1990.0  ...  5.8                                                                                  \n",
              "1   1991.0  ...  5.1                                                                                  \n",
              "2   1992.0  ...  4.98                                                                                 \n",
              "3   1993.0  ...  5.06                                                                                 \n",
              "4   1994.0  ...  4.41                                                                                 \n",
              "..     ...  ...   ...                                                                                 \n",
              "82  2014.0  ...  6.5474                                                                               \n",
              "83  2015.0  ...  7.4879                                                                               \n",
              "84  2016.0  ...  7.8406                                                                               \n",
              "85  2017.0  ...  7.8896                                                                               \n",
              "86  2018.0  ...  8.3358                                                                               \n",
              "\n",
              "[87 rows x 7 columns]"
            ]
          },
          "metadata": {
            "tags": []
          },
          "execution_count": 81
        }
      ]
    },
    {
      "cell_type": "code",
      "metadata": {
        "id": "r73j4n9sdcjZ",
        "scrolled": true,
        "outputId": "550c4eef-c9d1-4b2c-951b-179ad9d811a2",
        "colab": {
          "base_uri": "https://localhost:8080/",
          "height": 282
        }
      },
      "source": [
        "#Distribución índice de Gini\n",
        "df_final['Índice de Gini'].hist()"
      ],
      "execution_count": null,
      "outputs": [
        {
          "output_type": "execute_result",
          "data": {
            "text/plain": [
              "<matplotlib.axes._subplots.AxesSubplot at 0x7f91afdaa320>"
            ]
          },
          "metadata": {
            "tags": []
          },
          "execution_count": 82
        },
        {
          "output_type": "display_data",
          "data": {
            "image/png": "[encoded data removed]",
            "text/plain": [
              "<Figure size 432x288 with 1 Axes>"
            ]
          },
          "metadata": {
            "tags": [],
            "needs_background": "light"
          }
        }
      ]
    },
    {
      "cell_type": "markdown",
      "metadata": {
        "id": "FJey2j6gdcjc"
      },
      "source": [
        "## CONSIGNAS"
      ]
    },
    {
      "cell_type": "markdown",
      "metadata": {
        "id": "F__VuCoXdcjc"
      },
      "source": [
        "#### Preparación de los datos"
      ]
    },
    {
      "cell_type": "markdown",
      "metadata": {
        "id": "9vIqzSBsdcjg"
      },
      "source": [
        "1. Agregar la información de ARGENTINA al dataset anterior en base a lo obtenido en el Práctico de Análisis y Curación.\n",
        "2. Convertir la columna Country en una variable dummy y codificar la columna Year (Los siguientes links pueden ser útiles: [Link1](https://chrisalbon.com/python/data_wrangling/pandas_convert_categorical_to_dummies/), [Link2](https://towardsdatascience.com/smarter-ways-to-encode-categorical-data-for-machine-learning-part-1-of-3-6dca2f71b159), [Link3](https://machinelearningmastery.com/one-hot-encoding-for-categorical-data/)). \n",
        "3. Construir un segundo dataset con **datos normalizados/estandarizados** usando *StandardScaler* o *MinMaxScaler* de la librería scikit-learn por ejemplo. En este punto se debe **investigar** acerca de cómo encarar un proceso de normalización/estandarización ante la presencia de variables dummies, columnas con label encoder y columnas con valores numéricos, como es el caso del dataset en consideración. Además, sería interesante ver el efecto del procesamiento aplicado sobre la distribución de los datos de forma similar a lo realizado en este [post](https://towardsdatascience.com/scale-standardize-or-normalize-with-scikit-learn-6ccc7d176a02).\n"
      ]
    },
    {
      "cell_type": "code",
      "metadata": {
        "id": "rBV_-wXFt0EM"
      },
      "source": [
        "# Carga del dataset en formato long\n",
        "dataset_ARG = pd.read_csv(BASE_DIR+'dataset_ARG_1990_2018.csv')"
      ],
      "execution_count": null,
      "outputs": []
    },
    {
      "cell_type": "code",
      "metadata": {
        "id": "UCzteXJjt_gd",
        "outputId": "06cf825b-acac-4992-8ec6-d55eb4405bbf",
        "colab": {
          "base_uri": "https://localhost:8080/",
          "height": 310
        }
      },
      "source": [
        "dataset_ARG.head()"
      ],
      "execution_count": null,
      "outputs": [
        {
          "output_type": "execute_result",
          "data": {
            "text/html": [
              "<div>\n",
              "<style scoped>\n",
              "    .dataframe tbody tr th:only-of-type {\n",
              "        vertical-align: middle;\n",
              "    }\n",
              "\n",
              "    .dataframe tbody tr th {\n",
              "        vertical-align: top;\n",
              "    }\n",
              "\n",
              "    .dataframe thead th {\n",
              "        text-align: right;\n",
              "    }\n",
              "</style>\n",
              "<table border=\"1\" class=\"dataframe\">\n",
              "  <thead>\n",
              "    <tr style=\"text-align: right;\">\n",
              "      <th></th>\n",
              "      <th>Feat</th>\n",
              "      <th>Indi</th>\n",
              "      <th>Pais</th>\n",
              "      <th>CCod</th>\n",
              "      <th>ICod</th>\n",
              "      <th>Year</th>\n",
              "      <th>Value</th>\n",
              "    </tr>\n",
              "  </thead>\n",
              "  <tbody>\n",
              "    <tr>\n",
              "      <th>0</th>\n",
              "      <td>Población entre 15 y 64 años de edad (% del total)</td>\n",
              "      <td>Education</td>\n",
              "      <td>Argentina</td>\n",
              "      <td>ARG</td>\n",
              "      <td>SP.POP.1564.TO.ZS</td>\n",
              "      <td>1990</td>\n",
              "      <td>6.029160e+01</td>\n",
              "    </tr>\n",
              "    <tr>\n",
              "      <th>1</th>\n",
              "      <td>Población entre 0 y 14 años de edad (% del total)</td>\n",
              "      <td>Education</td>\n",
              "      <td>Argentina</td>\n",
              "      <td>ARG</td>\n",
              "      <td>SP.POP.0014.TO.ZS</td>\n",
              "      <td>1990</td>\n",
              "      <td>3.078601e+01</td>\n",
              "    </tr>\n",
              "    <tr>\n",
              "      <th>2</th>\n",
              "      <td>Desempleo, varones (% de la población activa masculina) (estimación modelado OIT)</td>\n",
              "      <td>Education</td>\n",
              "      <td>Argentina</td>\n",
              "      <td>ARG</td>\n",
              "      <td>SL.UEM.TOTL.MA.ZS</td>\n",
              "      <td>1990</td>\n",
              "      <td>5.236000e+00</td>\n",
              "    </tr>\n",
              "    <tr>\n",
              "      <th>3</th>\n",
              "      <td>Desempleo, mujeres (% de la población activa femenina) (estimación modelado OIT)</td>\n",
              "      <td>Education</td>\n",
              "      <td>Argentina</td>\n",
              "      <td>ARG</td>\n",
              "      <td>SL.UEM.TOTL.FE.ZS</td>\n",
              "      <td>1990</td>\n",
              "      <td>5.747000e+00</td>\n",
              "    </tr>\n",
              "    <tr>\n",
              "      <th>4</th>\n",
              "      <td>Población activa, total</td>\n",
              "      <td>Education</td>\n",
              "      <td>Argentina</td>\n",
              "      <td>ARG</td>\n",
              "      <td>SL.TLF.TOTL.IN</td>\n",
              "      <td>1990</td>\n",
              "      <td>1.358077e+07</td>\n",
              "    </tr>\n",
              "  </tbody>\n",
              "</table>\n",
              "</div>"
            ],
            "text/plain": [
              "                                                                                Feat  ...         Value\n",
              "0  Población entre 15 y 64 años de edad (% del total)                                 ...  6.029160e+01\n",
              "1  Población entre 0 y 14 años de edad (% del total)                                  ...  3.078601e+01\n",
              "2  Desempleo, varones (% de la población activa masculina) (estimación modelado OIT)  ...  5.236000e+00\n",
              "3  Desempleo, mujeres (% de la población activa femenina) (estimación modelado OIT)   ...  5.747000e+00\n",
              "4  Población activa, total                                                            ...  1.358077e+07\n",
              "\n",
              "[5 rows x 7 columns]"
            ]
          },
          "metadata": {
            "tags": []
          },
          "execution_count": 84
        }
      ]
    },
    {
      "cell_type": "code",
      "metadata": {
        "id": "K8uoxe9_uZyh"
      },
      "source": [
        "all_icods = variables_educacion + variables_proteccionsocial + codigos_indicadores_pobreza"
      ],
      "execution_count": null,
      "outputs": []
    },
    {
      "cell_type": "code",
      "metadata": {
        "id": "zIubxCkquEaY"
      },
      "source": [
        "# Filtrado por Features de interés\n",
        "\n",
        "dataset_ARG = dataset_ARG[dataset_ARG.ICod.isin(all_icods)]"
      ],
      "execution_count": null,
      "outputs": []
    },
    {
      "cell_type": "code",
      "metadata": {
        "id": "CGKAHeSRupUn",
        "outputId": "bc924896-7558-4cd1-bbae-55512f7b9534",
        "colab": {
          "base_uri": "https://localhost:8080/",
          "height": 124
        }
      },
      "source": [
        "dataset_ARG.Feat.unique()"
      ],
      "execution_count": null,
      "outputs": [
        {
          "output_type": "execute_result",
          "data": {
            "text/plain": [
              "array(['Población activa, total', 'Índice de Gini',\n",
              "       'Brecha de pobreza a $1,90 por día (2011 PPA) (%)',\n",
              "       'Tasa de incidencia de la pobreza, sobre la base de $1,90 por día (2011 PPA) (% de la población)',\n",
              "       'Desempleo, total (% de participación total en la fuerza laboral) (estimación nacional)'],\n",
              "      dtype=object)"
            ]
          },
          "metadata": {
            "tags": []
          },
          "execution_count": 87
        }
      ]
    },
    {
      "cell_type": "code",
      "metadata": {
        "id": "Lh6lmxHBvOHU"
      },
      "source": [
        "# Eliminamos la columna \"Pais\"\n",
        "dataset_ARG.drop(\"Pais\", axis = 1, inplace = True)"
      ],
      "execution_count": null,
      "outputs": []
    },
    {
      "cell_type": "code",
      "metadata": {
        "id": "s6D2WsxvwjPZ",
        "outputId": "6c662d36-b2fa-4af2-cc11-df02787c15cb",
        "colab": {
          "base_uri": "https://localhost:8080/",
          "height": 293
        }
      },
      "source": [
        "dataset_ARG.head()"
      ],
      "execution_count": null,
      "outputs": [
        {
          "output_type": "execute_result",
          "data": {
            "text/html": [
              "<div>\n",
              "<style scoped>\n",
              "    .dataframe tbody tr th:only-of-type {\n",
              "        vertical-align: middle;\n",
              "    }\n",
              "\n",
              "    .dataframe tbody tr th {\n",
              "        vertical-align: top;\n",
              "    }\n",
              "\n",
              "    .dataframe thead th {\n",
              "        text-align: right;\n",
              "    }\n",
              "</style>\n",
              "<table border=\"1\" class=\"dataframe\">\n",
              "  <thead>\n",
              "    <tr style=\"text-align: right;\">\n",
              "      <th></th>\n",
              "      <th>Feat</th>\n",
              "      <th>Indi</th>\n",
              "      <th>CCod</th>\n",
              "      <th>ICod</th>\n",
              "      <th>Year</th>\n",
              "      <th>Value</th>\n",
              "    </tr>\n",
              "  </thead>\n",
              "  <tbody>\n",
              "    <tr>\n",
              "      <th>4</th>\n",
              "      <td>Población activa, total</td>\n",
              "      <td>Education</td>\n",
              "      <td>ARG</td>\n",
              "      <td>SL.TLF.TOTL.IN</td>\n",
              "      <td>1990</td>\n",
              "      <td>1.358077e+07</td>\n",
              "    </tr>\n",
              "    <tr>\n",
              "      <th>64</th>\n",
              "      <td>Índice de Gini</td>\n",
              "      <td>Poverty</td>\n",
              "      <td>ARG</td>\n",
              "      <td>SI.POV.GINI</td>\n",
              "      <td>1990</td>\n",
              "      <td>4.642500e+01</td>\n",
              "    </tr>\n",
              "    <tr>\n",
              "      <th>65</th>\n",
              "      <td>Brecha de pobreza a $1,90 por día (2011 PPA) (%)</td>\n",
              "      <td>Poverty</td>\n",
              "      <td>ARG</td>\n",
              "      <td>SI.POV.GAPS</td>\n",
              "      <td>1990</td>\n",
              "      <td>5.250000e-01</td>\n",
              "    </tr>\n",
              "    <tr>\n",
              "      <th>66</th>\n",
              "      <td>Tasa de incidencia de la pobreza, sobre la base de $1,90 por día (2011 PPA) (% de la población)</td>\n",
              "      <td>Poverty</td>\n",
              "      <td>ARG</td>\n",
              "      <td>SI.POV.DDAY</td>\n",
              "      <td>1990</td>\n",
              "      <td>8.250000e-01</td>\n",
              "    </tr>\n",
              "    <tr>\n",
              "      <th>74</th>\n",
              "      <td>Desempleo, total (% de participación total en la fuerza laboral) (estimación nacional)</td>\n",
              "      <td>Social_protection</td>\n",
              "      <td>ARG</td>\n",
              "      <td>SL.UEM.TOTL.NE.ZS</td>\n",
              "      <td>1990</td>\n",
              "      <td>7.060000e+00</td>\n",
              "    </tr>\n",
              "  </tbody>\n",
              "</table>\n",
              "</div>"
            ],
            "text/plain": [
              "                                                                                               Feat  ...         Value\n",
              "4   Población activa, total                                                                          ...  1.358077e+07\n",
              "64  Índice de Gini                                                                                   ...  4.642500e+01\n",
              "65  Brecha de pobreza a $1,90 por día (2011 PPA) (%)                                                 ...  5.250000e-01\n",
              "66  Tasa de incidencia de la pobreza, sobre la base de $1,90 por día (2011 PPA) (% de la población)  ...  8.250000e-01\n",
              "74  Desempleo, total (% de participación total en la fuerza laboral) (estimación nacional)           ...  7.060000e+00\n",
              "\n",
              "[5 rows x 6 columns]"
            ]
          },
          "metadata": {
            "tags": []
          },
          "execution_count": 89
        }
      ]
    },
    {
      "cell_type": "code",
      "metadata": {
        "id": "0oQZeHokyCr3"
      },
      "source": [
        "# Disponemos del dataframe en el formato objetivo\n",
        "dataset_ARG_pivot = pd.pivot(dataset_ARG, columns=\"Feat\", values = \"Value\", index = \"Year\")\n",
        "dataset_ARG_pivot[\"Country\"] = \"ARG\"\n",
        "dataset_ARG_pivot = dataset_ARG_pivot.reset_index()"
      ],
      "execution_count": null,
      "outputs": []
    },
    {
      "cell_type": "code",
      "metadata": {
        "id": "JKwEFxFM2cyZ",
        "outputId": "3d722cdc-2d0c-451d-b816-a4b50aeda9fc",
        "colab": {
          "base_uri": "https://localhost:8080/",
          "height": 293
        }
      },
      "source": [
        "dataset_ARG_pivot.head()"
      ],
      "execution_count": null,
      "outputs": [
        {
          "output_type": "execute_result",
          "data": {
            "text/html": [
              "<div>\n",
              "<style scoped>\n",
              "    .dataframe tbody tr th:only-of-type {\n",
              "        vertical-align: middle;\n",
              "    }\n",
              "\n",
              "    .dataframe tbody tr th {\n",
              "        vertical-align: top;\n",
              "    }\n",
              "\n",
              "    .dataframe thead th {\n",
              "        text-align: right;\n",
              "    }\n",
              "</style>\n",
              "<table border=\"1\" class=\"dataframe\">\n",
              "  <thead>\n",
              "    <tr style=\"text-align: right;\">\n",
              "      <th>Feat</th>\n",
              "      <th>Year</th>\n",
              "      <th>Brecha de pobreza a $1,90 por día (2011 PPA) (%)</th>\n",
              "      <th>Desempleo, total (% de participación total en la fuerza laboral) (estimación nacional)</th>\n",
              "      <th>Población activa, total</th>\n",
              "      <th>Tasa de incidencia de la pobreza, sobre la base de $1,90 por día (2011 PPA) (% de la población)</th>\n",
              "      <th>Índice de Gini</th>\n",
              "      <th>Country</th>\n",
              "    </tr>\n",
              "  </thead>\n",
              "  <tbody>\n",
              "    <tr>\n",
              "      <th>0</th>\n",
              "      <td>1990</td>\n",
              "      <td>0.525</td>\n",
              "      <td>7.06</td>\n",
              "      <td>13580769.0</td>\n",
              "      <td>0.825</td>\n",
              "      <td>46.425</td>\n",
              "      <td>ARG</td>\n",
              "    </tr>\n",
              "    <tr>\n",
              "      <th>1</th>\n",
              "      <td>1991</td>\n",
              "      <td>0.700</td>\n",
              "      <td>5.44</td>\n",
              "      <td>13858142.0</td>\n",
              "      <td>1.100</td>\n",
              "      <td>46.800</td>\n",
              "      <td>ARG</td>\n",
              "    </tr>\n",
              "    <tr>\n",
              "      <th>2</th>\n",
              "      <td>1992</td>\n",
              "      <td>1.200</td>\n",
              "      <td>6.36</td>\n",
              "      <td>14149418.0</td>\n",
              "      <td>2.100</td>\n",
              "      <td>45.500</td>\n",
              "      <td>ARG</td>\n",
              "    </tr>\n",
              "    <tr>\n",
              "      <th>3</th>\n",
              "      <td>1993</td>\n",
              "      <td>1.200</td>\n",
              "      <td>10.10</td>\n",
              "      <td>14466817.0</td>\n",
              "      <td>2.400</td>\n",
              "      <td>44.900</td>\n",
              "      <td>ARG</td>\n",
              "    </tr>\n",
              "    <tr>\n",
              "      <th>4</th>\n",
              "      <td>1994</td>\n",
              "      <td>1.500</td>\n",
              "      <td>11.76</td>\n",
              "      <td>14760835.0</td>\n",
              "      <td>2.300</td>\n",
              "      <td>45.900</td>\n",
              "      <td>ARG</td>\n",
              "    </tr>\n",
              "  </tbody>\n",
              "</table>\n",
              "</div>"
            ],
            "text/plain": [
              "Feat  Year  ...  Country\n",
              "0     1990  ...  ARG    \n",
              "1     1991  ...  ARG    \n",
              "2     1992  ...  ARG    \n",
              "3     1993  ...  ARG    \n",
              "4     1994  ...  ARG    \n",
              "\n",
              "[5 rows x 7 columns]"
            ]
          },
          "metadata": {
            "tags": []
          },
          "execution_count": 91
        }
      ]
    },
    {
      "cell_type": "code",
      "metadata": {
        "id": "Y0ZYMLnSJ_6h"
      },
      "source": [
        "# Transformamos la columna Year a formato integer, en el df que no incluye Argentina\n",
        "df_final.Year = pd.to_numeric(df_final.Year, downcast=\"integer\")"
      ],
      "execution_count": null,
      "outputs": []
    },
    {
      "cell_type": "code",
      "metadata": {
        "id": "7lxE3gcwKNph"
      },
      "source": [
        "# Transformamos la columna Year a formato integer, en el df de Argentina\n",
        "dataset_ARG_pivot.Year = pd.to_numeric(dataset_ARG_pivot.Year, downcast=\"integer\")"
      ],
      "execution_count": null,
      "outputs": []
    },
    {
      "cell_type": "code",
      "metadata": {
        "id": "jLuxyGVTEdVt"
      },
      "source": [
        "# Agregamos a Argentina al dataset con el resto de los países\n",
        "original_df = pd.concat([df_final, dataset_ARG_pivot])"
      ],
      "execution_count": null,
      "outputs": []
    },
    {
      "cell_type": "code",
      "metadata": {
        "id": "R-XcwecXEjBr",
        "outputId": "919819b1-c825-44a9-d7ed-d8279ecedf06",
        "colab": {
          "base_uri": "https://localhost:8080/",
          "height": 511
        }
      },
      "source": [
        "original_df"
      ],
      "execution_count": null,
      "outputs": [
        {
          "output_type": "execute_result",
          "data": {
            "text/html": [
              "<div>\n",
              "<style scoped>\n",
              "    .dataframe tbody tr th:only-of-type {\n",
              "        vertical-align: middle;\n",
              "    }\n",
              "\n",
              "    .dataframe tbody tr th {\n",
              "        vertical-align: top;\n",
              "    }\n",
              "\n",
              "    .dataframe thead th {\n",
              "        text-align: right;\n",
              "    }\n",
              "</style>\n",
              "<table border=\"1\" class=\"dataframe\">\n",
              "  <thead>\n",
              "    <tr style=\"text-align: right;\">\n",
              "      <th></th>\n",
              "      <th>Year</th>\n",
              "      <th>Población activa, total</th>\n",
              "      <th>Country</th>\n",
              "      <th>Índice de Gini</th>\n",
              "      <th>Brecha de pobreza a $1,90 por día (2011 PPA) (%)</th>\n",
              "      <th>Tasa de incidencia de la pobreza, sobre la base de $1,90 por día (2011 PPA) (% de la población)</th>\n",
              "      <th>Desempleo, total (% de participación total en la fuerza laboral) (estimación nacional)</th>\n",
              "    </tr>\n",
              "  </thead>\n",
              "  <tbody>\n",
              "    <tr>\n",
              "      <th>0</th>\n",
              "      <td>1990</td>\n",
              "      <td>1.7066e+06</td>\n",
              "      <td>PAR</td>\n",
              "      <td>40.8</td>\n",
              "      <td>0.3</td>\n",
              "      <td>1.2</td>\n",
              "      <td>5.8</td>\n",
              "    </tr>\n",
              "    <tr>\n",
              "      <th>1</th>\n",
              "      <td>1991</td>\n",
              "      <td>1.75702e+06</td>\n",
              "      <td>PAR</td>\n",
              "      <td>44.28</td>\n",
              "      <td>1.3</td>\n",
              "      <td>3.44</td>\n",
              "      <td>5.1</td>\n",
              "    </tr>\n",
              "    <tr>\n",
              "      <th>2</th>\n",
              "      <td>1992</td>\n",
              "      <td>1.80544e+06</td>\n",
              "      <td>PAR</td>\n",
              "      <td>47.76</td>\n",
              "      <td>2.3</td>\n",
              "      <td>5.68</td>\n",
              "      <td>4.98</td>\n",
              "    </tr>\n",
              "    <tr>\n",
              "      <th>3</th>\n",
              "      <td>1993</td>\n",
              "      <td>1.86062e+06</td>\n",
              "      <td>PAR</td>\n",
              "      <td>51.24</td>\n",
              "      <td>3.3</td>\n",
              "      <td>7.92</td>\n",
              "      <td>5.06</td>\n",
              "    </tr>\n",
              "    <tr>\n",
              "      <th>4</th>\n",
              "      <td>1994</td>\n",
              "      <td>1.9188e+06</td>\n",
              "      <td>PAR</td>\n",
              "      <td>54.72</td>\n",
              "      <td>4.3</td>\n",
              "      <td>10.16</td>\n",
              "      <td>4.41</td>\n",
              "    </tr>\n",
              "    <tr>\n",
              "      <th>...</th>\n",
              "      <td>...</td>\n",
              "      <td>...</td>\n",
              "      <td>...</td>\n",
              "      <td>...</td>\n",
              "      <td>...</td>\n",
              "      <td>...</td>\n",
              "      <td>...</td>\n",
              "    </tr>\n",
              "    <tr>\n",
              "      <th>24</th>\n",
              "      <td>2014</td>\n",
              "      <td>1.90093e+07</td>\n",
              "      <td>ARG</td>\n",
              "      <td>41.7</td>\n",
              "      <td>0.3</td>\n",
              "      <td>0.7</td>\n",
              "      <td>7.2676</td>\n",
              "    </tr>\n",
              "    <tr>\n",
              "      <th>25</th>\n",
              "      <td>2015</td>\n",
              "      <td>1.93605e+07</td>\n",
              "      <td>ARG</td>\n",
              "      <td>41.85</td>\n",
              "      <td>0.3</td>\n",
              "      <td>0.7</td>\n",
              "      <td>7.62753</td>\n",
              "    </tr>\n",
              "    <tr>\n",
              "      <th>26</th>\n",
              "      <td>2016</td>\n",
              "      <td>1.96965e+07</td>\n",
              "      <td>ARG</td>\n",
              "      <td>42</td>\n",
              "      <td>0.3</td>\n",
              "      <td>0.7</td>\n",
              "      <td>7.98747</td>\n",
              "    </tr>\n",
              "    <tr>\n",
              "      <th>27</th>\n",
              "      <td>2017</td>\n",
              "      <td>2.00353e+07</td>\n",
              "      <td>ARG</td>\n",
              "      <td>41.2</td>\n",
              "      <td>0.2</td>\n",
              "      <td>0.5</td>\n",
              "      <td>8.3474</td>\n",
              "    </tr>\n",
              "    <tr>\n",
              "      <th>28</th>\n",
              "      <td>2018</td>\n",
              "      <td>2.05517e+07</td>\n",
              "      <td>ARG</td>\n",
              "      <td>41.4</td>\n",
              "      <td>0.4</td>\n",
              "      <td>1</td>\n",
              "      <td>9.2205</td>\n",
              "    </tr>\n",
              "  </tbody>\n",
              "</table>\n",
              "<p>116 rows × 7 columns</p>\n",
              "</div>"
            ],
            "text/plain": [
              "    Year  ... Desempleo, total (% de participación total en la fuerza laboral) (estimación nacional)\n",
              "0   1990  ...  5.8                                                                                  \n",
              "1   1991  ...  5.1                                                                                  \n",
              "2   1992  ...  4.98                                                                                 \n",
              "3   1993  ...  5.06                                                                                 \n",
              "4   1994  ...  4.41                                                                                 \n",
              "..   ...  ...   ...                                                                                 \n",
              "24  2014  ...  7.2676                                                                               \n",
              "25  2015  ...  7.62753                                                                              \n",
              "26  2016  ...  7.98747                                                                              \n",
              "27  2017  ...  8.3474                                                                               \n",
              "28  2018  ...  9.2205                                                                               \n",
              "\n",
              "[116 rows x 7 columns]"
            ]
          },
          "metadata": {
            "tags": []
          },
          "execution_count": 95
        }
      ]
    },
    {
      "cell_type": "code",
      "metadata": {
        "id": "2YpZsDDIHeOg"
      },
      "source": [
        "# Creamos una nueva tabla, para conservar la original\n",
        "data = original_df.copy()"
      ],
      "execution_count": null,
      "outputs": []
    },
    {
      "cell_type": "code",
      "metadata": {
        "id": "2GsGWExZHUpl"
      },
      "source": [
        "# Hacemos dummy a la columna Country\n",
        "data = pd.get_dummies(data, columns=['Country'])"
      ],
      "execution_count": null,
      "outputs": []
    },
    {
      "cell_type": "code",
      "metadata": {
        "id": "RivGvvKxHosB",
        "outputId": "88e4619d-dc47-4865-d60c-8c7cd74850fc",
        "colab": {
          "base_uri": "https://localhost:8080/",
          "height": 400
        }
      },
      "source": [
        "data.head()"
      ],
      "execution_count": null,
      "outputs": [
        {
          "output_type": "execute_result",
          "data": {
            "text/html": [
              "<div>\n",
              "<style scoped>\n",
              "    .dataframe tbody tr th:only-of-type {\n",
              "        vertical-align: middle;\n",
              "    }\n",
              "\n",
              "    .dataframe tbody tr th {\n",
              "        vertical-align: top;\n",
              "    }\n",
              "\n",
              "    .dataframe thead th {\n",
              "        text-align: right;\n",
              "    }\n",
              "</style>\n",
              "<table border=\"1\" class=\"dataframe\">\n",
              "  <thead>\n",
              "    <tr style=\"text-align: right;\">\n",
              "      <th></th>\n",
              "      <th>Year</th>\n",
              "      <th>Población activa, total</th>\n",
              "      <th>Índice de Gini</th>\n",
              "      <th>Brecha de pobreza a $1,90 por día (2011 PPA) (%)</th>\n",
              "      <th>Tasa de incidencia de la pobreza, sobre la base de $1,90 por día (2011 PPA) (% de la población)</th>\n",
              "      <th>Desempleo, total (% de participación total en la fuerza laboral) (estimación nacional)</th>\n",
              "      <th>Country_ARG</th>\n",
              "      <th>Country_BRA</th>\n",
              "      <th>Country_PAR</th>\n",
              "      <th>Country_URU</th>\n",
              "    </tr>\n",
              "  </thead>\n",
              "  <tbody>\n",
              "    <tr>\n",
              "      <th>0</th>\n",
              "      <td>1990</td>\n",
              "      <td>1.7066e+06</td>\n",
              "      <td>40.8</td>\n",
              "      <td>0.3</td>\n",
              "      <td>1.2</td>\n",
              "      <td>5.8</td>\n",
              "      <td>0</td>\n",
              "      <td>0</td>\n",
              "      <td>1</td>\n",
              "      <td>0</td>\n",
              "    </tr>\n",
              "    <tr>\n",
              "      <th>1</th>\n",
              "      <td>1991</td>\n",
              "      <td>1.75702e+06</td>\n",
              "      <td>44.28</td>\n",
              "      <td>1.3</td>\n",
              "      <td>3.44</td>\n",
              "      <td>5.1</td>\n",
              "      <td>0</td>\n",
              "      <td>0</td>\n",
              "      <td>1</td>\n",
              "      <td>0</td>\n",
              "    </tr>\n",
              "    <tr>\n",
              "      <th>2</th>\n",
              "      <td>1992</td>\n",
              "      <td>1.80544e+06</td>\n",
              "      <td>47.76</td>\n",
              "      <td>2.3</td>\n",
              "      <td>5.68</td>\n",
              "      <td>4.98</td>\n",
              "      <td>0</td>\n",
              "      <td>0</td>\n",
              "      <td>1</td>\n",
              "      <td>0</td>\n",
              "    </tr>\n",
              "    <tr>\n",
              "      <th>3</th>\n",
              "      <td>1993</td>\n",
              "      <td>1.86062e+06</td>\n",
              "      <td>51.24</td>\n",
              "      <td>3.3</td>\n",
              "      <td>7.92</td>\n",
              "      <td>5.06</td>\n",
              "      <td>0</td>\n",
              "      <td>0</td>\n",
              "      <td>1</td>\n",
              "      <td>0</td>\n",
              "    </tr>\n",
              "    <tr>\n",
              "      <th>4</th>\n",
              "      <td>1994</td>\n",
              "      <td>1.9188e+06</td>\n",
              "      <td>54.72</td>\n",
              "      <td>4.3</td>\n",
              "      <td>10.16</td>\n",
              "      <td>4.41</td>\n",
              "      <td>0</td>\n",
              "      <td>0</td>\n",
              "      <td>1</td>\n",
              "      <td>0</td>\n",
              "    </tr>\n",
              "  </tbody>\n",
              "</table>\n",
              "</div>"
            ],
            "text/plain": [
              "   Year Población activa, total  ... Country_PAR Country_URU\n",
              "0  1990  1.7066e+06              ...  1           0         \n",
              "1  1991  1.75702e+06             ...  1           0         \n",
              "2  1992  1.80544e+06             ...  1           0         \n",
              "3  1993  1.86062e+06             ...  1           0         \n",
              "4  1994  1.9188e+06              ...  1           0         \n",
              "\n",
              "[5 rows x 10 columns]"
            ]
          },
          "metadata": {
            "tags": []
          },
          "execution_count": 98
        }
      ]
    },
    {
      "cell_type": "code",
      "metadata": {
        "id": "Zdnc1dzSHsxa"
      },
      "source": [
        "# Codificamos la columna Year, nominalmente\n",
        "from sklearn.preprocessing import OrdinalEncoder\n",
        "from numpy import asarray"
      ],
      "execution_count": null,
      "outputs": []
    },
    {
      "cell_type": "code",
      "metadata": {
        "id": "BlNKTnQdLJI2"
      },
      "source": [
        "tmp_year = asarray(data.Year).reshape(-1, 1)"
      ],
      "execution_count": null,
      "outputs": []
    },
    {
      "cell_type": "code",
      "metadata": {
        "id": "pu0mCg4pI5-N"
      },
      "source": [
        "# define ordinal encoding\n",
        "encoder = OrdinalEncoder()\n",
        "# transform data\n",
        "result = encoder.fit_transform(tmp_year)"
      ],
      "execution_count": null,
      "outputs": []
    },
    {
      "cell_type": "code",
      "metadata": {
        "id": "awHbp62GLopt"
      },
      "source": [
        "# lo asignamos a la columna year\n",
        "data.Year = result"
      ],
      "execution_count": null,
      "outputs": []
    },
    {
      "cell_type": "code",
      "metadata": {
        "id": "tBCFTmy-hUpx"
      },
      "source": [
        "# Cambiamos los nombres de las columnas, quitamos tildes, símbolos raros y espacios\n",
        "data.columns = ['Year', 'Poblacion_activa_total', 'Indice_de_Gini',\n",
        "       'Brecha_de_pobreza_a_1.90_por_dia_2011_PPA_perc',\n",
        "       'Tasa_de_incidencia_de_la_pobreza_sobre_la_base_de_1.90_por_dia_2011_PPA_perc_poblacion',\n",
        "       'Desempleo_total_perc_de_participacion_total_en_la_fuerza_laboral_estimacion_nacional',\n",
        "       'Country_ARG', 'Country_BRA', 'Country_PAR', 'Country_URU']"
      ],
      "execution_count": null,
      "outputs": []
    },
    {
      "cell_type": "code",
      "metadata": {
        "id": "_QDIS38cLvYN",
        "outputId": "b400c375-1c00-4879-cf7b-07517184fc78",
        "colab": {
          "base_uri": "https://localhost:8080/",
          "height": 226
        }
      },
      "source": [
        "data.head()"
      ],
      "execution_count": null,
      "outputs": [
        {
          "output_type": "execute_result",
          "data": {
            "text/html": [
              "<div>\n",
              "<style scoped>\n",
              "    .dataframe tbody tr th:only-of-type {\n",
              "        vertical-align: middle;\n",
              "    }\n",
              "\n",
              "    .dataframe tbody tr th {\n",
              "        vertical-align: top;\n",
              "    }\n",
              "\n",
              "    .dataframe thead th {\n",
              "        text-align: right;\n",
              "    }\n",
              "</style>\n",
              "<table border=\"1\" class=\"dataframe\">\n",
              "  <thead>\n",
              "    <tr style=\"text-align: right;\">\n",
              "      <th></th>\n",
              "      <th>Year</th>\n",
              "      <th>Poblacion_activa_total</th>\n",
              "      <th>Indice_de_Gini</th>\n",
              "      <th>Brecha_de_pobreza_a_1.90_por_dia_2011_PPA_perc</th>\n",
              "      <th>Tasa_de_incidencia_de_la_pobreza_sobre_la_base_de_1.90_por_dia_2011_PPA_perc_poblacion</th>\n",
              "      <th>Desempleo_total_perc_de_participacion_total_en_la_fuerza_laboral_estimacion_nacional</th>\n",
              "      <th>Country_ARG</th>\n",
              "      <th>Country_BRA</th>\n",
              "      <th>Country_PAR</th>\n",
              "      <th>Country_URU</th>\n",
              "    </tr>\n",
              "  </thead>\n",
              "  <tbody>\n",
              "    <tr>\n",
              "      <th>0</th>\n",
              "      <td>0.0</td>\n",
              "      <td>1.7066e+06</td>\n",
              "      <td>40.8</td>\n",
              "      <td>0.3</td>\n",
              "      <td>1.2</td>\n",
              "      <td>5.8</td>\n",
              "      <td>0</td>\n",
              "      <td>0</td>\n",
              "      <td>1</td>\n",
              "      <td>0</td>\n",
              "    </tr>\n",
              "    <tr>\n",
              "      <th>1</th>\n",
              "      <td>1.0</td>\n",
              "      <td>1.75702e+06</td>\n",
              "      <td>44.28</td>\n",
              "      <td>1.3</td>\n",
              "      <td>3.44</td>\n",
              "      <td>5.1</td>\n",
              "      <td>0</td>\n",
              "      <td>0</td>\n",
              "      <td>1</td>\n",
              "      <td>0</td>\n",
              "    </tr>\n",
              "    <tr>\n",
              "      <th>2</th>\n",
              "      <td>2.0</td>\n",
              "      <td>1.80544e+06</td>\n",
              "      <td>47.76</td>\n",
              "      <td>2.3</td>\n",
              "      <td>5.68</td>\n",
              "      <td>4.98</td>\n",
              "      <td>0</td>\n",
              "      <td>0</td>\n",
              "      <td>1</td>\n",
              "      <td>0</td>\n",
              "    </tr>\n",
              "    <tr>\n",
              "      <th>3</th>\n",
              "      <td>3.0</td>\n",
              "      <td>1.86062e+06</td>\n",
              "      <td>51.24</td>\n",
              "      <td>3.3</td>\n",
              "      <td>7.92</td>\n",
              "      <td>5.06</td>\n",
              "      <td>0</td>\n",
              "      <td>0</td>\n",
              "      <td>1</td>\n",
              "      <td>0</td>\n",
              "    </tr>\n",
              "    <tr>\n",
              "      <th>4</th>\n",
              "      <td>4.0</td>\n",
              "      <td>1.9188e+06</td>\n",
              "      <td>54.72</td>\n",
              "      <td>4.3</td>\n",
              "      <td>10.16</td>\n",
              "      <td>4.41</td>\n",
              "      <td>0</td>\n",
              "      <td>0</td>\n",
              "      <td>1</td>\n",
              "      <td>0</td>\n",
              "    </tr>\n",
              "  </tbody>\n",
              "</table>\n",
              "</div>"
            ],
            "text/plain": [
              "   Year Poblacion_activa_total  ... Country_PAR Country_URU\n",
              "0  0.0   1.7066e+06             ...  1           0         \n",
              "1  1.0   1.75702e+06            ...  1           0         \n",
              "2  2.0   1.80544e+06            ...  1           0         \n",
              "3  3.0   1.86062e+06            ...  1           0         \n",
              "4  4.0   1.9188e+06             ...  1           0         \n",
              "\n",
              "[5 rows x 10 columns]"
            ]
          },
          "metadata": {
            "tags": []
          },
          "execution_count": 104
        }
      ]
    },
    {
      "cell_type": "code",
      "metadata": {
        "id": "GYm3GCrqhBlP",
        "outputId": "fa39c66b-e0b0-4094-f9db-b680364e58ca",
        "colab": {
          "base_uri": "https://localhost:8080/",
          "height": 208
        }
      },
      "source": [
        "# Veamos los tipos de datos por columna\n",
        "data.dtypes"
      ],
      "execution_count": null,
      "outputs": [
        {
          "output_type": "execute_result",
          "data": {
            "text/plain": [
              "Year                                                                                      float64\n",
              "Poblacion_activa_total                                                                    object \n",
              "Indice_de_Gini                                                                            object \n",
              "Brecha_de_pobreza_a_1.90_por_dia_2011_PPA_perc                                            object \n",
              "Tasa_de_incidencia_de_la_pobreza_sobre_la_base_de_1.90_por_dia_2011_PPA_perc_poblacion    object \n",
              "Desempleo_total_perc_de_participacion_total_en_la_fuerza_laboral_estimacion_nacional      object \n",
              "Country_ARG                                                                               uint8  \n",
              "Country_BRA                                                                               uint8  \n",
              "Country_PAR                                                                               uint8  \n",
              "Country_URU                                                                               uint8  \n",
              "dtype: object"
            ]
          },
          "metadata": {
            "tags": []
          },
          "execution_count": 105
        }
      ]
    },
    {
      "cell_type": "code",
      "metadata": {
        "id": "kPM5AvIDhEQk"
      },
      "source": [
        "# Transformaremos las columnas que son objetos, en floats\n",
        "data[\"Poblacion_activa_total\"] = pd.to_numeric(data[\"Poblacion_activa_total\"])\n",
        "data[\"Indice_de_Gini\"] = pd.to_numeric(data[\"Indice_de_Gini\"])\n",
        "data[\"Brecha_de_pobreza_a_1.90_por_dia_2011_PPA_perc\"] = pd.to_numeric(data[\"Brecha_de_pobreza_a_1.90_por_dia_2011_PPA_perc\"])\n",
        "data[\"Tasa_de_incidencia_de_la_pobreza_sobre_la_base_de_1.90_por_dia_2011_PPA_perc_poblacion\"] = pd.to_numeric(data[\"Tasa_de_incidencia_de_la_pobreza_sobre_la_base_de_1.90_por_dia_2011_PPA_perc_poblacion\"])\n",
        "data[\"Desempleo_total_perc_de_participacion_total_en_la_fuerza_laboral_estimacion_nacional\"] = pd.to_numeric(data[\"Desempleo_total_perc_de_participacion_total_en_la_fuerza_laboral_estimacion_nacional\"])"
      ],
      "execution_count": null,
      "outputs": []
    },
    {
      "cell_type": "code",
      "metadata": {
        "id": "sXjP1lRxiXO8",
        "outputId": "436c7383-ca72-48b0-90f6-d686edad78da",
        "colab": {
          "base_uri": "https://localhost:8080/",
          "height": 208
        }
      },
      "source": [
        "data.dtypes"
      ],
      "execution_count": null,
      "outputs": [
        {
          "output_type": "execute_result",
          "data": {
            "text/plain": [
              "Year                                                                                      float64\n",
              "Poblacion_activa_total                                                                    float64\n",
              "Indice_de_Gini                                                                            float64\n",
              "Brecha_de_pobreza_a_1.90_por_dia_2011_PPA_perc                                            float64\n",
              "Tasa_de_incidencia_de_la_pobreza_sobre_la_base_de_1.90_por_dia_2011_PPA_perc_poblacion    float64\n",
              "Desempleo_total_perc_de_participacion_total_en_la_fuerza_laboral_estimacion_nacional      float64\n",
              "Country_ARG                                                                               uint8  \n",
              "Country_BRA                                                                               uint8  \n",
              "Country_PAR                                                                               uint8  \n",
              "Country_URU                                                                               uint8  \n",
              "dtype: object"
            ]
          },
          "metadata": {
            "tags": []
          },
          "execution_count": 107
        }
      ]
    },
    {
      "cell_type": "code",
      "metadata": {
        "id": "aOiyE8rBOMAd"
      },
      "source": [
        "# MinMaxScaler para el escalado de las Features\n",
        "# Los variables dummy, dada su naturaleza de 0 y 1, mantienen esos valores\n",
        "# La variable Year, al ser ordinal, los nuevos valores mantienen el orden original, pero entre 0 y 1\n",
        "from sklearn import preprocessing"
      ],
      "execution_count": null,
      "outputs": []
    },
    {
      "cell_type": "code",
      "metadata": {
        "id": "px-GNIDIOQCQ"
      },
      "source": [
        "# Generamos un df con las variables escaladas\n",
        "mm_scaler = preprocessing.MinMaxScaler()\n",
        "data_mm = mm_scaler.fit_transform(data)"
      ],
      "execution_count": null,
      "outputs": []
    },
    {
      "cell_type": "code",
      "metadata": {
        "id": "MNSqj5ZAOa8H"
      },
      "source": [
        "data_mm = pd.DataFrame(data_mm, columns=data.columns)"
      ],
      "execution_count": null,
      "outputs": []
    },
    {
      "cell_type": "code",
      "metadata": {
        "id": "Me6c1GfyOnjQ",
        "outputId": "81ec4414-d5d3-4d54-f136-b98f44d7232c",
        "colab": {
          "base_uri": "https://localhost:8080/",
          "height": 444
        }
      },
      "source": [
        "data_mm"
      ],
      "execution_count": null,
      "outputs": [
        {
          "output_type": "execute_result",
          "data": {
            "text/html": [
              "<div>\n",
              "<style scoped>\n",
              "    .dataframe tbody tr th:only-of-type {\n",
              "        vertical-align: middle;\n",
              "    }\n",
              "\n",
              "    .dataframe tbody tr th {\n",
              "        vertical-align: top;\n",
              "    }\n",
              "\n",
              "    .dataframe thead th {\n",
              "        text-align: right;\n",
              "    }\n",
              "</style>\n",
              "<table border=\"1\" class=\"dataframe\">\n",
              "  <thead>\n",
              "    <tr style=\"text-align: right;\">\n",
              "      <th></th>\n",
              "      <th>Year</th>\n",
              "      <th>Poblacion_activa_total</th>\n",
              "      <th>Indice_de_Gini</th>\n",
              "      <th>Brecha_de_pobreza_a_1.90_por_dia_2011_PPA_perc</th>\n",
              "      <th>Tasa_de_incidencia_de_la_pobreza_sobre_la_base_de_1.90_por_dia_2011_PPA_perc_poblacion</th>\n",
              "      <th>Desempleo_total_perc_de_participacion_total_en_la_fuerza_laboral_estimacion_nacional</th>\n",
              "      <th>Country_ARG</th>\n",
              "      <th>Country_BRA</th>\n",
              "      <th>Country_PAR</th>\n",
              "      <th>Country_URU</th>\n",
              "    </tr>\n",
              "  </thead>\n",
              "  <tbody>\n",
              "    <tr>\n",
              "      <th>0</th>\n",
              "      <td>0.000000</td>\n",
              "      <td>0.003077</td>\n",
              "      <td>0.061905</td>\n",
              "      <td>0.032967</td>\n",
              "      <td>0.051163</td>\n",
              "      <td>0.148240</td>\n",
              "      <td>0.0</td>\n",
              "      <td>0.0</td>\n",
              "      <td>1.0</td>\n",
              "      <td>0.0</td>\n",
              "    </tr>\n",
              "    <tr>\n",
              "      <th>1</th>\n",
              "      <td>0.035714</td>\n",
              "      <td>0.003561</td>\n",
              "      <td>0.227619</td>\n",
              "      <td>0.142857</td>\n",
              "      <td>0.155349</td>\n",
              "      <td>0.105003</td>\n",
              "      <td>0.0</td>\n",
              "      <td>0.0</td>\n",
              "      <td>1.0</td>\n",
              "      <td>0.0</td>\n",
              "    </tr>\n",
              "    <tr>\n",
              "      <th>2</th>\n",
              "      <td>0.071429</td>\n",
              "      <td>0.004026</td>\n",
              "      <td>0.393333</td>\n",
              "      <td>0.252747</td>\n",
              "      <td>0.259535</td>\n",
              "      <td>0.097591</td>\n",
              "      <td>0.0</td>\n",
              "      <td>0.0</td>\n",
              "      <td>1.0</td>\n",
              "      <td>0.0</td>\n",
              "    </tr>\n",
              "    <tr>\n",
              "      <th>3</th>\n",
              "      <td>0.107143</td>\n",
              "      <td>0.004555</td>\n",
              "      <td>0.559048</td>\n",
              "      <td>0.362637</td>\n",
              "      <td>0.363721</td>\n",
              "      <td>0.102532</td>\n",
              "      <td>0.0</td>\n",
              "      <td>0.0</td>\n",
              "      <td>1.0</td>\n",
              "      <td>0.0</td>\n",
              "    </tr>\n",
              "    <tr>\n",
              "      <th>4</th>\n",
              "      <td>0.142857</td>\n",
              "      <td>0.005114</td>\n",
              "      <td>0.724762</td>\n",
              "      <td>0.472527</td>\n",
              "      <td>0.467907</td>\n",
              "      <td>0.062384</td>\n",
              "      <td>0.0</td>\n",
              "      <td>0.0</td>\n",
              "      <td>1.0</td>\n",
              "      <td>0.0</td>\n",
              "    </tr>\n",
              "    <tr>\n",
              "      <th>...</th>\n",
              "      <td>...</td>\n",
              "      <td>...</td>\n",
              "      <td>...</td>\n",
              "      <td>...</td>\n",
              "      <td>...</td>\n",
              "      <td>...</td>\n",
              "      <td>...</td>\n",
              "      <td>...</td>\n",
              "      <td>...</td>\n",
              "      <td>...</td>\n",
              "    </tr>\n",
              "    <tr>\n",
              "      <th>111</th>\n",
              "      <td>0.857143</td>\n",
              "      <td>0.169199</td>\n",
              "      <td>0.104762</td>\n",
              "      <td>0.032967</td>\n",
              "      <td>0.027907</td>\n",
              "      <td>0.238888</td>\n",
              "      <td>1.0</td>\n",
              "      <td>0.0</td>\n",
              "      <td>0.0</td>\n",
              "      <td>0.0</td>\n",
              "    </tr>\n",
              "    <tr>\n",
              "      <th>112</th>\n",
              "      <td>0.892857</td>\n",
              "      <td>0.172572</td>\n",
              "      <td>0.111905</td>\n",
              "      <td>0.032967</td>\n",
              "      <td>0.027907</td>\n",
              "      <td>0.261120</td>\n",
              "      <td>1.0</td>\n",
              "      <td>0.0</td>\n",
              "      <td>0.0</td>\n",
              "      <td>0.0</td>\n",
              "    </tr>\n",
              "    <tr>\n",
              "      <th>113</th>\n",
              "      <td>0.928571</td>\n",
              "      <td>0.175797</td>\n",
              "      <td>0.119048</td>\n",
              "      <td>0.032967</td>\n",
              "      <td>0.027907</td>\n",
              "      <td>0.283352</td>\n",
              "      <td>1.0</td>\n",
              "      <td>0.0</td>\n",
              "      <td>0.0</td>\n",
              "      <td>0.0</td>\n",
              "    </tr>\n",
              "    <tr>\n",
              "      <th>114</th>\n",
              "      <td>0.964286</td>\n",
              "      <td>0.179050</td>\n",
              "      <td>0.080952</td>\n",
              "      <td>0.021978</td>\n",
              "      <td>0.018605</td>\n",
              "      <td>0.305584</td>\n",
              "      <td>1.0</td>\n",
              "      <td>0.0</td>\n",
              "      <td>0.0</td>\n",
              "      <td>0.0</td>\n",
              "    </tr>\n",
              "    <tr>\n",
              "      <th>115</th>\n",
              "      <td>1.000000</td>\n",
              "      <td>0.184008</td>\n",
              "      <td>0.090476</td>\n",
              "      <td>0.043956</td>\n",
              "      <td>0.041860</td>\n",
              "      <td>0.359512</td>\n",
              "      <td>1.0</td>\n",
              "      <td>0.0</td>\n",
              "      <td>0.0</td>\n",
              "      <td>0.0</td>\n",
              "    </tr>\n",
              "  </tbody>\n",
              "</table>\n",
              "<p>116 rows × 10 columns</p>\n",
              "</div>"
            ],
            "text/plain": [
              "         Year  Poblacion_activa_total  ...  Country_PAR  Country_URU\n",
              "0    0.000000  0.003077                ...  1.0          0.0        \n",
              "1    0.035714  0.003561                ...  1.0          0.0        \n",
              "2    0.071429  0.004026                ...  1.0          0.0        \n",
              "3    0.107143  0.004555                ...  1.0          0.0        \n",
              "4    0.142857  0.005114                ...  1.0          0.0        \n",
              "..        ...       ...                ...  ...          ...        \n",
              "111  0.857143  0.169199                ...  0.0          0.0        \n",
              "112  0.892857  0.172572                ...  0.0          0.0        \n",
              "113  0.928571  0.175797                ...  0.0          0.0        \n",
              "114  0.964286  0.179050                ...  0.0          0.0        \n",
              "115  1.000000  0.184008                ...  0.0          0.0        \n",
              "\n",
              "[116 rows x 10 columns]"
            ]
          },
          "metadata": {
            "tags": []
          },
          "execution_count": 111
        }
      ]
    },
    {
      "cell_type": "code",
      "metadata": {
        "id": "P5LjYsU075vn",
        "outputId": "0d7a1f46-867c-45cd-e551-f3ddd893ca0f",
        "colab": {
          "base_uri": "https://localhost:8080/",
          "height": 121
        }
      },
      "source": [
        "data.columns"
      ],
      "execution_count": null,
      "outputs": [
        {
          "output_type": "execute_result",
          "data": {
            "text/plain": [
              "Index(['Year', 'Poblacion_activa_total', 'Indice_de_Gini',\n",
              "       'Brecha_de_pobreza_a_1.90_por_dia_2011_PPA_perc',\n",
              "       'Tasa_de_incidencia_de_la_pobreza_sobre_la_base_de_1.90_por_dia_2011_PPA_perc_poblacion',\n",
              "       'Desempleo_total_perc_de_participacion_total_en_la_fuerza_laboral_estimacion_nacional',\n",
              "       'Country_ARG', 'Country_BRA', 'Country_PAR', 'Country_URU'],\n",
              "      dtype='object')"
            ]
          },
          "metadata": {
            "tags": []
          },
          "execution_count": 118
        }
      ]
    },
    {
      "cell_type": "code",
      "metadata": {
        "id": "mqEfeNzRetSi"
      },
      "source": [
        "import matplotlib\n",
        "import matplotlib.pyplot as plt\n",
        "import seaborn\n",
        "import numpy as np"
      ],
      "execution_count": null,
      "outputs": []
    },
    {
      "cell_type": "code",
      "metadata": {
        "id": "gQptWMpSijHb",
        "outputId": "68c9a7d2-8a54-4328-e2c8-4173c275b442",
        "colab": {
          "base_uri": "https://localhost:8080/",
          "height": 530
        }
      },
      "source": [
        "# Veamos las distribuciones de las variables sin escalado\n",
        "# Sin plotear las variables dummies\n",
        "fig, (ax1) = plt.subplots(ncols=1, figsize=(10, 8))\n",
        "ax1.set_title('Distribuciones originales')\n",
        "\n",
        "seaborn.kdeplot(data.iloc[:,0], ax=ax1)\n",
        "seaborn.kdeplot(data.iloc[:,1], ax=ax1)\n",
        "seaborn.kdeplot(data.iloc[:,2], ax=ax1)\n",
        "seaborn.kdeplot(data.iloc[:,3], ax=ax1)\n",
        "seaborn.kdeplot(data.iloc[:,4], ax=ax1)\n",
        "seaborn.kdeplot(data.iloc[:,5], ax=ax1)"
      ],
      "execution_count": null,
      "outputs": [
        {
          "output_type": "execute_result",
          "data": {
            "text/plain": [
              "<matplotlib.axes._subplots.AxesSubplot at 0x7f91a4e2fba8>"
            ]
          },
          "metadata": {
            "tags": []
          },
          "execution_count": 119
        },
        {
          "output_type": "display_data",
          "data": {
            "image/png": "[encoded data removed]",
            "text/plain": [
              "<Figure size 720x576 with 1 Axes>"
            ]
          },
          "metadata": {
            "tags": [],
            "needs_background": "light"
          }
        }
      ]
    },
    {
      "cell_type": "code",
      "metadata": {
        "id": "dOeUZwGpi44G",
        "outputId": "dac928a4-a448-4f58-f0f6-1025e36b1ffc",
        "colab": {
          "base_uri": "https://localhost:8080/",
          "height": 530
        }
      },
      "source": [
        "# Veamos las distribuciones de las variables con escalado\n",
        "fig, (ax1) = plt.subplots(ncols=1, figsize=(10, 8))\n",
        "ax1.set_title('Distribuciones escaladas con MinMaxScaler')\n",
        "\n",
        "seaborn.kdeplot(data_mm.iloc[:,0], ax=ax1)\n",
        "seaborn.kdeplot(data_mm.iloc[:,1], ax=ax1)\n",
        "seaborn.kdeplot(data_mm.iloc[:,2], ax=ax1)\n",
        "seaborn.kdeplot(data_mm.iloc[:,3], ax=ax1)\n",
        "seaborn.kdeplot(data_mm.iloc[:,4], ax=ax1)\n",
        "seaborn.kdeplot(data_mm.iloc[:,5], ax=ax1)\n",
        "seaborn.kdeplot(data_mm.iloc[:,6], ax=ax1)\n",
        "seaborn.kdeplot(data_mm.iloc[:,7], ax=ax1)\n",
        "seaborn.kdeplot(data_mm.iloc[:,8], ax=ax1)\n",
        "seaborn.kdeplot(data_mm.iloc[:,9], ax=ax1)\n"
      ],
      "execution_count": null,
      "outputs": [
        {
          "output_type": "execute_result",
          "data": {
            "text/plain": [
              "<matplotlib.axes._subplots.AxesSubplot at 0x7f91a31bae80>"
            ]
          },
          "metadata": {
            "tags": []
          },
          "execution_count": 120
        },
        {
          "output_type": "display_data",
          "data": {
            "image/png": "[encoded data removed]",
            "text/plain": [
              "<Figure size 720x576 with 1 Axes>"
            ]
          },
          "metadata": {
            "tags": [],
            "needs_background": "light"
          }
        }
      ]
    },
    {
      "cell_type": "markdown",
      "metadata": {
        "id": "3TIEBvKmdcjh"
      },
      "source": [
        "#### Modelado"
      ]
    },
    {
      "cell_type": "markdown",
      "metadata": {
        "id": "CU0NeJ_3dcji"
      },
      "source": [
        "## Parte I"
      ]
    },
    {
      "cell_type": "markdown",
      "metadata": {
        "id": "Bn_PgoDhdcjx"
      },
      "source": [
        "Una parte esencial del proceso de modelado (y en realidad de todo experimento científico) es llevar a cabo un *seguimiento* de todas las pruebas realizadas de manera tal de no \"perder resultados\" (con la consecuencia de tener que repetir experimentos ya realizados) y poder llevar un registro de que tanto se mejoró/empeoró. \n",
        "\n",
        "Para llevar a cabo esto disponemos de una herramienta llamada [mlflow](https://mlflow.org/) que nos permite llevar el trackeo de todo el proceso de una manera simple y rápida, además de poder guardar información que consideremos relevante. Así, la primer consigna de esta sección es **entender y setear la herramienta, instalando mlflow si es necesario, de manera tal que todo experimento que se pruebe a partir de este momento quede registrado y pueda recuperarse**. En este [link](https://github.com/PiConsulting/Pensadero/tree/master/Eventos/2020/2020-03-06_wids_mlflow) encontrarán una implementación simple con mflow de la cual pueden guiarse."
      ]
    },
    {
      "cell_type": "markdown",
      "metadata": {
        "id": "YuLTwRKe9rsy"
      },
      "source": [
        "## Respuesta. Parte I\n",
        "Decidimos integrar esta parte con cada modelo, por lo que se podrá encontrar la implementación de **mlflow** en la sección correspondiente a cada modelo ensayado en la **PARTE II**"
      ]
    },
    {
      "cell_type": "markdown",
      "metadata": {
        "id": "se_Hq3s-dcjz"
      },
      "source": [
        "## Parte II\n"
      ]
    },
    {
      "cell_type": "markdown",
      "metadata": {
        "id": "hT2QEQNgdcjz"
      },
      "source": [
        "1. Realizar la partición del dataset en conjunto de entrenamiento y test. ¿Son las distribuciones de los datos similares en ambos conjuntos? Si la respuesta es no, ¿qué decisión tomarían?.\n",
        "2. Probar modelos de *regresión lineal* y *polinomial* (elegir al menos dos grados diferentes) sobre los **datos sin normalizar**. ¿Cómo son los errores sobre el conjunto de entrenamiento y sobre el conjunto de test? Analizar los resultados.\n",
        "3. Probar algún modelo del tipo *árbol de decisión/random forest* para problemas de regresión también sobre los **datos sin normalizar**. Extraer y estudiar el feature importance. Análizar la performance de estos modelos y comparar con los resultados del punto 2 (**Sabemos que esto va a dar muy mal por la poca cantidad de datos!**).\n",
        "4. Repetir los pasos 2 y 3 sobre el **dataset normalizado**: ¿Cambian los resultados? ¿Se observa alguna diferencia en performance? ¿Algo para destacar?.\n",
        "5. A modo de práctica recuperar algún resultado usando mlflow. Nota: Se recomienda guardar las métricas obtenidas, modelos, tipo de algoritmo probado (y por qué no los dataset usados). \n",
        "6. Escribir conclusiones finales analizando los problemas al momento de modelar un dataset reducido (¿Qué rol cumple el overfitting en este caso?)"
      ]
    },
    {
      "cell_type": "markdown",
      "metadata": {
        "id": "6OQDX6w4aKnC"
      },
      "source": [
        "## Respuestas. Parte II"
      ]
    },
    {
      "cell_type": "markdown",
      "metadata": {
        "id": "-ltME_UFtfoj"
      },
      "source": [
        "### Modelos con el dataset no escalado"
      ]
    },
    {
      "cell_type": "markdown",
      "metadata": {
        "id": "VFx-WteptaAS"
      },
      "source": [
        "#### Partición del dataset"
      ]
    },
    {
      "cell_type": "code",
      "metadata": {
        "id": "pP2WuDA5RBNH"
      },
      "source": [
        "# Separamos la variable objetivo, Indice_de_Gini, y la eliminamos del dataframe\n",
        "y = data.Indice_de_Gini\n",
        "X = data.drop(\"Indice_de_Gini\", axis = 1)"
      ],
      "execution_count": null,
      "outputs": []
    },
    {
      "cell_type": "code",
      "metadata": {
        "id": "02lZLaHlOnqP"
      },
      "source": [
        "from sklearn.model_selection import train_test_split\n",
        "\n",
        "X_train, X_test, y_train, y_test = train_test_split(X, y, train_size=0.8, random_state=13)"
      ],
      "execution_count": null,
      "outputs": []
    },
    {
      "cell_type": "code",
      "metadata": {
        "id": "UEd_xI9Ar_8P"
      },
      "source": [
        "def histograms_plot(dataframe, features, rows, cols):\n",
        "    fig=plt.figure(figsize=(10,10))\n",
        "    for i, feature in enumerate(features):\n",
        "        ax=fig.add_subplot(rows,cols,i+1)\n",
        "        dataframe[feature].hist(bins=20,ax=ax)\n",
        "        tit = feature\n",
        "        tit = (tit[:15] + '..') if len(tit) > 15 else tit\n",
        "        ax.set_title(tit)\n",
        "    fig.tight_layout()  \n",
        "    plt.show()"
      ],
      "execution_count": null,
      "outputs": []
    },
    {
      "cell_type": "code",
      "metadata": {
        "id": "c-9ZDq0Qr_8Q",
        "outputId": "6164f855-ccab-4b64-b8ea-84e47317219d"
      },
      "source": [
        "histograms_plot(X_train, X_train.columns, 3, 3)"
      ],
      "execution_count": null,
      "outputs": [
        {
          "output_type": "display_data",
          "data": {
            "image/png": "[encoded data removed]",
            "text/plain": [
              "<Figure size 720x720 with 9 Axes>"
            ]
          },
          "metadata": {
            "tags": [],
            "needs_background": "light"
          }
        }
      ]
    },
    {
      "cell_type": "code",
      "metadata": {
        "id": "adLrtQZKRmHq",
        "outputId": "df9f6432-b2af-4a94-b8ed-c9620d088038"
      },
      "source": [
        "histograms_plot(X_test, X_test.columns, 3, 3)"
      ],
      "execution_count": null,
      "outputs": [
        {
          "output_type": "display_data",
          "data": {
            "image/png": "[encoded data removed]",
            "text/plain": [
              "<Figure size 720x720 with 9 Axes>"
            ]
          },
          "metadata": {
            "tags": [],
            "needs_background": "light"
          }
        }
      ]
    },
    {
      "cell_type": "markdown",
      "metadata": {
        "id": "iBz7bJ4Yr_8U"
      },
      "source": [
        "En general, se observa que las distribuciones de los atributos para los sets de train y test son muy similares, por lo que en este sentido no habría problema en la aplicación de los modelos de Aprendizaje Supervisado. "
      ]
    },
    {
      "cell_type": "markdown",
      "metadata": {
        "id": "DWG7_XZTuMKG"
      },
      "source": [
        "### Modelos"
      ]
    },
    {
      "cell_type": "markdown",
      "metadata": {
        "id": "rHADjVOsYTXj"
      },
      "source": [
        "##### **Árbol de decisión (regresión)**\n",
        "\n",
        "A continuación, se construye un árbol de decisión para modelar una regresión. Para ello, se utiliza la función DecisionTreeRegressor. Lo primero que se hace es crear el experimento **\"Arbol_def\"** donde guardaremos los resultados de este modelo cambiando sus hiperparámetros. Luego, en la celda siguiente se activa dicho experimento y se corren las diferentes versiones del modelo, guardando los logs correspondientes utilizando **mlflow**."
      ]
    },
    {
      "cell_type": "code",
      "metadata": {
        "id": "DPIf0ZHN9rtD"
      },
      "source": [
        "import mlflow\n",
        "import mlflow.sklearn"
      ],
      "execution_count": null,
      "outputs": []
    },
    {
      "cell_type": "code",
      "metadata": {
        "id": "H_zn35T69rtF",
        "outputId": "217d4c34-2689-4c6f-fa34-3cf1ecf47695"
      },
      "source": [
        "# Crear experimento\n",
        "mlflow.create_experiment(name=\"Arbol_Dec\")"
      ],
      "execution_count": null,
      "outputs": [
        {
          "output_type": "execute_result",
          "data": {
            "text/plain": [
              "'0'"
            ]
          },
          "metadata": {
            "tags": []
          },
          "execution_count": 297
        }
      ]
    },
    {
      "cell_type": "code",
      "metadata": {
        "id": "0LyolJtm9rtH",
        "outputId": "1fca434f-4993-47a1-9214-c044924bad2e"
      },
      "source": [
        "# Experimentos cambiando el hiperparámetro \"random_state\" para el modeo DecisionTreeRegressor (es trivial, pero sirve de prueba de concepto)\n",
        "mlflow.set_experiment(\"Arbol_Dec\") # Setear el experimento creado como el experimento \"activo\"\n",
        "\n",
        "from sklearn.tree import DecisionTreeRegressor\n",
        "from sklearn.metrics import mean_squared_error  \n",
        "\n",
        "for rs in (13,15,17): # se correran 3 versiones de DTR con esos tres valores para random_state, el subfijo \"_NS\" hace rreferncia a los datos No Escalados\n",
        "  with mlflow.start_run(run_name=\"DTR_NS_rs=\"+str(rs),nested=True): # dado que solo se cambia ese hiperparámetro, se identifica la corrida con su valor para su fácil reconocimiento posterior\n",
        "    \n",
        "    rd_st = rs # aquí se almacena el valor del hiperparámetro para cada corrida del modelo\n",
        "        \n",
        "    dt = DecisionTreeRegressor(random_state = rd_st) # definimos el modelo\n",
        "    dt.fit(X_train, y_train) # entrenamos\n",
        "    \n",
        "    mlflow.log_param('_tipo_algoritmo','DecisionTreeRegressor') # nos aseguramos de guardar el nombre del modelo para su posterior identificación\n",
        "    mlflow.log_params(dt.get_params()) # obtenemos los parámetros del modelo que se ejecutó\n",
        "    \n",
        "    y_train_pred = dt.predict(X_train) # guardamos temporalmente los predichos para train en la corrida en curso\n",
        "    y_test_pred = dt.predict(X_test) # guardamos temporalmente los predichos para test en la corrida en curso\n",
        "    \n",
        "    score_train = dt.score(X_train, y_train) # guardamos temporalmente los scores para train en la corrida en curso\n",
        "    score_test = dt.score(X_test, y_test) # guardamos temporalmente los scores para test en la corrida en curso\n",
        "    \n",
        "    mse_train = mean_squared_error(y_train, y_train_pred) # evaluamos el ECM para train, guardamos temporalmente para la corrida en curso\n",
        "    mse_test = mean_squared_error(y_test, y_test_pred) # evaluamos el ECM para test, guardamos temporalmente para la corrida en curso\n",
        "    \n",
        "    mlflow.log_metric('score_train', score_train) # Loggeamos la métrica score obtenida de DTR p/train en la corrida en curso\n",
        "    mlflow.log_metric('score_test', score_test) # Loggeamos la métrica score obtenida de DTR p/test en la corrida en curso\n",
        "    mlflow.log_metric('mse_train', mse_train) # Loggeamos la métrica MSE obtenida de DTR p/train en la corrida en curso\n",
        "    mlflow.log_metric('mse_test', mse_test) # Loggeamos la métrica MSE obtenida de DTR p/test en la corrida en curso\n",
        "    \n",
        "\n",
        "    # Como solo hacemos 3 experimentos imprimimos los resultados para rápida comparación (contemplar NO hacer esto si se ensayaran muchas versiones del modelo)\n",
        "    print('Param_set (rand_state): {}'.format(rd_st))\n",
        "    print('Score_train: {:.3f}'.format(score_train))\n",
        "    print('Score_test: {:.3f}'.format(score_test))\n",
        "    print('MSE_train: {:.3f}'.format(mse_train))\n",
        "    print('MSE_test: {:.3f}'.format(mse_test))\n",
        "    print('\\n')\n",
        "    mlflow.end_run()"
      ],
      "execution_count": null,
      "outputs": [
        {
          "output_type": "stream",
          "text": [
            "Param_set (rand_state): 13\n",
            "Score_train: 1.000\n",
            "Score_test: 0.845\n",
            "MSE_train: 0.000\n",
            "MSE_test: 5.408\n",
            "\n",
            "\n",
            "Param_set (rand_state): 15\n",
            "Score_train: 1.000\n",
            "Score_test: 0.844\n",
            "MSE_train: 0.000\n",
            "MSE_test: 5.468\n",
            "\n",
            "\n",
            "Param_set (rand_state): 17\n",
            "Score_train: 1.000\n",
            "Score_test: 0.850\n",
            "MSE_train: 0.000\n",
            "MSE_test: 5.253\n",
            "\n",
            "\n"
          ],
          "name": "stdout"
        }
      ]
    },
    {
      "cell_type": "code",
      "metadata": {
        "id": "TFwUz03B9rtJ",
        "outputId": "e06c2964-cccc-464a-e3b3-1a2716da303e"
      },
      "source": [
        "# Listar experimentos\n",
        "mlflow.tracking.MlflowClient().list_experiments()"
      ],
      "execution_count": null,
      "outputs": [
        {
          "output_type": "execute_result",
          "data": {
            "text/plain": [
              "[<Experiment: artifact_location='file:///home/nico/DIPLO/MENT/P3/mlruns/0', experiment_id='0', lifecycle_stage='active', name='Arbol_Dec', tags={}>]"
            ]
          },
          "metadata": {
            "tags": []
          },
          "execution_count": 299
        }
      ]
    },
    {
      "cell_type": "code",
      "metadata": {
        "id": "RHHXOq7_9rtK",
        "outputId": "0c97a9b3-4a7c-462e-db25-d5fdb6c8fd26"
      },
      "source": [
        "# Ver corridas del experimento activo\n",
        "mlflow.search_runs()\n",
        "# Localmente se puede ir al directorio donde se encuentra mlruns y correr \"mlflow ui\" para una versión GUI... ta piola,\n",
        "# se accede a través del navegador en \"localhost:5000\""
      ],
      "execution_count": null,
      "outputs": [
        {
          "output_type": "execute_result",
          "data": {
            "text/html": [
              "<div>\n",
              "<style scoped>\n",
              "    .dataframe tbody tr th:only-of-type {\n",
              "        vertical-align: middle;\n",
              "    }\n",
              "\n",
              "    .dataframe tbody tr th {\n",
              "        vertical-align: top;\n",
              "    }\n",
              "\n",
              "    .dataframe thead th {\n",
              "        text-align: right;\n",
              "    }\n",
              "</style>\n",
              "<table border=\"1\" class=\"dataframe\">\n",
              "  <thead>\n",
              "    <tr style=\"text-align: right;\">\n",
              "      <th></th>\n",
              "      <th>run_id</th>\n",
              "      <th>experiment_id</th>\n",
              "      <th>status</th>\n",
              "      <th>artifact_uri</th>\n",
              "      <th>start_time</th>\n",
              "      <th>end_time</th>\n",
              "      <th>metrics.mse_train</th>\n",
              "      <th>metrics.mse_test</th>\n",
              "      <th>metrics.score_test</th>\n",
              "      <th>metrics.score_train</th>\n",
              "      <th>...</th>\n",
              "      <th>params.min_samples_split</th>\n",
              "      <th>params.random_state</th>\n",
              "      <th>params.splitter</th>\n",
              "      <th>params.max_depth</th>\n",
              "      <th>params.ccp_alpha</th>\n",
              "      <th>params.min_samples_leaf</th>\n",
              "      <th>tags.mlflow.source.type</th>\n",
              "      <th>tags.mlflow.source.name</th>\n",
              "      <th>tags.mlflow.runName</th>\n",
              "      <th>tags.mlflow.user</th>\n",
              "    </tr>\n",
              "  </thead>\n",
              "  <tbody>\n",
              "    <tr>\n",
              "      <th>0</th>\n",
              "      <td>759110c2c8c94a8a9fd5c125573a3728</td>\n",
              "      <td>0</td>\n",
              "      <td>FINISHED</td>\n",
              "      <td>file:///home/nico/DIPLO/MENT/P3/mlruns/0/759110c2c8c94a8a9fd5c125573a3728/artifacts</td>\n",
              "      <td>2020-10-04 18:47:43.216000+00:00</td>\n",
              "      <td>2020-10-04 18:47:43.235000+00:00</td>\n",
              "      <td>0.0</td>\n",
              "      <td>5.252708</td>\n",
              "      <td>0.849914</td>\n",
              "      <td>1.0</td>\n",
              "      <td>...</td>\n",
              "      <td>2</td>\n",
              "      <td>17</td>\n",
              "      <td>best</td>\n",
              "      <td>None</td>\n",
              "      <td>0.0</td>\n",
              "      <td>1</td>\n",
              "      <td>LOCAL</td>\n",
              "      <td>/home/nico/miniconda3/envs/diplo_ANVD/lib/python3.6/site-packages/ipykernel_launcher.py</td>\n",
              "      <td>DTR_NS_rs=17</td>\n",
              "      <td>nico</td>\n",
              "    </tr>\n",
              "    <tr>\n",
              "      <th>1</th>\n",
              "      <td>8706af12e33e4cda80ac9b6143a8a631</td>\n",
              "      <td>0</td>\n",
              "      <td>FINISHED</td>\n",
              "      <td>file:///home/nico/DIPLO/MENT/P3/mlruns/0/8706af12e33e4cda80ac9b6143a8a631/artifacts</td>\n",
              "      <td>2020-10-04 18:47:43.192000+00:00</td>\n",
              "      <td>2020-10-04 18:47:43.215000+00:00</td>\n",
              "      <td>0.0</td>\n",
              "      <td>5.467708</td>\n",
              "      <td>0.843771</td>\n",
              "      <td>1.0</td>\n",
              "      <td>...</td>\n",
              "      <td>2</td>\n",
              "      <td>15</td>\n",
              "      <td>best</td>\n",
              "      <td>None</td>\n",
              "      <td>0.0</td>\n",
              "      <td>1</td>\n",
              "      <td>LOCAL</td>\n",
              "      <td>/home/nico/miniconda3/envs/diplo_ANVD/lib/python3.6/site-packages/ipykernel_launcher.py</td>\n",
              "      <td>DTR_NS_rs=15</td>\n",
              "      <td>nico</td>\n",
              "    </tr>\n",
              "    <tr>\n",
              "      <th>2</th>\n",
              "      <td>bd7b86ad73994dc3b0c71f57f949e762</td>\n",
              "      <td>0</td>\n",
              "      <td>FINISHED</td>\n",
              "      <td>file:///home/nico/DIPLO/MENT/P3/mlruns/0/bd7b86ad73994dc3b0c71f57f949e762/artifacts</td>\n",
              "      <td>2020-10-04 18:47:43.171000+00:00</td>\n",
              "      <td>2020-10-04 18:47:43.190000+00:00</td>\n",
              "      <td>0.0</td>\n",
              "      <td>5.407630</td>\n",
              "      <td>0.845488</td>\n",
              "      <td>1.0</td>\n",
              "      <td>...</td>\n",
              "      <td>2</td>\n",
              "      <td>13</td>\n",
              "      <td>best</td>\n",
              "      <td>None</td>\n",
              "      <td>0.0</td>\n",
              "      <td>1</td>\n",
              "      <td>LOCAL</td>\n",
              "      <td>/home/nico/miniconda3/envs/diplo_ANVD/lib/python3.6/site-packages/ipykernel_launcher.py</td>\n",
              "      <td>DTR_NS_rs=13</td>\n",
              "      <td>nico</td>\n",
              "    </tr>\n",
              "  </tbody>\n",
              "</table>\n",
              "<p>3 rows × 28 columns</p>\n",
              "</div>"
            ],
            "text/plain": [
              "                             run_id experiment_id    status  \\\n",
              "0  759110c2c8c94a8a9fd5c125573a3728  0             FINISHED   \n",
              "1  8706af12e33e4cda80ac9b6143a8a631  0             FINISHED   \n",
              "2  bd7b86ad73994dc3b0c71f57f949e762  0             FINISHED   \n",
              "\n",
              "                                                                          artifact_uri  \\\n",
              "0  file:///home/nico/DIPLO/MENT/P3/mlruns/0/759110c2c8c94a8a9fd5c125573a3728/artifacts   \n",
              "1  file:///home/nico/DIPLO/MENT/P3/mlruns/0/8706af12e33e4cda80ac9b6143a8a631/artifacts   \n",
              "2  file:///home/nico/DIPLO/MENT/P3/mlruns/0/bd7b86ad73994dc3b0c71f57f949e762/artifacts   \n",
              "\n",
              "                        start_time                         end_time  \\\n",
              "0 2020-10-04 18:47:43.216000+00:00 2020-10-04 18:47:43.235000+00:00   \n",
              "1 2020-10-04 18:47:43.192000+00:00 2020-10-04 18:47:43.215000+00:00   \n",
              "2 2020-10-04 18:47:43.171000+00:00 2020-10-04 18:47:43.190000+00:00   \n",
              "\n",
              "   metrics.mse_train  metrics.mse_test  metrics.score_test  \\\n",
              "0  0.0                5.252708          0.849914             \n",
              "1  0.0                5.467708          0.843771             \n",
              "2  0.0                5.407630          0.845488             \n",
              "\n",
              "   metrics.score_train  ... params.min_samples_split params.random_state  \\\n",
              "0  1.0                  ...  2                        17                   \n",
              "1  1.0                  ...  2                        15                   \n",
              "2  1.0                  ...  2                        13                   \n",
              "\n",
              "  params.splitter params.max_depth params.ccp_alpha params.min_samples_leaf  \\\n",
              "0  best            None             0.0              1                        \n",
              "1  best            None             0.0              1                        \n",
              "2  best            None             0.0              1                        \n",
              "\n",
              "  tags.mlflow.source.type  \\\n",
              "0  LOCAL                    \n",
              "1  LOCAL                    \n",
              "2  LOCAL                    \n",
              "\n",
              "                                                                   tags.mlflow.source.name  \\\n",
              "0  /home/nico/miniconda3/envs/diplo_ANVD/lib/python3.6/site-packages/ipykernel_launcher.py   \n",
              "1  /home/nico/miniconda3/envs/diplo_ANVD/lib/python3.6/site-packages/ipykernel_launcher.py   \n",
              "2  /home/nico/miniconda3/envs/diplo_ANVD/lib/python3.6/site-packages/ipykernel_launcher.py   \n",
              "\n",
              "  tags.mlflow.runName tags.mlflow.user  \n",
              "0  DTR_NS_rs=17        nico             \n",
              "1  DTR_NS_rs=15        nico             \n",
              "2  DTR_NS_rs=13        nico             \n",
              "\n",
              "[3 rows x 28 columns]"
            ]
          },
          "metadata": {
            "tags": []
          },
          "execution_count": 300
        }
      ]
    },
    {
      "cell_type": "markdown",
      "metadata": {
        "id": "IvPA6eC7slsp"
      },
      "source": [
        "##### **Regresiones polinomiales**\n",
        "\n",
        "A continuación, se construyen regresiones polinomiales de diferentes grados, desde grado 1 (regresión lineal) a grado 7. Se evalúa la performance de los modelos según su score y su error cuadrático medio. Lo primero que se hace es crear el experimento **\"Reg_Pol\"** donde guardaremos los resultados de este modelo cambiando sus hiperparámetros. Luego, en la celda siguiente se activa dicho experimento y se corren las diferentes versiones del modelo, guardando los logs correspondientes utilizando **mlflow** "
      ]
    },
    {
      "cell_type": "code",
      "metadata": {
        "id": "4SbI4OR19rtM",
        "outputId": "c7578712-4fba-460e-a146-567884554881"
      },
      "source": [
        "# Crear experimento\n",
        "mlflow.create_experiment(name=\"Reg_Pol\")"
      ],
      "execution_count": null,
      "outputs": [
        {
          "output_type": "execute_result",
          "data": {
            "text/plain": [
              "'1'"
            ]
          },
          "metadata": {
            "tags": []
          },
          "execution_count": 301
        }
      ]
    },
    {
      "cell_type": "code",
      "metadata": {
        "id": "Nx0zWwOk9rtP"
      },
      "source": [
        "# Experimentos cambiando el hiperparámetro \"grado del polinomio\" para el modeo PolynomialRegression\n",
        "mlflow.set_experiment(\"Reg_Pol\") # Setear el experimento creado como el experimento \"activo\"\n",
        "\n",
        "from sklearn.pipeline import make_pipeline\n",
        "from sklearn.metrics import mean_squared_error\n",
        "from sklearn.preprocessing import PolynomialFeatures\n",
        "from sklearn.linear_model import LinearRegression\n",
        "\n",
        "# Listas para guardar metricas y luego evaluar resultados de los modelos de acuerdo al grado del polinomio\n",
        "list_scores_train = []\n",
        "list_scores_test = []\n",
        "list_mse_train = []\n",
        "list_mse_test = []\n",
        "list_degrees = []\n",
        "\n",
        "for dg in range(7): # se correran 7 versiones de regresiones polinomoales cambiando el grado del polinomio utilizado, el subfijo \"_NS\" hace rreferncia a los datos No Escalados\n",
        "  with mlflow.start_run(run_name=\"RP_NS_dg=\"+str(dg+1),nested=True): # dado que solo se cambia ese hiperparámetro, se identifica la corrida con su valor para su fácil reconocimiento posterior\n",
        "    \n",
        "    degree = dg + 1 # aquí se almacena el valor del hiperparámetro para cada corrida del modelo\n",
        "    \n",
        "    pol_reg = make_pipeline(PolynomialFeatures(degree), LinearRegression()) # definimos el modelo\n",
        "    pol_reg.fit(X_train, y_train) # entrenamos\n",
        "\n",
        "    mlflow.log_param('_tipo_algoritmo','PolynomialRegression') # nos aseguramos de guardar el nombre del modelo para su posterior identificación\n",
        "    mlflow.log_params(pol_reg.get_params()) # obtenemos los parámetros del modelo que se ejecutó\n",
        "    \n",
        "    y_train_pred = pol_reg.predict(X_train) # guardamos temporalmente los predichos para train en la corrida en curso\n",
        "    y_test_pred = pol_reg.predict(X_test) # guardamos temporalmente los predichos para test en la corrida en curso\n",
        "    \n",
        "    score_train = pol_reg.score(X_train, y_train) # guardamos temporalmente los scores para train en la corrida en curso\n",
        "    score_test = pol_reg.score(X_test, y_test) # guardamos temporalmente los scores para test en la corrida en curso\n",
        "    \n",
        "    mse_train = mean_squared_error(y_train, y_train_pred) # evaluamos el ECM para train, guardamos temporalmente para la corrida en curso\n",
        "    mse_test = mean_squared_error(y_test, y_test_pred) # evaluamos el ECM para test, guardamos temporalmente para la corrida en curso\n",
        "    \n",
        "    mlflow.log_metric('score_train', score_train) # Loggeamos la métrica score obtenida de RP p/train en la corrida en curso\n",
        "    mlflow.log_metric('score_test', score_test) # Loggeamos la métrica score obtenida de RP p/test en la corrida en curso\n",
        "    mlflow.log_metric('mse_train', mse_train) # Loggeamos la métrica MSE obtenida de RP p/train en la corrida en curso\n",
        "    mlflow.log_metric('mse_test', mse_test) # Loggeamos la métrica MSE obtenida de RP p/test en la corrida en curso\n",
        "\n",
        "    mlflow.end_run()\n",
        "    \n",
        "# Listas para evaluar gráficamente los resultados de los modelos de acuerdo al grado del polinomio\n",
        "    list_scores_train.append(score_train)\n",
        "    list_scores_test.append(score_test)\n",
        "    \n",
        "    list_mse_train.append(mse_train)\n",
        "    list_mse_test.append(mse_test)\n",
        "    \n",
        "    list_degrees.append(degree)"
      ],
      "execution_count": null,
      "outputs": []
    },
    {
      "cell_type": "code",
      "metadata": {
        "id": "Egytonzn9rtQ",
        "outputId": "9ee0b1a8-2c66-4c5a-edd9-5fd274117d08"
      },
      "source": [
        "# Listar experimentos\n",
        "mlflow.tracking.MlflowClient().list_experiments()"
      ],
      "execution_count": null,
      "outputs": [
        {
          "output_type": "execute_result",
          "data": {
            "text/plain": [
              "[<Experiment: artifact_location='file:///home/nico/DIPLO/MENT/P3/mlruns/0', experiment_id='0', lifecycle_stage='active', name='Arbol_Dec', tags={}>,\n",
              " <Experiment: artifact_location='file:///home/nico/DIPLO/MENT/P3/mlruns/1', experiment_id='1', lifecycle_stage='active', name='Reg_Pol', tags={}>]"
            ]
          },
          "metadata": {
            "tags": []
          },
          "execution_count": 303
        }
      ]
    },
    {
      "cell_type": "code",
      "metadata": {
        "id": "EXBvrdb49rtS",
        "outputId": "2f5ee544-a766-4492-ea08-bcf634850665"
      },
      "source": [
        "# Ver corridas del experimento activo\n",
        "mlflow.search_runs()\n",
        "# Localmente se puede ir al directorio donde se encuentra mlruns y correr \"mlflow ui\" para una versión GUI... ta piola,\n",
        "# se accede a través del navegador en \"localhost:5000\""
      ],
      "execution_count": null,
      "outputs": [
        {
          "output_type": "execute_result",
          "data": {
            "text/html": [
              "<div>\n",
              "<style scoped>\n",
              "    .dataframe tbody tr th:only-of-type {\n",
              "        vertical-align: middle;\n",
              "    }\n",
              "\n",
              "    .dataframe tbody tr th {\n",
              "        vertical-align: top;\n",
              "    }\n",
              "\n",
              "    .dataframe thead th {\n",
              "        text-align: right;\n",
              "    }\n",
              "</style>\n",
              "<table border=\"1\" class=\"dataframe\">\n",
              "  <thead>\n",
              "    <tr style=\"text-align: right;\">\n",
              "      <th></th>\n",
              "      <th>run_id</th>\n",
              "      <th>experiment_id</th>\n",
              "      <th>status</th>\n",
              "      <th>artifact_uri</th>\n",
              "      <th>start_time</th>\n",
              "      <th>end_time</th>\n",
              "      <th>metrics.mse_train</th>\n",
              "      <th>metrics.mse_test</th>\n",
              "      <th>metrics.score_test</th>\n",
              "      <th>metrics.score_train</th>\n",
              "      <th>...</th>\n",
              "      <th>params.steps</th>\n",
              "      <th>params.linearregression__normalize</th>\n",
              "      <th>params.polynomialfeatures</th>\n",
              "      <th>params.linearregression__n_jobs</th>\n",
              "      <th>params.linearregression</th>\n",
              "      <th>params.polynomialfeatures__include_bias</th>\n",
              "      <th>tags.mlflow.source.type</th>\n",
              "      <th>tags.mlflow.source.name</th>\n",
              "      <th>tags.mlflow.runName</th>\n",
              "      <th>tags.mlflow.user</th>\n",
              "    </tr>\n",
              "  </thead>\n",
              "  <tbody>\n",
              "    <tr>\n",
              "      <th>0</th>\n",
              "      <td>e27acd37fcd84c6691a352a75412521b</td>\n",
              "      <td>1</td>\n",
              "      <td>FINISHED</td>\n",
              "      <td>file:///home/nico/DIPLO/MENT/P3/mlruns/1/e27acd37fcd84c6691a352a75412521b/artifacts</td>\n",
              "      <td>2020-10-04 18:47:49.449000+00:00</td>\n",
              "      <td>2020-10-04 18:47:49.506000+00:00</td>\n",
              "      <td>18.178744</td>\n",
              "      <td>20.174326</td>\n",
              "      <td>0.423559</td>\n",
              "      <td>0.508847</td>\n",
              "      <td>...</td>\n",
              "      <td>[('polynomialfeatures', PolynomialFeatures(degree=7)), ('linearregression', LinearRegression())]</td>\n",
              "      <td>False</td>\n",
              "      <td>PolynomialFeatures(degree=7)</td>\n",
              "      <td>None</td>\n",
              "      <td>LinearRegression()</td>\n",
              "      <td>True</td>\n",
              "      <td>LOCAL</td>\n",
              "      <td>/home/nico/miniconda3/envs/diplo_ANVD/lib/python3.6/site-packages/ipykernel_launcher.py</td>\n",
              "      <td>RP_NS_dg=7</td>\n",
              "      <td>nico</td>\n",
              "    </tr>\n",
              "    <tr>\n",
              "      <th>1</th>\n",
              "      <td>326ca1b4df614b46a232cab6926e89ff</td>\n",
              "      <td>1</td>\n",
              "      <td>FINISHED</td>\n",
              "      <td>file:///home/nico/DIPLO/MENT/P3/mlruns/1/326ca1b4df614b46a232cab6926e89ff/artifacts</td>\n",
              "      <td>2020-10-04 18:47:49.412000+00:00</td>\n",
              "      <td>2020-10-04 18:47:49.448000+00:00</td>\n",
              "      <td>17.508572</td>\n",
              "      <td>18.601449</td>\n",
              "      <td>0.468500</td>\n",
              "      <td>0.526953</td>\n",
              "      <td>...</td>\n",
              "      <td>[('polynomialfeatures', PolynomialFeatures(degree=6)), ('linearregression', LinearRegression())]</td>\n",
              "      <td>False</td>\n",
              "      <td>PolynomialFeatures(degree=6)</td>\n",
              "      <td>None</td>\n",
              "      <td>LinearRegression()</td>\n",
              "      <td>True</td>\n",
              "      <td>LOCAL</td>\n",
              "      <td>/home/nico/miniconda3/envs/diplo_ANVD/lib/python3.6/site-packages/ipykernel_launcher.py</td>\n",
              "      <td>RP_NS_dg=6</td>\n",
              "      <td>nico</td>\n",
              "    </tr>\n",
              "    <tr>\n",
              "      <th>2</th>\n",
              "      <td>50f25b0c19f34d90886243d8a9d015f1</td>\n",
              "      <td>1</td>\n",
              "      <td>FINISHED</td>\n",
              "      <td>file:///home/nico/DIPLO/MENT/P3/mlruns/1/50f25b0c19f34d90886243d8a9d015f1/artifacts</td>\n",
              "      <td>2020-10-04 18:47:49.385000+00:00</td>\n",
              "      <td>2020-10-04 18:47:49.411000+00:00</td>\n",
              "      <td>8.877313</td>\n",
              "      <td>9.678242</td>\n",
              "      <td>0.723463</td>\n",
              "      <td>0.760153</td>\n",
              "      <td>...</td>\n",
              "      <td>[('polynomialfeatures', PolynomialFeatures(degree=5)), ('linearregression', LinearRegression())]</td>\n",
              "      <td>False</td>\n",
              "      <td>PolynomialFeatures(degree=5)</td>\n",
              "      <td>None</td>\n",
              "      <td>LinearRegression()</td>\n",
              "      <td>True</td>\n",
              "      <td>LOCAL</td>\n",
              "      <td>/home/nico/miniconda3/envs/diplo_ANVD/lib/python3.6/site-packages/ipykernel_launcher.py</td>\n",
              "      <td>RP_NS_dg=5</td>\n",
              "      <td>nico</td>\n",
              "    </tr>\n",
              "    <tr>\n",
              "      <th>3</th>\n",
              "      <td>bab57a4f5bc14498a4c098e89182cbfc</td>\n",
              "      <td>1</td>\n",
              "      <td>FINISHED</td>\n",
              "      <td>file:///home/nico/DIPLO/MENT/P3/mlruns/1/bab57a4f5bc14498a4c098e89182cbfc/artifacts</td>\n",
              "      <td>2020-10-04 18:47:49.363000+00:00</td>\n",
              "      <td>2020-10-04 18:47:49.384000+00:00</td>\n",
              "      <td>7.153671</td>\n",
              "      <td>10.707711</td>\n",
              "      <td>0.694048</td>\n",
              "      <td>0.806722</td>\n",
              "      <td>...</td>\n",
              "      <td>[('polynomialfeatures', PolynomialFeatures(degree=4)), ('linearregression', LinearRegression())]</td>\n",
              "      <td>False</td>\n",
              "      <td>PolynomialFeatures(degree=4)</td>\n",
              "      <td>None</td>\n",
              "      <td>LinearRegression()</td>\n",
              "      <td>True</td>\n",
              "      <td>LOCAL</td>\n",
              "      <td>/home/nico/miniconda3/envs/diplo_ANVD/lib/python3.6/site-packages/ipykernel_launcher.py</td>\n",
              "      <td>RP_NS_dg=4</td>\n",
              "      <td>nico</td>\n",
              "    </tr>\n",
              "    <tr>\n",
              "      <th>4</th>\n",
              "      <td>81206a9636574f8a8401ea93f26bfacc</td>\n",
              "      <td>1</td>\n",
              "      <td>FINISHED</td>\n",
              "      <td>file:///home/nico/DIPLO/MENT/P3/mlruns/1/81206a9636574f8a8401ea93f26bfacc/artifacts</td>\n",
              "      <td>2020-10-04 18:47:49.340000+00:00</td>\n",
              "      <td>2020-10-04 18:47:49.362000+00:00</td>\n",
              "      <td>5.717628</td>\n",
              "      <td>5.643736</td>\n",
              "      <td>0.838741</td>\n",
              "      <td>0.845521</td>\n",
              "      <td>...</td>\n",
              "      <td>[('polynomialfeatures', PolynomialFeatures(degree=3)), ('linearregression', LinearRegression())]</td>\n",
              "      <td>False</td>\n",
              "      <td>PolynomialFeatures(degree=3)</td>\n",
              "      <td>None</td>\n",
              "      <td>LinearRegression()</td>\n",
              "      <td>True</td>\n",
              "      <td>LOCAL</td>\n",
              "      <td>/home/nico/miniconda3/envs/diplo_ANVD/lib/python3.6/site-packages/ipykernel_launcher.py</td>\n",
              "      <td>RP_NS_dg=3</td>\n",
              "      <td>nico</td>\n",
              "    </tr>\n",
              "    <tr>\n",
              "      <th>5</th>\n",
              "      <td>8a4a8cc06fa440e9b2d8aab3824be16a</td>\n",
              "      <td>1</td>\n",
              "      <td>FINISHED</td>\n",
              "      <td>file:///home/nico/DIPLO/MENT/P3/mlruns/1/8a4a8cc06fa440e9b2d8aab3824be16a/artifacts</td>\n",
              "      <td>2020-10-04 18:47:49.316000+00:00</td>\n",
              "      <td>2020-10-04 18:47:49.338000+00:00</td>\n",
              "      <td>1.005131</td>\n",
              "      <td>5.133044</td>\n",
              "      <td>0.853333</td>\n",
              "      <td>0.972843</td>\n",
              "      <td>...</td>\n",
              "      <td>[('polynomialfeatures', PolynomialFeatures()), ('linearregression', LinearRegression())]</td>\n",
              "      <td>False</td>\n",
              "      <td>PolynomialFeatures()</td>\n",
              "      <td>None</td>\n",
              "      <td>LinearRegression()</td>\n",
              "      <td>True</td>\n",
              "      <td>LOCAL</td>\n",
              "      <td>/home/nico/miniconda3/envs/diplo_ANVD/lib/python3.6/site-packages/ipykernel_launcher.py</td>\n",
              "      <td>RP_NS_dg=2</td>\n",
              "      <td>nico</td>\n",
              "    </tr>\n",
              "    <tr>\n",
              "      <th>6</th>\n",
              "      <td>76d8d5fc6b2a428b9b7d7084d116ec91</td>\n",
              "      <td>1</td>\n",
              "      <td>FINISHED</td>\n",
              "      <td>file:///home/nico/DIPLO/MENT/P3/mlruns/1/76d8d5fc6b2a428b9b7d7084d116ec91/artifacts</td>\n",
              "      <td>2020-10-04 18:47:49.283000+00:00</td>\n",
              "      <td>2020-10-04 18:47:49.314000+00:00</td>\n",
              "      <td>3.675641</td>\n",
              "      <td>5.498471</td>\n",
              "      <td>0.842892</td>\n",
              "      <td>0.900692</td>\n",
              "      <td>...</td>\n",
              "      <td>[('polynomialfeatures', PolynomialFeatures(degree=1)), ('linearregression', LinearRegression())]</td>\n",
              "      <td>False</td>\n",
              "      <td>PolynomialFeatures(degree=1)</td>\n",
              "      <td>None</td>\n",
              "      <td>LinearRegression()</td>\n",
              "      <td>True</td>\n",
              "      <td>LOCAL</td>\n",
              "      <td>/home/nico/miniconda3/envs/diplo_ANVD/lib/python3.6/site-packages/ipykernel_launcher.py</td>\n",
              "      <td>RP_NS_dg=1</td>\n",
              "      <td>nico</td>\n",
              "    </tr>\n",
              "  </tbody>\n",
              "</table>\n",
              "<p>7 rows × 28 columns</p>\n",
              "</div>"
            ],
            "text/plain": [
              "                             run_id experiment_id    status  \\\n",
              "0  e27acd37fcd84c6691a352a75412521b  1             FINISHED   \n",
              "1  326ca1b4df614b46a232cab6926e89ff  1             FINISHED   \n",
              "2  50f25b0c19f34d90886243d8a9d015f1  1             FINISHED   \n",
              "3  bab57a4f5bc14498a4c098e89182cbfc  1             FINISHED   \n",
              "4  81206a9636574f8a8401ea93f26bfacc  1             FINISHED   \n",
              "5  8a4a8cc06fa440e9b2d8aab3824be16a  1             FINISHED   \n",
              "6  76d8d5fc6b2a428b9b7d7084d116ec91  1             FINISHED   \n",
              "\n",
              "                                                                          artifact_uri  \\\n",
              "0  file:///home/nico/DIPLO/MENT/P3/mlruns/1/e27acd37fcd84c6691a352a75412521b/artifacts   \n",
              "1  file:///home/nico/DIPLO/MENT/P3/mlruns/1/326ca1b4df614b46a232cab6926e89ff/artifacts   \n",
              "2  file:///home/nico/DIPLO/MENT/P3/mlruns/1/50f25b0c19f34d90886243d8a9d015f1/artifacts   \n",
              "3  file:///home/nico/DIPLO/MENT/P3/mlruns/1/bab57a4f5bc14498a4c098e89182cbfc/artifacts   \n",
              "4  file:///home/nico/DIPLO/MENT/P3/mlruns/1/81206a9636574f8a8401ea93f26bfacc/artifacts   \n",
              "5  file:///home/nico/DIPLO/MENT/P3/mlruns/1/8a4a8cc06fa440e9b2d8aab3824be16a/artifacts   \n",
              "6  file:///home/nico/DIPLO/MENT/P3/mlruns/1/76d8d5fc6b2a428b9b7d7084d116ec91/artifacts   \n",
              "\n",
              "                        start_time                         end_time  \\\n",
              "0 2020-10-04 18:47:49.449000+00:00 2020-10-04 18:47:49.506000+00:00   \n",
              "1 2020-10-04 18:47:49.412000+00:00 2020-10-04 18:47:49.448000+00:00   \n",
              "2 2020-10-04 18:47:49.385000+00:00 2020-10-04 18:47:49.411000+00:00   \n",
              "3 2020-10-04 18:47:49.363000+00:00 2020-10-04 18:47:49.384000+00:00   \n",
              "4 2020-10-04 18:47:49.340000+00:00 2020-10-04 18:47:49.362000+00:00   \n",
              "5 2020-10-04 18:47:49.316000+00:00 2020-10-04 18:47:49.338000+00:00   \n",
              "6 2020-10-04 18:47:49.283000+00:00 2020-10-04 18:47:49.314000+00:00   \n",
              "\n",
              "   metrics.mse_train  metrics.mse_test  metrics.score_test  \\\n",
              "0  18.178744          20.174326         0.423559             \n",
              "1  17.508572          18.601449         0.468500             \n",
              "2  8.877313           9.678242          0.723463             \n",
              "3  7.153671           10.707711         0.694048             \n",
              "4  5.717628           5.643736          0.838741             \n",
              "5  1.005131           5.133044          0.853333             \n",
              "6  3.675641           5.498471          0.842892             \n",
              "\n",
              "   metrics.score_train  ...  \\\n",
              "0  0.508847             ...   \n",
              "1  0.526953             ...   \n",
              "2  0.760153             ...   \n",
              "3  0.806722             ...   \n",
              "4  0.845521             ...   \n",
              "5  0.972843             ...   \n",
              "6  0.900692             ...   \n",
              "\n",
              "                                                                                       params.steps  \\\n",
              "0  [('polynomialfeatures', PolynomialFeatures(degree=7)), ('linearregression', LinearRegression())]   \n",
              "1  [('polynomialfeatures', PolynomialFeatures(degree=6)), ('linearregression', LinearRegression())]   \n",
              "2  [('polynomialfeatures', PolynomialFeatures(degree=5)), ('linearregression', LinearRegression())]   \n",
              "3  [('polynomialfeatures', PolynomialFeatures(degree=4)), ('linearregression', LinearRegression())]   \n",
              "4  [('polynomialfeatures', PolynomialFeatures(degree=3)), ('linearregression', LinearRegression())]   \n",
              "5  [('polynomialfeatures', PolynomialFeatures()), ('linearregression', LinearRegression())]           \n",
              "6  [('polynomialfeatures', PolynomialFeatures(degree=1)), ('linearregression', LinearRegression())]   \n",
              "\n",
              "  params.linearregression__normalize     params.polynomialfeatures  \\\n",
              "0  False                              PolynomialFeatures(degree=7)   \n",
              "1  False                              PolynomialFeatures(degree=6)   \n",
              "2  False                              PolynomialFeatures(degree=5)   \n",
              "3  False                              PolynomialFeatures(degree=4)   \n",
              "4  False                              PolynomialFeatures(degree=3)   \n",
              "5  False                              PolynomialFeatures()           \n",
              "6  False                              PolynomialFeatures(degree=1)   \n",
              "\n",
              "  params.linearregression__n_jobs params.linearregression  \\\n",
              "0  None                            LinearRegression()       \n",
              "1  None                            LinearRegression()       \n",
              "2  None                            LinearRegression()       \n",
              "3  None                            LinearRegression()       \n",
              "4  None                            LinearRegression()       \n",
              "5  None                            LinearRegression()       \n",
              "6  None                            LinearRegression()       \n",
              "\n",
              "  params.polynomialfeatures__include_bias tags.mlflow.source.type  \\\n",
              "0  True                                    LOCAL                    \n",
              "1  True                                    LOCAL                    \n",
              "2  True                                    LOCAL                    \n",
              "3  True                                    LOCAL                    \n",
              "4  True                                    LOCAL                    \n",
              "5  True                                    LOCAL                    \n",
              "6  True                                    LOCAL                    \n",
              "\n",
              "                                                                   tags.mlflow.source.name  \\\n",
              "0  /home/nico/miniconda3/envs/diplo_ANVD/lib/python3.6/site-packages/ipykernel_launcher.py   \n",
              "1  /home/nico/miniconda3/envs/diplo_ANVD/lib/python3.6/site-packages/ipykernel_launcher.py   \n",
              "2  /home/nico/miniconda3/envs/diplo_ANVD/lib/python3.6/site-packages/ipykernel_launcher.py   \n",
              "3  /home/nico/miniconda3/envs/diplo_ANVD/lib/python3.6/site-packages/ipykernel_launcher.py   \n",
              "4  /home/nico/miniconda3/envs/diplo_ANVD/lib/python3.6/site-packages/ipykernel_launcher.py   \n",
              "5  /home/nico/miniconda3/envs/diplo_ANVD/lib/python3.6/site-packages/ipykernel_launcher.py   \n",
              "6  /home/nico/miniconda3/envs/diplo_ANVD/lib/python3.6/site-packages/ipykernel_launcher.py   \n",
              "\n",
              "  tags.mlflow.runName tags.mlflow.user  \n",
              "0  RP_NS_dg=7          nico             \n",
              "1  RP_NS_dg=6          nico             \n",
              "2  RP_NS_dg=5          nico             \n",
              "3  RP_NS_dg=4          nico             \n",
              "4  RP_NS_dg=3          nico             \n",
              "5  RP_NS_dg=2          nico             \n",
              "6  RP_NS_dg=1          nico             \n",
              "\n",
              "[7 rows x 28 columns]"
            ]
          },
          "metadata": {
            "tags": []
          },
          "execution_count": 304
        }
      ]
    },
    {
      "cell_type": "code",
      "metadata": {
        "id": "Ewi5RFzbmbcq",
        "outputId": "52062b66-e13c-45a1-a0b8-6840ca0092c8"
      },
      "source": [
        "reg_results = { 'degree': list_degrees, 'score_train': list_scores_train, 'score_test': list_scores_test, 'mse_train': list_mse_train, 'mse_test': list_mse_test } \n",
        "  \n",
        "df_reg_results = pd.DataFrame(reg_results)\n",
        "df_reg_results"
      ],
      "execution_count": null,
      "outputs": [
        {
          "output_type": "execute_result",
          "data": {
            "text/html": [
              "<div>\n",
              "<style scoped>\n",
              "    .dataframe tbody tr th:only-of-type {\n",
              "        vertical-align: middle;\n",
              "    }\n",
              "\n",
              "    .dataframe tbody tr th {\n",
              "        vertical-align: top;\n",
              "    }\n",
              "\n",
              "    .dataframe thead th {\n",
              "        text-align: right;\n",
              "    }\n",
              "</style>\n",
              "<table border=\"1\" class=\"dataframe\">\n",
              "  <thead>\n",
              "    <tr style=\"text-align: right;\">\n",
              "      <th></th>\n",
              "      <th>degree</th>\n",
              "      <th>score_train</th>\n",
              "      <th>score_test</th>\n",
              "      <th>mse_train</th>\n",
              "      <th>mse_test</th>\n",
              "    </tr>\n",
              "  </thead>\n",
              "  <tbody>\n",
              "    <tr>\n",
              "      <th>0</th>\n",
              "      <td>1</td>\n",
              "      <td>0.900692</td>\n",
              "      <td>0.842892</td>\n",
              "      <td>3.675641</td>\n",
              "      <td>5.498471</td>\n",
              "    </tr>\n",
              "    <tr>\n",
              "      <th>1</th>\n",
              "      <td>2</td>\n",
              "      <td>0.972843</td>\n",
              "      <td>0.853333</td>\n",
              "      <td>1.005131</td>\n",
              "      <td>5.133044</td>\n",
              "    </tr>\n",
              "    <tr>\n",
              "      <th>2</th>\n",
              "      <td>3</td>\n",
              "      <td>0.845521</td>\n",
              "      <td>0.838741</td>\n",
              "      <td>5.717628</td>\n",
              "      <td>5.643736</td>\n",
              "    </tr>\n",
              "    <tr>\n",
              "      <th>3</th>\n",
              "      <td>4</td>\n",
              "      <td>0.806722</td>\n",
              "      <td>0.694048</td>\n",
              "      <td>7.153671</td>\n",
              "      <td>10.707711</td>\n",
              "    </tr>\n",
              "    <tr>\n",
              "      <th>4</th>\n",
              "      <td>5</td>\n",
              "      <td>0.760153</td>\n",
              "      <td>0.723463</td>\n",
              "      <td>8.877313</td>\n",
              "      <td>9.678242</td>\n",
              "    </tr>\n",
              "    <tr>\n",
              "      <th>5</th>\n",
              "      <td>6</td>\n",
              "      <td>0.526953</td>\n",
              "      <td>0.468500</td>\n",
              "      <td>17.508572</td>\n",
              "      <td>18.601449</td>\n",
              "    </tr>\n",
              "    <tr>\n",
              "      <th>6</th>\n",
              "      <td>7</td>\n",
              "      <td>0.508847</td>\n",
              "      <td>0.423559</td>\n",
              "      <td>18.178744</td>\n",
              "      <td>20.174326</td>\n",
              "    </tr>\n",
              "  </tbody>\n",
              "</table>\n",
              "</div>"
            ],
            "text/plain": [
              "   degree  score_train  score_test  mse_train   mse_test\n",
              "0  1       0.900692     0.842892    3.675641   5.498471 \n",
              "1  2       0.972843     0.853333    1.005131   5.133044 \n",
              "2  3       0.845521     0.838741    5.717628   5.643736 \n",
              "3  4       0.806722     0.694048    7.153671   10.707711\n",
              "4  5       0.760153     0.723463    8.877313   9.678242 \n",
              "5  6       0.526953     0.468500    17.508572  18.601449\n",
              "6  7       0.508847     0.423559    18.178744  20.174326"
            ]
          },
          "metadata": {
            "tags": []
          },
          "execution_count": 305
        }
      ]
    },
    {
      "cell_type": "code",
      "metadata": {
        "id": "pAPKfDH9qcSm",
        "outputId": "56a9b937-6d3c-4535-c5bf-d56fca97451c",
        "colab": {
          "base_uri": "https://localhost:8080/",
          "height": 313
        }
      },
      "source": [
        "tmp_df = pd.melt(df_reg_results, id_vars=\"degree\", value_vars=[\"score_train\", \"score_test\"], value_name=\"Score\", var_name=\"Set\")\n",
        "seaborn.lineplot(x=\"degree\", y=\"Score\", hue = \"Set\", data=tmp_df)\n",
        "plt.title(\"Scores para regresiones polinomiales, según su grado\")"
      ],
      "execution_count": null,
      "outputs": [
        {
          "output_type": "execute_result",
          "data": {
            "text/plain": [
              "Text(0.5, 1.0, 'Scores para regresiones polinomiales, según su grado')"
            ]
          },
          "metadata": {
            "tags": []
          },
          "execution_count": 306
        },
        {
          "output_type": "display_data",
          "data": {
            "image/png": "[encoded data removed]",
            "text/plain": [
              "<Figure size 432x288 with 1 Axes>"
            ]
          },
          "metadata": {
            "tags": [],
            "needs_background": "light"
          }
        }
      ]
    },
    {
      "cell_type": "code",
      "metadata": {
        "id": "tHhpC9DvsLXX",
        "outputId": "97c864b1-903f-41c4-f2df-5d533cef4739",
        "colab": {
          "base_uri": "https://localhost:8080/",
          "height": 313
        }
      },
      "source": [
        "tmp_df = pd.melt(df_reg_results, id_vars=\"degree\", value_vars=[\"mse_train\", \"mse_test\"], value_name=\"ECM\", var_name=\"Set\")\n",
        "seaborn.lineplot(x=\"degree\", y=\"ECM\", hue = \"Set\", data=tmp_df)\n",
        "plt.title(\"ECM para regresiones polinomiales, según su grado\")"
      ],
      "execution_count": null,
      "outputs": [
        {
          "output_type": "execute_result",
          "data": {
            "text/plain": [
              "Text(0.5, 1.0, 'ECM para regresiones polinomiales, según su grado')"
            ]
          },
          "metadata": {
            "tags": []
          },
          "execution_count": 307
        },
        {
          "output_type": "display_data",
          "data": {
            "image/png": "[encoded data removed]",
            "text/plain": [
              "<Figure size 432x288 with 1 Axes>"
            ]
          },
          "metadata": {
            "tags": [],
            "needs_background": "light"
          }
        }
      ]
    },
    {
      "cell_type": "markdown",
      "metadata": {
        "id": "DlBwz6YEaopb"
      },
      "source": [
        "##### **Random Forest**\n",
        "\n",
        "A continuación, utilizamos el modelo Random Forest. Lo primero que se hace es crear el experimento **\"Rand_For\"** donde guardaremos los resultados de este modelo cambiando sus hiperparámetros. Luego, en la celda siguiente se activa dicho experimento y se corren las diferentes versiones del modelo, guardando los logs correspondientes utilizando **mlflow** "
      ]
    },
    {
      "cell_type": "code",
      "metadata": {
        "id": "1uzvCIKd9rtb",
        "outputId": "919f183b-64a3-4baf-f373-47e3f62ff117"
      },
      "source": [
        "# Crear experimento\n",
        "mlflow.create_experiment(name=\"Rand_For\")"
      ],
      "execution_count": null,
      "outputs": [
        {
          "output_type": "execute_result",
          "data": {
            "text/plain": [
              "'2'"
            ]
          },
          "metadata": {
            "tags": []
          },
          "execution_count": 308
        }
      ]
    },
    {
      "cell_type": "code",
      "metadata": {
        "id": "hUz65BIN9rtd",
        "outputId": "2a256b9f-945f-4bb6-d591-7d2948f2894f"
      },
      "source": [
        "# Experimentos cambiando el hiperparámetro \"criterio\", que defije la función de calidad para definir una partición\n",
        "mlflow.set_experiment(\"Rand_For\") # Setear el experimento creado como el experimento \"activo\"\n",
        "\n",
        "from sklearn import ensemble\n",
        "from sklearn.metrics import mean_squared_error\n",
        "from sklearn.metrics import mean_absolute_error\n",
        "\n",
        "for cr in (\"mse\",\"mae\"): # se correran 2 versiones de RF con diferentes criterios de calidad, el subfijo \"_NS\" hace rreferncia a los datos No Escalados\n",
        "  with mlflow.start_run(run_name=\"RF_NS_cr=\"+str(cr),nested=True): # dado que solo se cambia ese hiperparámetro, se identifica la corrida con su valor para su fácil reconocimiento posterior\n",
        "    \n",
        "    q_crit = cr # aquí se almacena el valor del hiperparámetro para cada corrida del modelo\n",
        "    \n",
        "    rf = ensemble.RandomForestRegressor(criterion= q_crit, random_state=0) # definimos el modelo\n",
        "    rf.fit(X_train, y_train) # entrenamos\n",
        "    \n",
        "    mlflow.log_param('_tipo_algoritmo','RandomForestRegressor') # nos aseguramos de guardar el nombre del modelo para su posterior identificación\n",
        "    mlflow.log_params(rf.get_params()) # obtenemos los parámetros del modelo que se ejecutó\n",
        "    \n",
        "    pred_train = rf.predict(X_train) # guardamos temporalmente los predichos para train en la corrida en curso\n",
        "    pred_test = rf.predict(X_test) # guardamos temporalmente los predichos para test en la corrida en curso\n",
        "     \n",
        "    score_train = rf.score(X_train, pred_train) # guardamos temporalmente los scores para train en la corrida en curso\n",
        "    score_test = rf.score(X_test, pred_test) # guardamos temporalmente los scores para train en la corrida en curso\n",
        "    \n",
        "    mse_train = mean_squared_error(y_train, pred_train) # evaluamos el ECM para train, guardamos temporalmente para la corrida en curso\n",
        "    mse_test = mean_squared_error(y_test, pred_test) # evaluamos el ECM para test, guardamos temporalmente para la corrida en curso\n",
        "    \n",
        "    mae_train = mean_absolute_error(y_train, pred_train) # evaluamos el EMA para test, guardamos temporalmente para la corrida en curso\n",
        "    mae_test = mean_absolute_error(y_test, pred_test) # evaluamos el EMA para test, guardamos temporalmente para la corrida en curso\n",
        "    \n",
        "    mlflow.log_metric('score_train', score_train) # Loggeamos la métrica score obtenida de RF p/train en la corrida en curso\n",
        "    mlflow.log_metric('score_test', score_test) # Loggeamos la métrica score obtenida de RF p/test en la corrida en curso\n",
        "    mlflow.log_metric('mse_train', mse_train) # Loggeamos la métrica ECM obtenida de RF p/train en la corrida en curso\n",
        "    mlflow.log_metric('mse_test', mse_test) # Loggeamos la métrica ECM obtenida de RF p/test en la corrida en curso\n",
        "    mlflow.log_metric('mae_train', mae_train) # Loggeamos la métrica EMA obtenida de RF p/train en la corrida en curso\n",
        "    mlflow.log_metric('mae_test', mae_test) # Loggeamos la métrica EMA obtenida de RF p/test en la corrida en curso\n",
        "\n",
        "    \n",
        "# Como solo hacemos 2 experimentos imprimimos los resultados para rápida comparación (contemplar NO hacer esto si se ensayaran muchas versiones del modelo)\n",
        "    print('Param_set (q_criterion): {}'.format(q_crit))\n",
        "    print('Score_train: {:.3f}'.format(score_train))\n",
        "    print('Score_test: {:.3f}'.format(score_test))\n",
        "    print('MSE_train: {:.3f}'.format(mse_train))\n",
        "    print('MSE_test: {:.3f}'.format(mse_test))\n",
        "    print('MAE_train: {:.3f}'.format(mae_train))\n",
        "    print('MAE_test: {:.3f}'.format(mae_test))\n",
        "    print('\\n')\n",
        "    \n",
        "    mlflow.end_run()"
      ],
      "execution_count": null,
      "outputs": [
        {
          "output_type": "stream",
          "text": [
            "Param_set (q_criterion): mse\n",
            "Score_train: 1.000\n",
            "Score_test: 1.000\n",
            "MSE_train: 0.344\n",
            "MSE_test: 3.169\n",
            "MAE_train: 0.434\n",
            "MAE_test: 1.183\n",
            "\n",
            "\n",
            "Param_set (q_criterion): mae\n",
            "Score_train: 1.000\n",
            "Score_test: 1.000\n",
            "MSE_train: 0.369\n",
            "MSE_test: 2.846\n",
            "MAE_train: 0.443\n",
            "MAE_test: 1.139\n",
            "\n",
            "\n"
          ],
          "name": "stdout"
        }
      ]
    },
    {
      "cell_type": "code",
      "metadata": {
        "id": "VgLWUATC9rtf",
        "outputId": "7cde394a-7ab1-44d2-9dc8-ce118391e940"
      },
      "source": [
        "# Listar experimentos\n",
        "mlflow.tracking.MlflowClient().list_experiments()"
      ],
      "execution_count": null,
      "outputs": [
        {
          "output_type": "execute_result",
          "data": {
            "text/plain": [
              "[<Experiment: artifact_location='file:///home/nico/DIPLO/MENT/P3/mlruns/0', experiment_id='0', lifecycle_stage='active', name='Arbol_Dec', tags={}>,\n",
              " <Experiment: artifact_location='file:///home/nico/DIPLO/MENT/P3/mlruns/1', experiment_id='1', lifecycle_stage='active', name='Reg_Pol', tags={}>,\n",
              " <Experiment: artifact_location='file:///home/nico/DIPLO/MENT/P3/mlruns/2', experiment_id='2', lifecycle_stage='active', name='Rand_For', tags={}>]"
            ]
          },
          "metadata": {
            "tags": []
          },
          "execution_count": 311
        }
      ]
    },
    {
      "cell_type": "code",
      "metadata": {
        "id": "V4NRxR5f9rtg",
        "outputId": "e6c240fc-4f04-4343-b08a-2fb556b47dd8"
      },
      "source": [
        "# Ver corridas del experimento activo\n",
        "mlflow.search_runs()\n",
        "# Localmente se puede ir al directorio donde se encuentra mlruns y correr \"mlflow ui\" para una versión GUI... ta piola,\n",
        "# se accede a través del navegador en \"localhost:5000\""
      ],
      "execution_count": null,
      "outputs": [
        {
          "output_type": "execute_result",
          "data": {
            "text/html": [
              "<div>\n",
              "<style scoped>\n",
              "    .dataframe tbody tr th:only-of-type {\n",
              "        vertical-align: middle;\n",
              "    }\n",
              "\n",
              "    .dataframe tbody tr th {\n",
              "        vertical-align: top;\n",
              "    }\n",
              "\n",
              "    .dataframe thead th {\n",
              "        text-align: right;\n",
              "    }\n",
              "</style>\n",
              "<table border=\"1\" class=\"dataframe\">\n",
              "  <thead>\n",
              "    <tr style=\"text-align: right;\">\n",
              "      <th></th>\n",
              "      <th>run_id</th>\n",
              "      <th>experiment_id</th>\n",
              "      <th>status</th>\n",
              "      <th>artifact_uri</th>\n",
              "      <th>start_time</th>\n",
              "      <th>end_time</th>\n",
              "      <th>metrics.mse_train</th>\n",
              "      <th>metrics.mae_train</th>\n",
              "      <th>metrics.score_train</th>\n",
              "      <th>metrics.mse_test</th>\n",
              "      <th>...</th>\n",
              "      <th>params.min_impurity_split</th>\n",
              "      <th>params.min_samples_split</th>\n",
              "      <th>params.random_state</th>\n",
              "      <th>params.oob_score</th>\n",
              "      <th>params.max_depth</th>\n",
              "      <th>params.ccp_alpha</th>\n",
              "      <th>tags.mlflow.source.type</th>\n",
              "      <th>tags.mlflow.source.name</th>\n",
              "      <th>tags.mlflow.runName</th>\n",
              "      <th>tags.mlflow.user</th>\n",
              "    </tr>\n",
              "  </thead>\n",
              "  <tbody>\n",
              "    <tr>\n",
              "      <th>0</th>\n",
              "      <td>9431d3cbedd448bf9795bde57868fb17</td>\n",
              "      <td>2</td>\n",
              "      <td>FINISHED</td>\n",
              "      <td>file:///home/nico/DIPLO/MENT/P3/mlruns/2/9431d3cbedd448bf9795bde57868fb17/artifacts</td>\n",
              "      <td>2020-10-04 18:48:00.400000+00:00</td>\n",
              "      <td>2020-10-04 18:48:00.576000+00:00</td>\n",
              "      <td>0.369227</td>\n",
              "      <td>0.442908</td>\n",
              "      <td>1.0</td>\n",
              "      <td>2.845740</td>\n",
              "      <td>...</td>\n",
              "      <td>None</td>\n",
              "      <td>2</td>\n",
              "      <td>0</td>\n",
              "      <td>False</td>\n",
              "      <td>None</td>\n",
              "      <td>0.0</td>\n",
              "      <td>LOCAL</td>\n",
              "      <td>/home/nico/miniconda3/envs/diplo_ANVD/lib/python3.6/site-packages/ipykernel_launcher.py</td>\n",
              "      <td>RF_NS_cr=mae</td>\n",
              "      <td>nico</td>\n",
              "    </tr>\n",
              "    <tr>\n",
              "      <th>1</th>\n",
              "      <td>3b5c316802084c18beb35a191f1a9570</td>\n",
              "      <td>2</td>\n",
              "      <td>FINISHED</td>\n",
              "      <td>file:///home/nico/DIPLO/MENT/P3/mlruns/2/3b5c316802084c18beb35a191f1a9570/artifacts</td>\n",
              "      <td>2020-10-04 18:48:00.244000+00:00</td>\n",
              "      <td>2020-10-04 18:48:00.399000+00:00</td>\n",
              "      <td>0.343835</td>\n",
              "      <td>0.434424</td>\n",
              "      <td>1.0</td>\n",
              "      <td>3.168676</td>\n",
              "      <td>...</td>\n",
              "      <td>None</td>\n",
              "      <td>2</td>\n",
              "      <td>0</td>\n",
              "      <td>False</td>\n",
              "      <td>None</td>\n",
              "      <td>0.0</td>\n",
              "      <td>LOCAL</td>\n",
              "      <td>/home/nico/miniconda3/envs/diplo_ANVD/lib/python3.6/site-packages/ipykernel_launcher.py</td>\n",
              "      <td>RF_NS_cr=mse</td>\n",
              "      <td>nico</td>\n",
              "    </tr>\n",
              "  </tbody>\n",
              "</table>\n",
              "<p>2 rows × 35 columns</p>\n",
              "</div>"
            ],
            "text/plain": [
              "                             run_id experiment_id    status  \\\n",
              "0  9431d3cbedd448bf9795bde57868fb17  2             FINISHED   \n",
              "1  3b5c316802084c18beb35a191f1a9570  2             FINISHED   \n",
              "\n",
              "                                                                          artifact_uri  \\\n",
              "0  file:///home/nico/DIPLO/MENT/P3/mlruns/2/9431d3cbedd448bf9795bde57868fb17/artifacts   \n",
              "1  file:///home/nico/DIPLO/MENT/P3/mlruns/2/3b5c316802084c18beb35a191f1a9570/artifacts   \n",
              "\n",
              "                        start_time                         end_time  \\\n",
              "0 2020-10-04 18:48:00.400000+00:00 2020-10-04 18:48:00.576000+00:00   \n",
              "1 2020-10-04 18:48:00.244000+00:00 2020-10-04 18:48:00.399000+00:00   \n",
              "\n",
              "   metrics.mse_train  metrics.mae_train  metrics.score_train  \\\n",
              "0  0.369227           0.442908           1.0                   \n",
              "1  0.343835           0.434424           1.0                   \n",
              "\n",
              "   metrics.mse_test  ...  params.min_impurity_split  params.min_samples_split  \\\n",
              "0  2.845740          ...  None                       2                          \n",
              "1  3.168676          ...  None                       2                          \n",
              "\n",
              "  params.random_state params.oob_score params.max_depth params.ccp_alpha  \\\n",
              "0  0                   False            None             0.0               \n",
              "1  0                   False            None             0.0               \n",
              "\n",
              "  tags.mlflow.source.type  \\\n",
              "0  LOCAL                    \n",
              "1  LOCAL                    \n",
              "\n",
              "                                                                   tags.mlflow.source.name  \\\n",
              "0  /home/nico/miniconda3/envs/diplo_ANVD/lib/python3.6/site-packages/ipykernel_launcher.py   \n",
              "1  /home/nico/miniconda3/envs/diplo_ANVD/lib/python3.6/site-packages/ipykernel_launcher.py   \n",
              "\n",
              "  tags.mlflow.runName tags.mlflow.user  \n",
              "0  RF_NS_cr=mae        nico             \n",
              "1  RF_NS_cr=mse        nico             \n",
              "\n",
              "[2 rows x 35 columns]"
            ]
          },
          "metadata": {
            "tags": []
          },
          "execution_count": 312
        }
      ]
    },
    {
      "cell_type": "markdown",
      "metadata": {
        "id": "-QzoQYGO3ulG"
      },
      "source": [
        "#### Análisis\n",
        "\n",
        "Para cada modelo, se obtuvo el score y el error cuadrático medio. En el caso de regresiones, o árboles de decision regresores, el score hace referencia al coeficiente de determinación (R-cuadrado). Este parámetro adquiere valores entre 0 y 1, siendo los valores cercanos a 1 modelos de mejor calidad, y que mejor reflejan los datos estudiados. El error cuadrático medio, refleja la diferencia entre los datos estudiados y los estimados mediante el modelo. Mientras más bajo, mejor es el modelo.\n",
        "\n",
        "\n",
        "Entre las regresiones polinomiales, se observa que el modelo que mejor explica los datos del set de test es una regresión polinomial de grado 2. Esta obtuvo el mejor score del set de test entre las diferentes regresiones (85%) y un error cuadrático medio bajo (5.1). Es de destacar también la performance de la regresión lineal simple, la cual fue muy similar a la regresión polinomial de grado 2.\n",
        "\n",
        "El árbol de decisión para en el modo de regresión también obtuvo una performance bastant buena, pero sin superar a la regresión polinomial de grado 2.\n",
        "\n",
        "El modelo de RandomForest, obtuvo la mejor performance entre todos los modelos analizados, con un score del set de test de prácticamente 100%. "
      ]
    },
    {
      "cell_type": "markdown",
      "metadata": {
        "id": "GBFoKXcotrMJ"
      },
      "source": [
        "### Modelos con el dataset escalado con MinMaxScaler"
      ]
    },
    {
      "cell_type": "markdown",
      "metadata": {
        "id": "Cav7BQpNuSRV"
      },
      "source": [
        "#### Partición del dataset"
      ]
    },
    {
      "cell_type": "code",
      "metadata": {
        "id": "KdTWcG98uSRf"
      },
      "source": [
        "# Separamos la variable objetivo, Indice_de_Gini, y la eliminamos del dataframe\n",
        "y = data_mm.Indice_de_Gini\n",
        "X = data_mm.drop(\"Indice_de_Gini\", axis = 1)"
      ],
      "execution_count": null,
      "outputs": []
    },
    {
      "cell_type": "code",
      "metadata": {
        "id": "6R-zYl1YuSR8"
      },
      "source": [
        "from sklearn.model_selection import train_test_split\n",
        "\n",
        "X_train, X_test, y_train, y_test = train_test_split(X, y, train_size=0.8, random_state=13)"
      ],
      "execution_count": null,
      "outputs": []
    },
    {
      "cell_type": "code",
      "metadata": {
        "id": "prSueudDuSSX"
      },
      "source": [
        "#X_train.hist()"
      ],
      "execution_count": null,
      "outputs": []
    },
    {
      "cell_type": "code",
      "metadata": {
        "id": "ulMW_GzsuSSm"
      },
      "source": [
        "#X_test.hist()"
      ],
      "execution_count": null,
      "outputs": []
    },
    {
      "cell_type": "code",
      "metadata": {
        "id": "Az3v6_qNuSSz"
      },
      "source": [
        "#seaborn.displot(x=y_train, stat=\"density\"), seaborn.displot(x=y_test, stat=\"density\")"
      ],
      "execution_count": null,
      "outputs": []
    },
    {
      "cell_type": "markdown",
      "metadata": {
        "id": "D03IVeXfufNK"
      },
      "source": [
        "#### Modelos"
      ]
    },
    {
      "cell_type": "markdown",
      "metadata": {
        "id": "mOxxoLWMtrNy"
      },
      "source": [
        "##### **Regresiones polinomiales**\n",
        "\n",
        "A continuación, se construyen regresiones polinomiales de diferentes grados. Se evalúa la performance de los modelos según su score y su error cuadrático medio. Al respecto de **mlflow**, ver descripción del modelo en la sección correspondiente a los modelos con el dataset no escalado."
      ]
    },
    {
      "cell_type": "code",
      "metadata": {
        "id": "d5_pV46u9rtv"
      },
      "source": [
        "# Experimentos cambiando el hiperparámetro \"grado del polinomio\" para el modeo PolynomialRegression\n",
        "mlflow.set_experiment(\"Reg_Pol\") # Setear el experimento creado como el experimento \"activo\"\n",
        "\n",
        "from sklearn.pipeline import make_pipeline\n",
        "from sklearn.metrics import mean_squared_error\n",
        "from sklearn.preprocessing import PolynomialFeatures\n",
        "from sklearn.linear_model import LinearRegression\n",
        "\n",
        "# Listas para guardar metricas y luego evaluar resultados de los modelos de acuerdo al grado del polinomio\n",
        "list_scores_train = []\n",
        "list_scores_test = []\n",
        "list_mse_train = []\n",
        "list_mse_test = []\n",
        "list_degrees = []\n",
        "\n",
        "for dg in range(7): # se correran 7 versiones de RP cambiando el grado del polinomio utilizado, el subfijo \"_SC\" hace referencia a los datos Escalados\n",
        "  with mlflow.start_run(run_name=\"RP_SC_dg=\"+str(dg+1),nested=True): # dado que solo se cambia ese hiperparámetro, se identifica la corrida con su valor para su fácil reconocimiento posterior\n",
        "    \n",
        "    degree = dg + 1 # aquí se almacena el valor del hiperparámetro para cada corrida del modelo\n",
        "    \n",
        "    pol_reg = make_pipeline(PolynomialFeatures(degree), LinearRegression()) # definimos el modelo\n",
        "    pol_reg.fit(X_train, y_train) # entrenamos\n",
        "\n",
        "    mlflow.log_param('_tipo_algoritmo','PolynomialRegression') # nos aseguramos de guardar el nombre del modelo para su posterior identificación\n",
        "    mlflow.log_params(pol_reg.get_params()) # obtenemos los parámetros del modelo que se ejecutó\n",
        "    \n",
        "    y_train_pred = pol_reg.predict(X_train) # guardamos temporalmente los predichos para train en la corrida en curso\n",
        "    y_test_pred = pol_reg.predict(X_test) # guardamos temporalmente los predichos para test en la corrida en curso\n",
        "    \n",
        "    score_train = pol_reg.score(X_train, y_train) # guardamos temporalmente los scores para train en la corrida en curso\n",
        "    score_test = pol_reg.score(X_test, y_test) # guardamos temporalmente los scores para test en la corrida en curso\n",
        "    \n",
        "    mse_train = mean_squared_error(y_train, y_train_pred) # evaluamos el ECM para train, guardamos temporalmente para la corrida en curso\n",
        "    mse_test = mean_squared_error(y_test, y_test_pred) # evaluamos el ECM para test, guardamos temporalmente para la corrida en curso\n",
        "    \n",
        "    mlflow.log_metric('score_train', score_train) # Loggeamos la métrica score obtenida de RP p/train en la corrida en curso\n",
        "    mlflow.log_metric('score_test', score_test) # Loggeamos la métrica score obtenida de RP p/test en la corrida en curso\n",
        "    mlflow.log_metric('mse_train', mse_train) # Loggeamos la métrica MSE obtenida de RP p/train en la corrida en curso\n",
        "    mlflow.log_metric('mse_test', mse_test) # Loggeamos la métrica MSE obtenida de RP p/test en la corrida en curso\n",
        "\n",
        "    mlflow.end_run()\n",
        "    \n",
        "# Listas para evaluar gráficamente los resultados de los modelos de acuerdo al grado del polinomio\n",
        "    list_scores_train.append(score_train)\n",
        "    list_scores_test.append(score_test)\n",
        "    \n",
        "    list_mse_train.append(mse_train)\n",
        "    list_mse_test.append(mse_test)\n",
        "    \n",
        "    list_degrees.append(degree)"
      ],
      "execution_count": null,
      "outputs": []
    },
    {
      "cell_type": "code",
      "metadata": {
        "id": "HIuQ-u6O9rtx",
        "outputId": "b39e9c9a-45a0-4132-f920-8dfde33a8655"
      },
      "source": [
        "# Listar experimentos\n",
        "mlflow.tracking.MlflowClient().list_experiments()"
      ],
      "execution_count": null,
      "outputs": [
        {
          "output_type": "execute_result",
          "data": {
            "text/plain": [
              "[<Experiment: artifact_location='file:///home/nico/DIPLO/MENT/P3/mlruns/0', experiment_id='0', lifecycle_stage='active', name='Arbol_Dec', tags={}>,\n",
              " <Experiment: artifact_location='file:///home/nico/DIPLO/MENT/P3/mlruns/1', experiment_id='1', lifecycle_stage='active', name='Reg_Pol', tags={}>,\n",
              " <Experiment: artifact_location='file:///home/nico/DIPLO/MENT/P3/mlruns/2', experiment_id='2', lifecycle_stage='active', name='Rand_For', tags={}>]"
            ]
          },
          "metadata": {
            "tags": []
          },
          "execution_count": 319
        }
      ]
    },
    {
      "cell_type": "code",
      "metadata": {
        "id": "EVQQ_Zbg9rtz",
        "outputId": "271097a9-5bc5-4373-ffac-aa8f63f373a3"
      },
      "source": [
        "# Ver corridas del experimento activo # Ahora se incluyen los de datos no escalados y escalados bajo Reg_Pol\n",
        "mlflow.search_runs()\n",
        "# Localmente se puede ir al directorio donde se encuentra mlruns y correr \"mlflow ui\" para una versión GUI... ta piola,\n",
        "# se accede a través del navegador en \"localhost:5000\""
      ],
      "execution_count": null,
      "outputs": [
        {
          "output_type": "execute_result",
          "data": {
            "text/html": [
              "<div>\n",
              "<style scoped>\n",
              "    .dataframe tbody tr th:only-of-type {\n",
              "        vertical-align: middle;\n",
              "    }\n",
              "\n",
              "    .dataframe tbody tr th {\n",
              "        vertical-align: top;\n",
              "    }\n",
              "\n",
              "    .dataframe thead th {\n",
              "        text-align: right;\n",
              "    }\n",
              "</style>\n",
              "<table border=\"1\" class=\"dataframe\">\n",
              "  <thead>\n",
              "    <tr style=\"text-align: right;\">\n",
              "      <th></th>\n",
              "      <th>run_id</th>\n",
              "      <th>experiment_id</th>\n",
              "      <th>status</th>\n",
              "      <th>artifact_uri</th>\n",
              "      <th>start_time</th>\n",
              "      <th>end_time</th>\n",
              "      <th>metrics.mse_train</th>\n",
              "      <th>metrics.mse_test</th>\n",
              "      <th>metrics.score_test</th>\n",
              "      <th>metrics.score_train</th>\n",
              "      <th>...</th>\n",
              "      <th>params.steps</th>\n",
              "      <th>params.linearregression__normalize</th>\n",
              "      <th>params.polynomialfeatures</th>\n",
              "      <th>params.linearregression__n_jobs</th>\n",
              "      <th>params.linearregression</th>\n",
              "      <th>params.polynomialfeatures__include_bias</th>\n",
              "      <th>tags.mlflow.source.type</th>\n",
              "      <th>tags.mlflow.source.name</th>\n",
              "      <th>tags.mlflow.runName</th>\n",
              "      <th>tags.mlflow.user</th>\n",
              "    </tr>\n",
              "  </thead>\n",
              "  <tbody>\n",
              "    <tr>\n",
              "      <th>0</th>\n",
              "      <td>3110644506374453b9dde26a09d7e4d5</td>\n",
              "      <td>1</td>\n",
              "      <td>FINISHED</td>\n",
              "      <td>file:///home/nico/DIPLO/MENT/P3/mlruns/1/3110644506374453b9dde26a09d7e4d5/artifacts</td>\n",
              "      <td>2020-10-04 18:48:24.963000+00:00</td>\n",
              "      <td>2020-10-04 18:48:25.020000+00:00</td>\n",
              "      <td>6.643752e-28</td>\n",
              "      <td>0.077918</td>\n",
              "      <td>0.018179</td>\n",
              "      <td>1.000000</td>\n",
              "      <td>...</td>\n",
              "      <td>[('polynomialfeatures', PolynomialFeatures(degree=7)), ('linearregression', LinearRegression())]</td>\n",
              "      <td>False</td>\n",
              "      <td>PolynomialFeatures(degree=7)</td>\n",
              "      <td>None</td>\n",
              "      <td>LinearRegression()</td>\n",
              "      <td>True</td>\n",
              "      <td>LOCAL</td>\n",
              "      <td>/home/nico/miniconda3/envs/diplo_ANVD/lib/python3.6/site-packages/ipykernel_launcher.py</td>\n",
              "      <td>RP_SC_dg=7</td>\n",
              "      <td>nico</td>\n",
              "    </tr>\n",
              "    <tr>\n",
              "      <th>1</th>\n",
              "      <td>5ea8ea3906254422b490f0ea0df0f890</td>\n",
              "      <td>1</td>\n",
              "      <td>FINISHED</td>\n",
              "      <td>file:///home/nico/DIPLO/MENT/P3/mlruns/1/5ea8ea3906254422b490f0ea0df0f890/artifacts</td>\n",
              "      <td>2020-10-04 18:48:24.926000+00:00</td>\n",
              "      <td>2020-10-04 18:48:24.962000+00:00</td>\n",
              "      <td>7.939219e-27</td>\n",
              "      <td>0.089146</td>\n",
              "      <td>-0.123305</td>\n",
              "      <td>1.000000</td>\n",
              "      <td>...</td>\n",
              "      <td>[('polynomialfeatures', PolynomialFeatures(degree=6)), ('linearregression', LinearRegression())]</td>\n",
              "      <td>False</td>\n",
              "      <td>PolynomialFeatures(degree=6)</td>\n",
              "      <td>None</td>\n",
              "      <td>LinearRegression()</td>\n",
              "      <td>True</td>\n",
              "      <td>LOCAL</td>\n",
              "      <td>/home/nico/miniconda3/envs/diplo_ANVD/lib/python3.6/site-packages/ipykernel_launcher.py</td>\n",
              "      <td>RP_SC_dg=6</td>\n",
              "      <td>nico</td>\n",
              "    </tr>\n",
              "    <tr>\n",
              "      <th>2</th>\n",
              "      <td>c47a0f3c17f545c19b73222f077fdd15</td>\n",
              "      <td>1</td>\n",
              "      <td>FINISHED</td>\n",
              "      <td>file:///home/nico/DIPLO/MENT/P3/mlruns/1/c47a0f3c17f545c19b73222f077fdd15/artifacts</td>\n",
              "      <td>2020-10-04 18:48:24.900000+00:00</td>\n",
              "      <td>2020-10-04 18:48:24.925000+00:00</td>\n",
              "      <td>1.803082e-27</td>\n",
              "      <td>0.086349</td>\n",
              "      <td>-0.088058</td>\n",
              "      <td>1.000000</td>\n",
              "      <td>...</td>\n",
              "      <td>[('polynomialfeatures', PolynomialFeatures(degree=5)), ('linearregression', LinearRegression())]</td>\n",
              "      <td>False</td>\n",
              "      <td>PolynomialFeatures(degree=5)</td>\n",
              "      <td>None</td>\n",
              "      <td>LinearRegression()</td>\n",
              "      <td>True</td>\n",
              "      <td>LOCAL</td>\n",
              "      <td>/home/nico/miniconda3/envs/diplo_ANVD/lib/python3.6/site-packages/ipykernel_launcher.py</td>\n",
              "      <td>RP_SC_dg=5</td>\n",
              "      <td>nico</td>\n",
              "    </tr>\n",
              "    <tr>\n",
              "      <th>3</th>\n",
              "      <td>e3d7d8e8c7d246e3acfce5d152264773</td>\n",
              "      <td>1</td>\n",
              "      <td>FINISHED</td>\n",
              "      <td>file:///home/nico/DIPLO/MENT/P3/mlruns/1/e3d7d8e8c7d246e3acfce5d152264773/artifacts</td>\n",
              "      <td>2020-10-04 18:48:24.878000+00:00</td>\n",
              "      <td>2020-10-04 18:48:24.899000+00:00</td>\n",
              "      <td>7.290693e-28</td>\n",
              "      <td>0.298282</td>\n",
              "      <td>-2.758562</td>\n",
              "      <td>1.000000</td>\n",
              "      <td>...</td>\n",
              "      <td>[('polynomialfeatures', PolynomialFeatures(degree=4)), ('linearregression', LinearRegression())]</td>\n",
              "      <td>False</td>\n",
              "      <td>PolynomialFeatures(degree=4)</td>\n",
              "      <td>None</td>\n",
              "      <td>LinearRegression()</td>\n",
              "      <td>True</td>\n",
              "      <td>LOCAL</td>\n",
              "      <td>/home/nico/miniconda3/envs/diplo_ANVD/lib/python3.6/site-packages/ipykernel_launcher.py</td>\n",
              "      <td>RP_SC_dg=4</td>\n",
              "      <td>nico</td>\n",
              "    </tr>\n",
              "    <tr>\n",
              "      <th>4</th>\n",
              "      <td>7be8ba233aa145a380c9e87a11f487c5</td>\n",
              "      <td>1</td>\n",
              "      <td>FINISHED</td>\n",
              "      <td>file:///home/nico/DIPLO/MENT/P3/mlruns/1/7be8ba233aa145a380c9e87a11f487c5/artifacts</td>\n",
              "      <td>2020-10-04 18:48:24.856000+00:00</td>\n",
              "      <td>2020-10-04 18:48:24.877000+00:00</td>\n",
              "      <td>3.250461e-25</td>\n",
              "      <td>47.387563</td>\n",
              "      <td>-596.116464</td>\n",
              "      <td>1.000000</td>\n",
              "      <td>...</td>\n",
              "      <td>[('polynomialfeatures', PolynomialFeatures(degree=3)), ('linearregression', LinearRegression())]</td>\n",
              "      <td>False</td>\n",
              "      <td>PolynomialFeatures(degree=3)</td>\n",
              "      <td>None</td>\n",
              "      <td>LinearRegression()</td>\n",
              "      <td>True</td>\n",
              "      <td>LOCAL</td>\n",
              "      <td>/home/nico/miniconda3/envs/diplo_ANVD/lib/python3.6/site-packages/ipykernel_launcher.py</td>\n",
              "      <td>RP_SC_dg=3</td>\n",
              "      <td>nico</td>\n",
              "    </tr>\n",
              "    <tr>\n",
              "      <th>5</th>\n",
              "      <td>a34b624c7a1043f0b431651f0bd2955b</td>\n",
              "      <td>1</td>\n",
              "      <td>FINISHED</td>\n",
              "      <td>file:///home/nico/DIPLO/MENT/P3/mlruns/1/a34b624c7a1043f0b431651f0bd2955b/artifacts</td>\n",
              "      <td>2020-10-04 18:48:24.833000+00:00</td>\n",
              "      <td>2020-10-04 18:48:24.854000+00:00</td>\n",
              "      <td>3.675568e-03</td>\n",
              "      <td>0.019613</td>\n",
              "      <td>0.752859</td>\n",
              "      <td>0.956206</td>\n",
              "      <td>...</td>\n",
              "      <td>[('polynomialfeatures', PolynomialFeatures()), ('linearregression', LinearRegression())]</td>\n",
              "      <td>False</td>\n",
              "      <td>PolynomialFeatures()</td>\n",
              "      <td>None</td>\n",
              "      <td>LinearRegression()</td>\n",
              "      <td>True</td>\n",
              "      <td>LOCAL</td>\n",
              "      <td>/home/nico/miniconda3/envs/diplo_ANVD/lib/python3.6/site-packages/ipykernel_launcher.py</td>\n",
              "      <td>RP_SC_dg=2</td>\n",
              "      <td>nico</td>\n",
              "    </tr>\n",
              "    <tr>\n",
              "      <th>6</th>\n",
              "      <td>c4e19f8378af4a7091990078eaece633</td>\n",
              "      <td>1</td>\n",
              "      <td>FINISHED</td>\n",
              "      <td>file:///home/nico/DIPLO/MENT/P3/mlruns/1/c4e19f8378af4a7091990078eaece633/artifacts</td>\n",
              "      <td>2020-10-04 18:48:24.810000+00:00</td>\n",
              "      <td>2020-10-04 18:48:24.832000+00:00</td>\n",
              "      <td>8.334786e-03</td>\n",
              "      <td>0.012468</td>\n",
              "      <td>0.842892</td>\n",
              "      <td>0.900692</td>\n",
              "      <td>...</td>\n",
              "      <td>[('polynomialfeatures', PolynomialFeatures(degree=1)), ('linearregression', LinearRegression())]</td>\n",
              "      <td>False</td>\n",
              "      <td>PolynomialFeatures(degree=1)</td>\n",
              "      <td>None</td>\n",
              "      <td>LinearRegression()</td>\n",
              "      <td>True</td>\n",
              "      <td>LOCAL</td>\n",
              "      <td>/home/nico/miniconda3/envs/diplo_ANVD/lib/python3.6/site-packages/ipykernel_launcher.py</td>\n",
              "      <td>RP_SC_dg=1</td>\n",
              "      <td>nico</td>\n",
              "    </tr>\n",
              "    <tr>\n",
              "      <th>7</th>\n",
              "      <td>e27acd37fcd84c6691a352a75412521b</td>\n",
              "      <td>1</td>\n",
              "      <td>FINISHED</td>\n",
              "      <td>file:///home/nico/DIPLO/MENT/P3/mlruns/1/e27acd37fcd84c6691a352a75412521b/artifacts</td>\n",
              "      <td>2020-10-04 18:47:49.449000+00:00</td>\n",
              "      <td>2020-10-04 18:47:49.506000+00:00</td>\n",
              "      <td>1.817874e+01</td>\n",
              "      <td>20.174326</td>\n",
              "      <td>0.423559</td>\n",
              "      <td>0.508847</td>\n",
              "      <td>...</td>\n",
              "      <td>[('polynomialfeatures', PolynomialFeatures(degree=7)), ('linearregression', LinearRegression())]</td>\n",
              "      <td>False</td>\n",
              "      <td>PolynomialFeatures(degree=7)</td>\n",
              "      <td>None</td>\n",
              "      <td>LinearRegression()</td>\n",
              "      <td>True</td>\n",
              "      <td>LOCAL</td>\n",
              "      <td>/home/nico/miniconda3/envs/diplo_ANVD/lib/python3.6/site-packages/ipykernel_launcher.py</td>\n",
              "      <td>RP_NS_dg=7</td>\n",
              "      <td>nico</td>\n",
              "    </tr>\n",
              "    <tr>\n",
              "      <th>8</th>\n",
              "      <td>326ca1b4df614b46a232cab6926e89ff</td>\n",
              "      <td>1</td>\n",
              "      <td>FINISHED</td>\n",
              "      <td>file:///home/nico/DIPLO/MENT/P3/mlruns/1/326ca1b4df614b46a232cab6926e89ff/artifacts</td>\n",
              "      <td>2020-10-04 18:47:49.412000+00:00</td>\n",
              "      <td>2020-10-04 18:47:49.448000+00:00</td>\n",
              "      <td>1.750857e+01</td>\n",
              "      <td>18.601449</td>\n",
              "      <td>0.468500</td>\n",
              "      <td>0.526953</td>\n",
              "      <td>...</td>\n",
              "      <td>[('polynomialfeatures', PolynomialFeatures(degree=6)), ('linearregression', LinearRegression())]</td>\n",
              "      <td>False</td>\n",
              "      <td>PolynomialFeatures(degree=6)</td>\n",
              "      <td>None</td>\n",
              "      <td>LinearRegression()</td>\n",
              "      <td>True</td>\n",
              "      <td>LOCAL</td>\n",
              "      <td>/home/nico/miniconda3/envs/diplo_ANVD/lib/python3.6/site-packages/ipykernel_launcher.py</td>\n",
              "      <td>RP_NS_dg=6</td>\n",
              "      <td>nico</td>\n",
              "    </tr>\n",
              "    <tr>\n",
              "      <th>9</th>\n",
              "      <td>50f25b0c19f34d90886243d8a9d015f1</td>\n",
              "      <td>1</td>\n",
              "      <td>FINISHED</td>\n",
              "      <td>file:///home/nico/DIPLO/MENT/P3/mlruns/1/50f25b0c19f34d90886243d8a9d015f1/artifacts</td>\n",
              "      <td>2020-10-04 18:47:49.385000+00:00</td>\n",
              "      <td>2020-10-04 18:47:49.411000+00:00</td>\n",
              "      <td>8.877313e+00</td>\n",
              "      <td>9.678242</td>\n",
              "      <td>0.723463</td>\n",
              "      <td>0.760153</td>\n",
              "      <td>...</td>\n",
              "      <td>[('polynomialfeatures', PolynomialFeatures(degree=5)), ('linearregression', LinearRegression())]</td>\n",
              "      <td>False</td>\n",
              "      <td>PolynomialFeatures(degree=5)</td>\n",
              "      <td>None</td>\n",
              "      <td>LinearRegression()</td>\n",
              "      <td>True</td>\n",
              "      <td>LOCAL</td>\n",
              "      <td>/home/nico/miniconda3/envs/diplo_ANVD/lib/python3.6/site-packages/ipykernel_launcher.py</td>\n",
              "      <td>RP_NS_dg=5</td>\n",
              "      <td>nico</td>\n",
              "    </tr>\n",
              "    <tr>\n",
              "      <th>10</th>\n",
              "      <td>bab57a4f5bc14498a4c098e89182cbfc</td>\n",
              "      <td>1</td>\n",
              "      <td>FINISHED</td>\n",
              "      <td>file:///home/nico/DIPLO/MENT/P3/mlruns/1/bab57a4f5bc14498a4c098e89182cbfc/artifacts</td>\n",
              "      <td>2020-10-04 18:47:49.363000+00:00</td>\n",
              "      <td>2020-10-04 18:47:49.384000+00:00</td>\n",
              "      <td>7.153671e+00</td>\n",
              "      <td>10.707711</td>\n",
              "      <td>0.694048</td>\n",
              "      <td>0.806722</td>\n",
              "      <td>...</td>\n",
              "      <td>[('polynomialfeatures', PolynomialFeatures(degree=4)), ('linearregression', LinearRegression())]</td>\n",
              "      <td>False</td>\n",
              "      <td>PolynomialFeatures(degree=4)</td>\n",
              "      <td>None</td>\n",
              "      <td>LinearRegression()</td>\n",
              "      <td>True</td>\n",
              "      <td>LOCAL</td>\n",
              "      <td>/home/nico/miniconda3/envs/diplo_ANVD/lib/python3.6/site-packages/ipykernel_launcher.py</td>\n",
              "      <td>RP_NS_dg=4</td>\n",
              "      <td>nico</td>\n",
              "    </tr>\n",
              "    <tr>\n",
              "      <th>11</th>\n",
              "      <td>81206a9636574f8a8401ea93f26bfacc</td>\n",
              "      <td>1</td>\n",
              "      <td>FINISHED</td>\n",
              "      <td>file:///home/nico/DIPLO/MENT/P3/mlruns/1/81206a9636574f8a8401ea93f26bfacc/artifacts</td>\n",
              "      <td>2020-10-04 18:47:49.340000+00:00</td>\n",
              "      <td>2020-10-04 18:47:49.362000+00:00</td>\n",
              "      <td>5.717628e+00</td>\n",
              "      <td>5.643736</td>\n",
              "      <td>0.838741</td>\n",
              "      <td>0.845521</td>\n",
              "      <td>...</td>\n",
              "      <td>[('polynomialfeatures', PolynomialFeatures(degree=3)), ('linearregression', LinearRegression())]</td>\n",
              "      <td>False</td>\n",
              "      <td>PolynomialFeatures(degree=3)</td>\n",
              "      <td>None</td>\n",
              "      <td>LinearRegression()</td>\n",
              "      <td>True</td>\n",
              "      <td>LOCAL</td>\n",
              "      <td>/home/nico/miniconda3/envs/diplo_ANVD/lib/python3.6/site-packages/ipykernel_launcher.py</td>\n",
              "      <td>RP_NS_dg=3</td>\n",
              "      <td>nico</td>\n",
              "    </tr>\n",
              "    <tr>\n",
              "      <th>12</th>\n",
              "      <td>8a4a8cc06fa440e9b2d8aab3824be16a</td>\n",
              "      <td>1</td>\n",
              "      <td>FINISHED</td>\n",
              "      <td>file:///home/nico/DIPLO/MENT/P3/mlruns/1/8a4a8cc06fa440e9b2d8aab3824be16a/artifacts</td>\n",
              "      <td>2020-10-04 18:47:49.316000+00:00</td>\n",
              "      <td>2020-10-04 18:47:49.338000+00:00</td>\n",
              "      <td>1.005131e+00</td>\n",
              "      <td>5.133044</td>\n",
              "      <td>0.853333</td>\n",
              "      <td>0.972843</td>\n",
              "      <td>...</td>\n",
              "      <td>[('polynomialfeatures', PolynomialFeatures()), ('linearregression', LinearRegression())]</td>\n",
              "      <td>False</td>\n",
              "      <td>PolynomialFeatures()</td>\n",
              "      <td>None</td>\n",
              "      <td>LinearRegression()</td>\n",
              "      <td>True</td>\n",
              "      <td>LOCAL</td>\n",
              "      <td>/home/nico/miniconda3/envs/diplo_ANVD/lib/python3.6/site-packages/ipykernel_launcher.py</td>\n",
              "      <td>RP_NS_dg=2</td>\n",
              "      <td>nico</td>\n",
              "    </tr>\n",
              "    <tr>\n",
              "      <th>13</th>\n",
              "      <td>76d8d5fc6b2a428b9b7d7084d116ec91</td>\n",
              "      <td>1</td>\n",
              "      <td>FINISHED</td>\n",
              "      <td>file:///home/nico/DIPLO/MENT/P3/mlruns/1/76d8d5fc6b2a428b9b7d7084d116ec91/artifacts</td>\n",
              "      <td>2020-10-04 18:47:49.283000+00:00</td>\n",
              "      <td>2020-10-04 18:47:49.314000+00:00</td>\n",
              "      <td>3.675641e+00</td>\n",
              "      <td>5.498471</td>\n",
              "      <td>0.842892</td>\n",
              "      <td>0.900692</td>\n",
              "      <td>...</td>\n",
              "      <td>[('polynomialfeatures', PolynomialFeatures(degree=1)), ('linearregression', LinearRegression())]</td>\n",
              "      <td>False</td>\n",
              "      <td>PolynomialFeatures(degree=1)</td>\n",
              "      <td>None</td>\n",
              "      <td>LinearRegression()</td>\n",
              "      <td>True</td>\n",
              "      <td>LOCAL</td>\n",
              "      <td>/home/nico/miniconda3/envs/diplo_ANVD/lib/python3.6/site-packages/ipykernel_launcher.py</td>\n",
              "      <td>RP_NS_dg=1</td>\n",
              "      <td>nico</td>\n",
              "    </tr>\n",
              "  </tbody>\n",
              "</table>\n",
              "<p>14 rows × 28 columns</p>\n",
              "</div>"
            ],
            "text/plain": [
              "                              run_id experiment_id    status  \\\n",
              "0   3110644506374453b9dde26a09d7e4d5  1             FINISHED   \n",
              "1   5ea8ea3906254422b490f0ea0df0f890  1             FINISHED   \n",
              "2   c47a0f3c17f545c19b73222f077fdd15  1             FINISHED   \n",
              "3   e3d7d8e8c7d246e3acfce5d152264773  1             FINISHED   \n",
              "4   7be8ba233aa145a380c9e87a11f487c5  1             FINISHED   \n",
              "5   a34b624c7a1043f0b431651f0bd2955b  1             FINISHED   \n",
              "6   c4e19f8378af4a7091990078eaece633  1             FINISHED   \n",
              "7   e27acd37fcd84c6691a352a75412521b  1             FINISHED   \n",
              "8   326ca1b4df614b46a232cab6926e89ff  1             FINISHED   \n",
              "9   50f25b0c19f34d90886243d8a9d015f1  1             FINISHED   \n",
              "10  bab57a4f5bc14498a4c098e89182cbfc  1             FINISHED   \n",
              "11  81206a9636574f8a8401ea93f26bfacc  1             FINISHED   \n",
              "12  8a4a8cc06fa440e9b2d8aab3824be16a  1             FINISHED   \n",
              "13  76d8d5fc6b2a428b9b7d7084d116ec91  1             FINISHED   \n",
              "\n",
              "                                                                           artifact_uri  \\\n",
              "0   file:///home/nico/DIPLO/MENT/P3/mlruns/1/3110644506374453b9dde26a09d7e4d5/artifacts   \n",
              "1   file:///home/nico/DIPLO/MENT/P3/mlruns/1/5ea8ea3906254422b490f0ea0df0f890/artifacts   \n",
              "2   file:///home/nico/DIPLO/MENT/P3/mlruns/1/c47a0f3c17f545c19b73222f077fdd15/artifacts   \n",
              "3   file:///home/nico/DIPLO/MENT/P3/mlruns/1/e3d7d8e8c7d246e3acfce5d152264773/artifacts   \n",
              "4   file:///home/nico/DIPLO/MENT/P3/mlruns/1/7be8ba233aa145a380c9e87a11f487c5/artifacts   \n",
              "5   file:///home/nico/DIPLO/MENT/P3/mlruns/1/a34b624c7a1043f0b431651f0bd2955b/artifacts   \n",
              "6   file:///home/nico/DIPLO/MENT/P3/mlruns/1/c4e19f8378af4a7091990078eaece633/artifacts   \n",
              "7   file:///home/nico/DIPLO/MENT/P3/mlruns/1/e27acd37fcd84c6691a352a75412521b/artifacts   \n",
              "8   file:///home/nico/DIPLO/MENT/P3/mlruns/1/326ca1b4df614b46a232cab6926e89ff/artifacts   \n",
              "9   file:///home/nico/DIPLO/MENT/P3/mlruns/1/50f25b0c19f34d90886243d8a9d015f1/artifacts   \n",
              "10  file:///home/nico/DIPLO/MENT/P3/mlruns/1/bab57a4f5bc14498a4c098e89182cbfc/artifacts   \n",
              "11  file:///home/nico/DIPLO/MENT/P3/mlruns/1/81206a9636574f8a8401ea93f26bfacc/artifacts   \n",
              "12  file:///home/nico/DIPLO/MENT/P3/mlruns/1/8a4a8cc06fa440e9b2d8aab3824be16a/artifacts   \n",
              "13  file:///home/nico/DIPLO/MENT/P3/mlruns/1/76d8d5fc6b2a428b9b7d7084d116ec91/artifacts   \n",
              "\n",
              "                         start_time                         end_time  \\\n",
              "0  2020-10-04 18:48:24.963000+00:00 2020-10-04 18:48:25.020000+00:00   \n",
              "1  2020-10-04 18:48:24.926000+00:00 2020-10-04 18:48:24.962000+00:00   \n",
              "2  2020-10-04 18:48:24.900000+00:00 2020-10-04 18:48:24.925000+00:00   \n",
              "3  2020-10-04 18:48:24.878000+00:00 2020-10-04 18:48:24.899000+00:00   \n",
              "4  2020-10-04 18:48:24.856000+00:00 2020-10-04 18:48:24.877000+00:00   \n",
              "5  2020-10-04 18:48:24.833000+00:00 2020-10-04 18:48:24.854000+00:00   \n",
              "6  2020-10-04 18:48:24.810000+00:00 2020-10-04 18:48:24.832000+00:00   \n",
              "7  2020-10-04 18:47:49.449000+00:00 2020-10-04 18:47:49.506000+00:00   \n",
              "8  2020-10-04 18:47:49.412000+00:00 2020-10-04 18:47:49.448000+00:00   \n",
              "9  2020-10-04 18:47:49.385000+00:00 2020-10-04 18:47:49.411000+00:00   \n",
              "10 2020-10-04 18:47:49.363000+00:00 2020-10-04 18:47:49.384000+00:00   \n",
              "11 2020-10-04 18:47:49.340000+00:00 2020-10-04 18:47:49.362000+00:00   \n",
              "12 2020-10-04 18:47:49.316000+00:00 2020-10-04 18:47:49.338000+00:00   \n",
              "13 2020-10-04 18:47:49.283000+00:00 2020-10-04 18:47:49.314000+00:00   \n",
              "\n",
              "    metrics.mse_train  metrics.mse_test  metrics.score_test  \\\n",
              "0   6.643752e-28       0.077918          0.018179             \n",
              "1   7.939219e-27       0.089146         -0.123305             \n",
              "2   1.803082e-27       0.086349         -0.088058             \n",
              "3   7.290693e-28       0.298282         -2.758562             \n",
              "4   3.250461e-25       47.387563        -596.116464           \n",
              "5   3.675568e-03       0.019613          0.752859             \n",
              "6   8.334786e-03       0.012468          0.842892             \n",
              "7   1.817874e+01       20.174326         0.423559             \n",
              "8   1.750857e+01       18.601449         0.468500             \n",
              "9   8.877313e+00       9.678242          0.723463             \n",
              "10  7.153671e+00       10.707711         0.694048             \n",
              "11  5.717628e+00       5.643736          0.838741             \n",
              "12  1.005131e+00       5.133044          0.853333             \n",
              "13  3.675641e+00       5.498471          0.842892             \n",
              "\n",
              "    metrics.score_train  ...  \\\n",
              "0   1.000000             ...   \n",
              "1   1.000000             ...   \n",
              "2   1.000000             ...   \n",
              "3   1.000000             ...   \n",
              "4   1.000000             ...   \n",
              "5   0.956206             ...   \n",
              "6   0.900692             ...   \n",
              "7   0.508847             ...   \n",
              "8   0.526953             ...   \n",
              "9   0.760153             ...   \n",
              "10  0.806722             ...   \n",
              "11  0.845521             ...   \n",
              "12  0.972843             ...   \n",
              "13  0.900692             ...   \n",
              "\n",
              "                                                                                        params.steps  \\\n",
              "0   [('polynomialfeatures', PolynomialFeatures(degree=7)), ('linearregression', LinearRegression())]   \n",
              "1   [('polynomialfeatures', PolynomialFeatures(degree=6)), ('linearregression', LinearRegression())]   \n",
              "2   [('polynomialfeatures', PolynomialFeatures(degree=5)), ('linearregression', LinearRegression())]   \n",
              "3   [('polynomialfeatures', PolynomialFeatures(degree=4)), ('linearregression', LinearRegression())]   \n",
              "4   [('polynomialfeatures', PolynomialFeatures(degree=3)), ('linearregression', LinearRegression())]   \n",
              "5   [('polynomialfeatures', PolynomialFeatures()), ('linearregression', LinearRegression())]           \n",
              "6   [('polynomialfeatures', PolynomialFeatures(degree=1)), ('linearregression', LinearRegression())]   \n",
              "7   [('polynomialfeatures', PolynomialFeatures(degree=7)), ('linearregression', LinearRegression())]   \n",
              "8   [('polynomialfeatures', PolynomialFeatures(degree=6)), ('linearregression', LinearRegression())]   \n",
              "9   [('polynomialfeatures', PolynomialFeatures(degree=5)), ('linearregression', LinearRegression())]   \n",
              "10  [('polynomialfeatures', PolynomialFeatures(degree=4)), ('linearregression', LinearRegression())]   \n",
              "11  [('polynomialfeatures', PolynomialFeatures(degree=3)), ('linearregression', LinearRegression())]   \n",
              "12  [('polynomialfeatures', PolynomialFeatures()), ('linearregression', LinearRegression())]           \n",
              "13  [('polynomialfeatures', PolynomialFeatures(degree=1)), ('linearregression', LinearRegression())]   \n",
              "\n",
              "   params.linearregression__normalize     params.polynomialfeatures  \\\n",
              "0   False                              PolynomialFeatures(degree=7)   \n",
              "1   False                              PolynomialFeatures(degree=6)   \n",
              "2   False                              PolynomialFeatures(degree=5)   \n",
              "3   False                              PolynomialFeatures(degree=4)   \n",
              "4   False                              PolynomialFeatures(degree=3)   \n",
              "5   False                              PolynomialFeatures()           \n",
              "6   False                              PolynomialFeatures(degree=1)   \n",
              "7   False                              PolynomialFeatures(degree=7)   \n",
              "8   False                              PolynomialFeatures(degree=6)   \n",
              "9   False                              PolynomialFeatures(degree=5)   \n",
              "10  False                              PolynomialFeatures(degree=4)   \n",
              "11  False                              PolynomialFeatures(degree=3)   \n",
              "12  False                              PolynomialFeatures()           \n",
              "13  False                              PolynomialFeatures(degree=1)   \n",
              "\n",
              "   params.linearregression__n_jobs params.linearregression  \\\n",
              "0   None                            LinearRegression()       \n",
              "1   None                            LinearRegression()       \n",
              "2   None                            LinearRegression()       \n",
              "3   None                            LinearRegression()       \n",
              "4   None                            LinearRegression()       \n",
              "5   None                            LinearRegression()       \n",
              "6   None                            LinearRegression()       \n",
              "7   None                            LinearRegression()       \n",
              "8   None                            LinearRegression()       \n",
              "9   None                            LinearRegression()       \n",
              "10  None                            LinearRegression()       \n",
              "11  None                            LinearRegression()       \n",
              "12  None                            LinearRegression()       \n",
              "13  None                            LinearRegression()       \n",
              "\n",
              "   params.polynomialfeatures__include_bias tags.mlflow.source.type  \\\n",
              "0   True                                    LOCAL                    \n",
              "1   True                                    LOCAL                    \n",
              "2   True                                    LOCAL                    \n",
              "3   True                                    LOCAL                    \n",
              "4   True                                    LOCAL                    \n",
              "5   True                                    LOCAL                    \n",
              "6   True                                    LOCAL                    \n",
              "7   True                                    LOCAL                    \n",
              "8   True                                    LOCAL                    \n",
              "9   True                                    LOCAL                    \n",
              "10  True                                    LOCAL                    \n",
              "11  True                                    LOCAL                    \n",
              "12  True                                    LOCAL                    \n",
              "13  True                                    LOCAL                    \n",
              "\n",
              "                                                                    tags.mlflow.source.name  \\\n",
              "0   /home/nico/miniconda3/envs/diplo_ANVD/lib/python3.6/site-packages/ipykernel_launcher.py   \n",
              "1   /home/nico/miniconda3/envs/diplo_ANVD/lib/python3.6/site-packages/ipykernel_launcher.py   \n",
              "2   /home/nico/miniconda3/envs/diplo_ANVD/lib/python3.6/site-packages/ipykernel_launcher.py   \n",
              "3   /home/nico/miniconda3/envs/diplo_ANVD/lib/python3.6/site-packages/ipykernel_launcher.py   \n",
              "4   /home/nico/miniconda3/envs/diplo_ANVD/lib/python3.6/site-packages/ipykernel_launcher.py   \n",
              "5   /home/nico/miniconda3/envs/diplo_ANVD/lib/python3.6/site-packages/ipykernel_launcher.py   \n",
              "6   /home/nico/miniconda3/envs/diplo_ANVD/lib/python3.6/site-packages/ipykernel_launcher.py   \n",
              "7   /home/nico/miniconda3/envs/diplo_ANVD/lib/python3.6/site-packages/ipykernel_launcher.py   \n",
              "8   /home/nico/miniconda3/envs/diplo_ANVD/lib/python3.6/site-packages/ipykernel_launcher.py   \n",
              "9   /home/nico/miniconda3/envs/diplo_ANVD/lib/python3.6/site-packages/ipykernel_launcher.py   \n",
              "10  /home/nico/miniconda3/envs/diplo_ANVD/lib/python3.6/site-packages/ipykernel_launcher.py   \n",
              "11  /home/nico/miniconda3/envs/diplo_ANVD/lib/python3.6/site-packages/ipykernel_launcher.py   \n",
              "12  /home/nico/miniconda3/envs/diplo_ANVD/lib/python3.6/site-packages/ipykernel_launcher.py   \n",
              "13  /home/nico/miniconda3/envs/diplo_ANVD/lib/python3.6/site-packages/ipykernel_launcher.py   \n",
              "\n",
              "   tags.mlflow.runName tags.mlflow.user  \n",
              "0   RP_SC_dg=7          nico             \n",
              "1   RP_SC_dg=6          nico             \n",
              "2   RP_SC_dg=5          nico             \n",
              "3   RP_SC_dg=4          nico             \n",
              "4   RP_SC_dg=3          nico             \n",
              "5   RP_SC_dg=2          nico             \n",
              "6   RP_SC_dg=1          nico             \n",
              "7   RP_NS_dg=7          nico             \n",
              "8   RP_NS_dg=6          nico             \n",
              "9   RP_NS_dg=5          nico             \n",
              "10  RP_NS_dg=4          nico             \n",
              "11  RP_NS_dg=3          nico             \n",
              "12  RP_NS_dg=2          nico             \n",
              "13  RP_NS_dg=1          nico             \n",
              "\n",
              "[14 rows x 28 columns]"
            ]
          },
          "metadata": {
            "tags": []
          },
          "execution_count": 321
        }
      ]
    },
    {
      "cell_type": "code",
      "metadata": {
        "id": "ZmzSnblftrN-",
        "outputId": "8edecd73-4af1-4264-f7eb-98b0136b1c20"
      },
      "source": [
        "reg_results = { 'degree': list_degrees, 'score_train': list_scores_train, 'score_test': list_scores_test, 'mse_train': list_mse_train, 'mse_test': list_mse_test } \n",
        "  \n",
        "df_reg_results = pd.DataFrame(reg_results)\n",
        "df_reg_results"
      ],
      "execution_count": null,
      "outputs": [
        {
          "output_type": "execute_result",
          "data": {
            "text/html": [
              "<div>\n",
              "<style scoped>\n",
              "    .dataframe tbody tr th:only-of-type {\n",
              "        vertical-align: middle;\n",
              "    }\n",
              "\n",
              "    .dataframe tbody tr th {\n",
              "        vertical-align: top;\n",
              "    }\n",
              "\n",
              "    .dataframe thead th {\n",
              "        text-align: right;\n",
              "    }\n",
              "</style>\n",
              "<table border=\"1\" class=\"dataframe\">\n",
              "  <thead>\n",
              "    <tr style=\"text-align: right;\">\n",
              "      <th></th>\n",
              "      <th>degree</th>\n",
              "      <th>score_train</th>\n",
              "      <th>score_test</th>\n",
              "      <th>mse_train</th>\n",
              "      <th>mse_test</th>\n",
              "    </tr>\n",
              "  </thead>\n",
              "  <tbody>\n",
              "    <tr>\n",
              "      <th>0</th>\n",
              "      <td>1</td>\n",
              "      <td>0.900692</td>\n",
              "      <td>0.842892</td>\n",
              "      <td>8.334786e-03</td>\n",
              "      <td>0.012468</td>\n",
              "    </tr>\n",
              "    <tr>\n",
              "      <th>1</th>\n",
              "      <td>2</td>\n",
              "      <td>0.956206</td>\n",
              "      <td>0.752859</td>\n",
              "      <td>3.675568e-03</td>\n",
              "      <td>0.019613</td>\n",
              "    </tr>\n",
              "    <tr>\n",
              "      <th>2</th>\n",
              "      <td>3</td>\n",
              "      <td>1.000000</td>\n",
              "      <td>-596.116464</td>\n",
              "      <td>3.250461e-25</td>\n",
              "      <td>47.387563</td>\n",
              "    </tr>\n",
              "    <tr>\n",
              "      <th>3</th>\n",
              "      <td>4</td>\n",
              "      <td>1.000000</td>\n",
              "      <td>-2.758562</td>\n",
              "      <td>7.290693e-28</td>\n",
              "      <td>0.298282</td>\n",
              "    </tr>\n",
              "    <tr>\n",
              "      <th>4</th>\n",
              "      <td>5</td>\n",
              "      <td>1.000000</td>\n",
              "      <td>-0.088058</td>\n",
              "      <td>1.803082e-27</td>\n",
              "      <td>0.086349</td>\n",
              "    </tr>\n",
              "    <tr>\n",
              "      <th>5</th>\n",
              "      <td>6</td>\n",
              "      <td>1.000000</td>\n",
              "      <td>-0.123305</td>\n",
              "      <td>7.939219e-27</td>\n",
              "      <td>0.089146</td>\n",
              "    </tr>\n",
              "    <tr>\n",
              "      <th>6</th>\n",
              "      <td>7</td>\n",
              "      <td>1.000000</td>\n",
              "      <td>0.018179</td>\n",
              "      <td>6.643752e-28</td>\n",
              "      <td>0.077918</td>\n",
              "    </tr>\n",
              "  </tbody>\n",
              "</table>\n",
              "</div>"
            ],
            "text/plain": [
              "   degree  score_train  score_test     mse_train   mse_test\n",
              "0  1       0.900692     0.842892    8.334786e-03  0.012468 \n",
              "1  2       0.956206     0.752859    3.675568e-03  0.019613 \n",
              "2  3       1.000000    -596.116464  3.250461e-25  47.387563\n",
              "3  4       1.000000    -2.758562    7.290693e-28  0.298282 \n",
              "4  5       1.000000    -0.088058    1.803082e-27  0.086349 \n",
              "5  6       1.000000    -0.123305    7.939219e-27  0.089146 \n",
              "6  7       1.000000     0.018179    6.643752e-28  0.077918 "
            ]
          },
          "metadata": {
            "tags": []
          },
          "execution_count": 322
        }
      ]
    },
    {
      "cell_type": "markdown",
      "metadata": {
        "id": "y2LM4Nt_5jFz"
      },
      "source": [
        "Se observa un comportamiento anormal para la regresión polinomial de grado 3. La eliminarmos de la tabla para poder analizar los gráficos de manera adecuada."
      ]
    },
    {
      "cell_type": "code",
      "metadata": {
        "id": "zu6rDD4g5r77",
        "outputId": "643e749a-ebd0-4a8b-a4cf-2711e7a059bb"
      },
      "source": [
        "df_reg_results = df_reg_results.drop(labels=2, axis = 0)\n",
        "df_reg_results"
      ],
      "execution_count": null,
      "outputs": [
        {
          "output_type": "execute_result",
          "data": {
            "text/html": [
              "<div>\n",
              "<style scoped>\n",
              "    .dataframe tbody tr th:only-of-type {\n",
              "        vertical-align: middle;\n",
              "    }\n",
              "\n",
              "    .dataframe tbody tr th {\n",
              "        vertical-align: top;\n",
              "    }\n",
              "\n",
              "    .dataframe thead th {\n",
              "        text-align: right;\n",
              "    }\n",
              "</style>\n",
              "<table border=\"1\" class=\"dataframe\">\n",
              "  <thead>\n",
              "    <tr style=\"text-align: right;\">\n",
              "      <th></th>\n",
              "      <th>degree</th>\n",
              "      <th>score_train</th>\n",
              "      <th>score_test</th>\n",
              "      <th>mse_train</th>\n",
              "      <th>mse_test</th>\n",
              "    </tr>\n",
              "  </thead>\n",
              "  <tbody>\n",
              "    <tr>\n",
              "      <th>0</th>\n",
              "      <td>1</td>\n",
              "      <td>0.900692</td>\n",
              "      <td>0.842892</td>\n",
              "      <td>8.334786e-03</td>\n",
              "      <td>0.012468</td>\n",
              "    </tr>\n",
              "    <tr>\n",
              "      <th>1</th>\n",
              "      <td>2</td>\n",
              "      <td>0.956206</td>\n",
              "      <td>0.752859</td>\n",
              "      <td>3.675568e-03</td>\n",
              "      <td>0.019613</td>\n",
              "    </tr>\n",
              "    <tr>\n",
              "      <th>3</th>\n",
              "      <td>4</td>\n",
              "      <td>1.000000</td>\n",
              "      <td>-2.758562</td>\n",
              "      <td>7.290693e-28</td>\n",
              "      <td>0.298282</td>\n",
              "    </tr>\n",
              "    <tr>\n",
              "      <th>4</th>\n",
              "      <td>5</td>\n",
              "      <td>1.000000</td>\n",
              "      <td>-0.088058</td>\n",
              "      <td>1.803082e-27</td>\n",
              "      <td>0.086349</td>\n",
              "    </tr>\n",
              "    <tr>\n",
              "      <th>5</th>\n",
              "      <td>6</td>\n",
              "      <td>1.000000</td>\n",
              "      <td>-0.123305</td>\n",
              "      <td>7.939219e-27</td>\n",
              "      <td>0.089146</td>\n",
              "    </tr>\n",
              "    <tr>\n",
              "      <th>6</th>\n",
              "      <td>7</td>\n",
              "      <td>1.000000</td>\n",
              "      <td>0.018179</td>\n",
              "      <td>6.643752e-28</td>\n",
              "      <td>0.077918</td>\n",
              "    </tr>\n",
              "  </tbody>\n",
              "</table>\n",
              "</div>"
            ],
            "text/plain": [
              "   degree  score_train  score_test     mse_train  mse_test\n",
              "0  1       0.900692     0.842892    8.334786e-03  0.012468\n",
              "1  2       0.956206     0.752859    3.675568e-03  0.019613\n",
              "3  4       1.000000    -2.758562    7.290693e-28  0.298282\n",
              "4  5       1.000000    -0.088058    1.803082e-27  0.086349\n",
              "5  6       1.000000    -0.123305    7.939219e-27  0.089146\n",
              "6  7       1.000000     0.018179    6.643752e-28  0.077918"
            ]
          },
          "metadata": {
            "tags": []
          },
          "execution_count": 323
        }
      ]
    },
    {
      "cell_type": "code",
      "metadata": {
        "id": "9sm8r3ohtrOP",
        "outputId": "8bdc9e02-1812-4375-9d3d-363935e7c259",
        "colab": {
          "base_uri": "https://localhost:8080/",
          "height": 313
        }
      },
      "source": [
        "tmp_df = pd.melt(df_reg_results, id_vars=\"degree\", value_vars=[\"score_train\", \"score_test\"], value_name=\"Score\", var_name=\"Set\")\n",
        "seaborn.lineplot(x=\"degree\", y=\"Score\", hue = \"Set\", data=tmp_df)\n",
        "plt.title(\"Scores para regresiones polinomiales, según su grado\")"
      ],
      "execution_count": null,
      "outputs": [
        {
          "output_type": "execute_result",
          "data": {
            "text/plain": [
              "Text(0.5, 1.0, 'Scores para regresiones polinomiales, según su grado')"
            ]
          },
          "metadata": {
            "tags": []
          },
          "execution_count": 324
        },
        {
          "output_type": "display_data",
          "data": {
            "image/png": "[encoded data removed]",
            "text/plain": [
              "<Figure size 432x288 with 1 Axes>"
            ]
          },
          "metadata": {
            "tags": [],
            "needs_background": "light"
          }
        }
      ]
    },
    {
      "cell_type": "code",
      "metadata": {
        "id": "8EJR8qVPtrOV",
        "outputId": "4c951215-3bec-483c-8ee5-1ef0b765a564",
        "colab": {
          "base_uri": "https://localhost:8080/",
          "height": 313
        }
      },
      "source": [
        "tmp_df = pd.melt(df_reg_results, id_vars=\"degree\", value_vars=[\"mse_train\", \"mse_test\"], value_name=\"ECM\", var_name=\"Set\")\n",
        "seaborn.lineplot(x=\"degree\", y=\"ECM\", hue = \"Set\", data=tmp_df)\n",
        "plt.title(\"ECM para regresiones polinomiales, según su grado\")"
      ],
      "execution_count": null,
      "outputs": [
        {
          "output_type": "execute_result",
          "data": {
            "text/plain": [
              "Text(0.5, 1.0, 'ECM para regresiones polinomiales, según su grado')"
            ]
          },
          "metadata": {
            "tags": []
          },
          "execution_count": 325
        },
        {
          "output_type": "display_data",
          "data": {
            "image/png": "[encoded data removed]",
            "text/plain": [
              "<Figure size 432x288 with 1 Axes>"
            ]
          },
          "metadata": {
            "tags": [],
            "needs_background": "light"
          }
        }
      ]
    },
    {
      "cell_type": "markdown",
      "metadata": {
        "id": "MQyt68KitrOa"
      },
      "source": [
        "##### **Árbol de decisión (regresión)**\n",
        "\n",
        "A continuación, se construye un árbol de decisión para modelar una regresión. Para ello, se utiliza la función DecisionTreeRegressor. Al respecto de **mlflow**, ver descripción dle modelo en la sección correspondiente a los modelos con el dataset no escalado."
      ]
    },
    {
      "cell_type": "code",
      "metadata": {
        "id": "f_Ele9FC9rt7",
        "outputId": "8cd0becc-0ebe-4e7c-b7f2-23de0b11ca53"
      },
      "source": [
        "# Experimentos cambiando el hiperparámetro \"random_state\" para el modeo DecisionTreeRegressor (es trivial, pero sirve de prueba de concepto)\n",
        "mlflow.set_experiment(\"Arbol_Dec\") # Setear el experimento previamente creado como el experimento \"activo\"\n",
        "\n",
        "from sklearn.tree import DecisionTreeRegressor\n",
        "from sklearn.metrics import mean_squared_error  \n",
        "\n",
        "for rs in (13,15,17): # se correran 3 versiones de DTR con esos tres valores para random_state, el subfijo \"_SC\" hace referencia a los datos Escalados\n",
        "  with mlflow.start_run(run_name=\"DTR_SC_rs=\"+str(rs),nested=True): # dado que solo se cambia ese hiperparámetro, se identifica la corrida con su valor para su fácil reconocimiento posterior\n",
        "    \n",
        "    rd_st = rs # aquí se almacena el valor del hiperparámetro para cada corrida del modelo\n",
        "        \n",
        "    dt = DecisionTreeRegressor(random_state = rd_st) # definimos el modelo\n",
        "    dt.fit(X_train, y_train) # entrenamos\n",
        "    \n",
        "    mlflow.log_param('_tipo_algoritmo','DecisionTreeRegressor') # nos aseguramos de guardar el nombre del modelo para su posterior identificación\n",
        "    mlflow.log_params(dt.get_params()) # obtenemos los parámetros del modelo que se ejecutó\n",
        "    \n",
        "    y_train_pred = dt.predict(X_train) # guardamos temporalmente los predichos para train en la corrida en curso\n",
        "    y_test_pred = dt.predict(X_test) # guardamos temporalmente los predichos para test en la corrida en curso\n",
        "    \n",
        "    score_train = dt.score(X_train, y_train) # guardamos temporalmente los scores para train en la corrida en curso\n",
        "    score_test = dt.score(X_test, y_test) # guardamos temporalmente los scores para test en la corrida en curso\n",
        "    \n",
        "    mse_train = mean_squared_error(y_train, y_train_pred) # evaluamos el ECM para train, guardamos temporalmente para la corrida en curso\n",
        "    mse_test = mean_squared_error(y_test, y_test_pred) # evaluamos el ECM para test, guardamos temporalmente para la corrida en curso\n",
        "    \n",
        "    mlflow.log_metric('score_train', score_train) # Loggeamos la métrica score obtenida de DTR p/train en la corrida en curso\n",
        "    mlflow.log_metric('score_test', score_test) # Loggeamos la métrica score obtenida de DTR p/test en la corrida en curso\n",
        "    mlflow.log_metric('mse_train', mse_train) # Loggeamos la métrica MSE obtenida de DTR p/train en la corrida en curso\n",
        "    mlflow.log_metric('mse_test', mse_test) # Loggeamos la métrica MSE obtenida de DTR p/test en la corrida en curso\n",
        "    \n",
        "\n",
        "    # Como solo hacemos 3 experimentos imprimimos los resultados para rápida comparación (contemplar NO hacer esto si se ensayaran muchas versiones del modelo)\n",
        "    print('Param_set (rand_state): {}'.format(rd_st))\n",
        "    print('Score_train: {:.3f}'.format(score_train))\n",
        "    print('Score_test: {:.3f}'.format(score_test))\n",
        "    print('MSE_train: {:.3f}'.format(mse_train))\n",
        "    print('MSE_test: {:.3f}'.format(mse_test))\n",
        "    print('\\n')\n",
        "\n",
        "    mlflow.end_run()"
      ],
      "execution_count": null,
      "outputs": [
        {
          "output_type": "stream",
          "text": [
            "Param_set (rand_state): 13\n",
            "Score_train: 1.000\n",
            "Score_test: 0.811\n",
            "MSE_train: 0.000\n",
            "MSE_test: 0.015\n",
            "\n",
            "\n",
            "Param_set (rand_state): 15\n",
            "Score_train: 1.000\n",
            "Score_test: 0.845\n",
            "MSE_train: 0.000\n",
            "MSE_test: 0.012\n",
            "\n",
            "\n",
            "Param_set (rand_state): 17\n",
            "Score_train: 1.000\n",
            "Score_test: 0.808\n",
            "MSE_train: 0.000\n",
            "MSE_test: 0.015\n",
            "\n",
            "\n"
          ],
          "name": "stdout"
        }
      ]
    },
    {
      "cell_type": "code",
      "metadata": {
        "id": "wjL6K9XG9rt9",
        "outputId": "c3250603-4dfc-43b4-a0bd-e523a8c2e1bd"
      },
      "source": [
        "# Listar experimentos\n",
        "mlflow.tracking.MlflowClient().list_experiments()"
      ],
      "execution_count": null,
      "outputs": [
        {
          "output_type": "execute_result",
          "data": {
            "text/plain": [
              "[<Experiment: artifact_location='file:///home/nico/DIPLO/MENT/P3/mlruns/0', experiment_id='0', lifecycle_stage='active', name='Arbol_Dec', tags={}>,\n",
              " <Experiment: artifact_location='file:///home/nico/DIPLO/MENT/P3/mlruns/1', experiment_id='1', lifecycle_stage='active', name='Reg_Pol', tags={}>,\n",
              " <Experiment: artifact_location='file:///home/nico/DIPLO/MENT/P3/mlruns/2', experiment_id='2', lifecycle_stage='active', name='Rand_For', tags={}>]"
            ]
          },
          "metadata": {
            "tags": []
          },
          "execution_count": 327
        }
      ]
    },
    {
      "cell_type": "code",
      "metadata": {
        "id": "gVM9sXMG9rt_",
        "outputId": "d6db1ce6-ca6a-46cb-a15e-0f962b2c9138"
      },
      "source": [
        "# Ver corridas del experimento activo # Ahora se incluyen los de datos no escalados y escalados bajo Arbol_Dec\n",
        "mlflow.search_runs()\n",
        "# Localmente se puede ir al directorio donde se encuentra mlruns y correr \"mlflow ui\" para una versión GUI... ta piola,\n",
        "# se accede a través del navegador en \"localhost:5000\""
      ],
      "execution_count": null,
      "outputs": [
        {
          "output_type": "execute_result",
          "data": {
            "text/html": [
              "<div>\n",
              "<style scoped>\n",
              "    .dataframe tbody tr th:only-of-type {\n",
              "        vertical-align: middle;\n",
              "    }\n",
              "\n",
              "    .dataframe tbody tr th {\n",
              "        vertical-align: top;\n",
              "    }\n",
              "\n",
              "    .dataframe thead th {\n",
              "        text-align: right;\n",
              "    }\n",
              "</style>\n",
              "<table border=\"1\" class=\"dataframe\">\n",
              "  <thead>\n",
              "    <tr style=\"text-align: right;\">\n",
              "      <th></th>\n",
              "      <th>run_id</th>\n",
              "      <th>experiment_id</th>\n",
              "      <th>status</th>\n",
              "      <th>artifact_uri</th>\n",
              "      <th>start_time</th>\n",
              "      <th>end_time</th>\n",
              "      <th>metrics.mse_train</th>\n",
              "      <th>metrics.mse_test</th>\n",
              "      <th>metrics.score_test</th>\n",
              "      <th>metrics.score_train</th>\n",
              "      <th>...</th>\n",
              "      <th>params.min_samples_split</th>\n",
              "      <th>params.random_state</th>\n",
              "      <th>params.splitter</th>\n",
              "      <th>params.max_depth</th>\n",
              "      <th>params.ccp_alpha</th>\n",
              "      <th>params.min_samples_leaf</th>\n",
              "      <th>tags.mlflow.source.type</th>\n",
              "      <th>tags.mlflow.source.name</th>\n",
              "      <th>tags.mlflow.runName</th>\n",
              "      <th>tags.mlflow.user</th>\n",
              "    </tr>\n",
              "  </thead>\n",
              "  <tbody>\n",
              "    <tr>\n",
              "      <th>0</th>\n",
              "      <td>5b07e55e4902443e927243d5fa5e2d8e</td>\n",
              "      <td>0</td>\n",
              "      <td>FINISHED</td>\n",
              "      <td>file:///home/nico/DIPLO/MENT/P3/mlruns/0/5b07e55e4902443e927243d5fa5e2d8e/artifacts</td>\n",
              "      <td>2020-10-04 18:49:04.569000+00:00</td>\n",
              "      <td>2020-10-04 18:49:04.589000+00:00</td>\n",
              "      <td>0.0</td>\n",
              "      <td>0.015209</td>\n",
              "      <td>0.808355</td>\n",
              "      <td>1.0</td>\n",
              "      <td>...</td>\n",
              "      <td>2</td>\n",
              "      <td>17</td>\n",
              "      <td>best</td>\n",
              "      <td>None</td>\n",
              "      <td>0.0</td>\n",
              "      <td>1</td>\n",
              "      <td>LOCAL</td>\n",
              "      <td>/home/nico/miniconda3/envs/diplo_ANVD/lib/python3.6/site-packages/ipykernel_launcher.py</td>\n",
              "      <td>DTR_SC_rs=17</td>\n",
              "      <td>nico</td>\n",
              "    </tr>\n",
              "    <tr>\n",
              "      <th>1</th>\n",
              "      <td>333512eaaadc4f0c9f115458d8809aa5</td>\n",
              "      <td>0</td>\n",
              "      <td>FINISHED</td>\n",
              "      <td>file:///home/nico/DIPLO/MENT/P3/mlruns/0/333512eaaadc4f0c9f115458d8809aa5/artifacts</td>\n",
              "      <td>2020-10-04 18:49:04.545000+00:00</td>\n",
              "      <td>2020-10-04 18:49:04.568000+00:00</td>\n",
              "      <td>0.0</td>\n",
              "      <td>0.012267</td>\n",
              "      <td>0.845426</td>\n",
              "      <td>1.0</td>\n",
              "      <td>...</td>\n",
              "      <td>2</td>\n",
              "      <td>15</td>\n",
              "      <td>best</td>\n",
              "      <td>None</td>\n",
              "      <td>0.0</td>\n",
              "      <td>1</td>\n",
              "      <td>LOCAL</td>\n",
              "      <td>/home/nico/miniconda3/envs/diplo_ANVD/lib/python3.6/site-packages/ipykernel_launcher.py</td>\n",
              "      <td>DTR_SC_rs=15</td>\n",
              "      <td>nico</td>\n",
              "    </tr>\n",
              "    <tr>\n",
              "      <th>2</th>\n",
              "      <td>a117c8e911804ecbbe10aabe433d9591</td>\n",
              "      <td>0</td>\n",
              "      <td>FINISHED</td>\n",
              "      <td>file:///home/nico/DIPLO/MENT/P3/mlruns/0/a117c8e911804ecbbe10aabe433d9591/artifacts</td>\n",
              "      <td>2020-10-04 18:49:04.524000+00:00</td>\n",
              "      <td>2020-10-04 18:49:04.542000+00:00</td>\n",
              "      <td>0.0</td>\n",
              "      <td>0.015019</td>\n",
              "      <td>0.810745</td>\n",
              "      <td>1.0</td>\n",
              "      <td>...</td>\n",
              "      <td>2</td>\n",
              "      <td>13</td>\n",
              "      <td>best</td>\n",
              "      <td>None</td>\n",
              "      <td>0.0</td>\n",
              "      <td>1</td>\n",
              "      <td>LOCAL</td>\n",
              "      <td>/home/nico/miniconda3/envs/diplo_ANVD/lib/python3.6/site-packages/ipykernel_launcher.py</td>\n",
              "      <td>DTR_SC_rs=13</td>\n",
              "      <td>nico</td>\n",
              "    </tr>\n",
              "    <tr>\n",
              "      <th>3</th>\n",
              "      <td>759110c2c8c94a8a9fd5c125573a3728</td>\n",
              "      <td>0</td>\n",
              "      <td>FINISHED</td>\n",
              "      <td>file:///home/nico/DIPLO/MENT/P3/mlruns/0/759110c2c8c94a8a9fd5c125573a3728/artifacts</td>\n",
              "      <td>2020-10-04 18:47:43.216000+00:00</td>\n",
              "      <td>2020-10-04 18:47:43.235000+00:00</td>\n",
              "      <td>0.0</td>\n",
              "      <td>5.252708</td>\n",
              "      <td>0.849914</td>\n",
              "      <td>1.0</td>\n",
              "      <td>...</td>\n",
              "      <td>2</td>\n",
              "      <td>17</td>\n",
              "      <td>best</td>\n",
              "      <td>None</td>\n",
              "      <td>0.0</td>\n",
              "      <td>1</td>\n",
              "      <td>LOCAL</td>\n",
              "      <td>/home/nico/miniconda3/envs/diplo_ANVD/lib/python3.6/site-packages/ipykernel_launcher.py</td>\n",
              "      <td>DTR_NS_rs=17</td>\n",
              "      <td>nico</td>\n",
              "    </tr>\n",
              "    <tr>\n",
              "      <th>4</th>\n",
              "      <td>8706af12e33e4cda80ac9b6143a8a631</td>\n",
              "      <td>0</td>\n",
              "      <td>FINISHED</td>\n",
              "      <td>file:///home/nico/DIPLO/MENT/P3/mlruns/0/8706af12e33e4cda80ac9b6143a8a631/artifacts</td>\n",
              "      <td>2020-10-04 18:47:43.192000+00:00</td>\n",
              "      <td>2020-10-04 18:47:43.215000+00:00</td>\n",
              "      <td>0.0</td>\n",
              "      <td>5.467708</td>\n",
              "      <td>0.843771</td>\n",
              "      <td>1.0</td>\n",
              "      <td>...</td>\n",
              "      <td>2</td>\n",
              "      <td>15</td>\n",
              "      <td>best</td>\n",
              "      <td>None</td>\n",
              "      <td>0.0</td>\n",
              "      <td>1</td>\n",
              "      <td>LOCAL</td>\n",
              "      <td>/home/nico/miniconda3/envs/diplo_ANVD/lib/python3.6/site-packages/ipykernel_launcher.py</td>\n",
              "      <td>DTR_NS_rs=15</td>\n",
              "      <td>nico</td>\n",
              "    </tr>\n",
              "    <tr>\n",
              "      <th>5</th>\n",
              "      <td>bd7b86ad73994dc3b0c71f57f949e762</td>\n",
              "      <td>0</td>\n",
              "      <td>FINISHED</td>\n",
              "      <td>file:///home/nico/DIPLO/MENT/P3/mlruns/0/bd7b86ad73994dc3b0c71f57f949e762/artifacts</td>\n",
              "      <td>2020-10-04 18:47:43.171000+00:00</td>\n",
              "      <td>2020-10-04 18:47:43.190000+00:00</td>\n",
              "      <td>0.0</td>\n",
              "      <td>5.407630</td>\n",
              "      <td>0.845488</td>\n",
              "      <td>1.0</td>\n",
              "      <td>...</td>\n",
              "      <td>2</td>\n",
              "      <td>13</td>\n",
              "      <td>best</td>\n",
              "      <td>None</td>\n",
              "      <td>0.0</td>\n",
              "      <td>1</td>\n",
              "      <td>LOCAL</td>\n",
              "      <td>/home/nico/miniconda3/envs/diplo_ANVD/lib/python3.6/site-packages/ipykernel_launcher.py</td>\n",
              "      <td>DTR_NS_rs=13</td>\n",
              "      <td>nico</td>\n",
              "    </tr>\n",
              "  </tbody>\n",
              "</table>\n",
              "<p>6 rows × 28 columns</p>\n",
              "</div>"
            ],
            "text/plain": [
              "                             run_id experiment_id    status  \\\n",
              "0  5b07e55e4902443e927243d5fa5e2d8e  0             FINISHED   \n",
              "1  333512eaaadc4f0c9f115458d8809aa5  0             FINISHED   \n",
              "2  a117c8e911804ecbbe10aabe433d9591  0             FINISHED   \n",
              "3  759110c2c8c94a8a9fd5c125573a3728  0             FINISHED   \n",
              "4  8706af12e33e4cda80ac9b6143a8a631  0             FINISHED   \n",
              "5  bd7b86ad73994dc3b0c71f57f949e762  0             FINISHED   \n",
              "\n",
              "                                                                          artifact_uri  \\\n",
              "0  file:///home/nico/DIPLO/MENT/P3/mlruns/0/5b07e55e4902443e927243d5fa5e2d8e/artifacts   \n",
              "1  file:///home/nico/DIPLO/MENT/P3/mlruns/0/333512eaaadc4f0c9f115458d8809aa5/artifacts   \n",
              "2  file:///home/nico/DIPLO/MENT/P3/mlruns/0/a117c8e911804ecbbe10aabe433d9591/artifacts   \n",
              "3  file:///home/nico/DIPLO/MENT/P3/mlruns/0/759110c2c8c94a8a9fd5c125573a3728/artifacts   \n",
              "4  file:///home/nico/DIPLO/MENT/P3/mlruns/0/8706af12e33e4cda80ac9b6143a8a631/artifacts   \n",
              "5  file:///home/nico/DIPLO/MENT/P3/mlruns/0/bd7b86ad73994dc3b0c71f57f949e762/artifacts   \n",
              "\n",
              "                        start_time                         end_time  \\\n",
              "0 2020-10-04 18:49:04.569000+00:00 2020-10-04 18:49:04.589000+00:00   \n",
              "1 2020-10-04 18:49:04.545000+00:00 2020-10-04 18:49:04.568000+00:00   \n",
              "2 2020-10-04 18:49:04.524000+00:00 2020-10-04 18:49:04.542000+00:00   \n",
              "3 2020-10-04 18:47:43.216000+00:00 2020-10-04 18:47:43.235000+00:00   \n",
              "4 2020-10-04 18:47:43.192000+00:00 2020-10-04 18:47:43.215000+00:00   \n",
              "5 2020-10-04 18:47:43.171000+00:00 2020-10-04 18:47:43.190000+00:00   \n",
              "\n",
              "   metrics.mse_train  metrics.mse_test  metrics.score_test  \\\n",
              "0  0.0                0.015209          0.808355             \n",
              "1  0.0                0.012267          0.845426             \n",
              "2  0.0                0.015019          0.810745             \n",
              "3  0.0                5.252708          0.849914             \n",
              "4  0.0                5.467708          0.843771             \n",
              "5  0.0                5.407630          0.845488             \n",
              "\n",
              "   metrics.score_train  ... params.min_samples_split params.random_state  \\\n",
              "0  1.0                  ...  2                        17                   \n",
              "1  1.0                  ...  2                        15                   \n",
              "2  1.0                  ...  2                        13                   \n",
              "3  1.0                  ...  2                        17                   \n",
              "4  1.0                  ...  2                        15                   \n",
              "5  1.0                  ...  2                        13                   \n",
              "\n",
              "  params.splitter params.max_depth params.ccp_alpha params.min_samples_leaf  \\\n",
              "0  best            None             0.0              1                        \n",
              "1  best            None             0.0              1                        \n",
              "2  best            None             0.0              1                        \n",
              "3  best            None             0.0              1                        \n",
              "4  best            None             0.0              1                        \n",
              "5  best            None             0.0              1                        \n",
              "\n",
              "  tags.mlflow.source.type  \\\n",
              "0  LOCAL                    \n",
              "1  LOCAL                    \n",
              "2  LOCAL                    \n",
              "3  LOCAL                    \n",
              "4  LOCAL                    \n",
              "5  LOCAL                    \n",
              "\n",
              "                                                                   tags.mlflow.source.name  \\\n",
              "0  /home/nico/miniconda3/envs/diplo_ANVD/lib/python3.6/site-packages/ipykernel_launcher.py   \n",
              "1  /home/nico/miniconda3/envs/diplo_ANVD/lib/python3.6/site-packages/ipykernel_launcher.py   \n",
              "2  /home/nico/miniconda3/envs/diplo_ANVD/lib/python3.6/site-packages/ipykernel_launcher.py   \n",
              "3  /home/nico/miniconda3/envs/diplo_ANVD/lib/python3.6/site-packages/ipykernel_launcher.py   \n",
              "4  /home/nico/miniconda3/envs/diplo_ANVD/lib/python3.6/site-packages/ipykernel_launcher.py   \n",
              "5  /home/nico/miniconda3/envs/diplo_ANVD/lib/python3.6/site-packages/ipykernel_launcher.py   \n",
              "\n",
              "  tags.mlflow.runName tags.mlflow.user  \n",
              "0  DTR_SC_rs=17        nico             \n",
              "1  DTR_SC_rs=15        nico             \n",
              "2  DTR_SC_rs=13        nico             \n",
              "3  DTR_NS_rs=17        nico             \n",
              "4  DTR_NS_rs=15        nico             \n",
              "5  DTR_NS_rs=13        nico             \n",
              "\n",
              "[6 rows x 28 columns]"
            ]
          },
          "metadata": {
            "tags": []
          },
          "execution_count": 328
        }
      ]
    },
    {
      "cell_type": "markdown",
      "metadata": {
        "id": "YEuvxKIxtrO0"
      },
      "source": [
        "##### **Random Forest**\n",
        "\n",
        "A continuación, utilizamos el modelo Random Forest. Al respecto de **mlflow**, ver descripción dle modelo en la sección correspondiente a los modelos con el dataset no escalado."
      ]
    },
    {
      "cell_type": "code",
      "metadata": {
        "id": "Njy-nG049ruK",
        "outputId": "c77d670a-9839-4adf-9136-d280dce631de"
      },
      "source": [
        "# Experimentos cambiando el hiperparámetro \"criterio\", que defije la función de calidad para definir una partición\n",
        "mlflow.set_experiment(\"Rand_For\") # Setear el experimento creado como el experimento \"activo\"\n",
        "\n",
        "from sklearn import ensemble\n",
        "from sklearn.metrics import mean_squared_error\n",
        "from sklearn.metrics import mean_absolute_error\n",
        "\n",
        "for cr in (\"mse\",\"mae\"): # se correran 2 versiones de RF con diferentes criterios de calidad, el subfijo \"_SC\" hace rreferncia a los datos No Escalados\n",
        "  with mlflow.start_run(run_name=\"RF_SC_cr=\"+str(cr),nested=True): # dado que solo se cambia ese hiperparámetro, se identifica la corrida con su valor para su fácil reconocimiento posterior\n",
        "    \n",
        "    q_crit = cr # aquí se almacena el valor del hiperparámetro para cada corrida del modelo\n",
        "    \n",
        "    rf = ensemble.RandomForestRegressor(criterion= q_crit, random_state=0) # definimos el modelo\n",
        "    rf.fit(X_train, y_train) # entrenamos\n",
        "    \n",
        "    mlflow.log_param('_tipo_algoritmo','RandomForestRegressor') # nos aseguramos de guardar el nombre del modelo para su posterior identificación\n",
        "    mlflow.log_params(rf.get_params()) # obtenemos los parámetros del modelo que se ejecutó\n",
        "    \n",
        "    pred_train = rf.predict(X_train) # guardamos temporalmente los predichos para train en la corrida en curso\n",
        "    pred_test = rf.predict(X_test) # guardamos temporalmente los predichos para test en la corrida en curso\n",
        "     \n",
        "    score_train = rf.score(X_train, pred_train) # guardamos temporalmente los scores para train en la corrida en curso\n",
        "    score_test = rf.score(X_test, pred_test) # guardamos temporalmente los scores para train en la corrida en curso\n",
        "    \n",
        "    mse_train = mean_squared_error(y_train, pred_train) # evaluamos el ECM para train, guardamos temporalmente para la corrida en curso\n",
        "    mse_test = mean_squared_error(y_test, pred_test) # evaluamos el ECM para test, guardamos temporalmente para la corrida en curso\n",
        "    \n",
        "    mae_train = mean_absolute_error(y_train, pred_train) # evaluamos el EMA para test, guardamos temporalmente para la corrida en curso\n",
        "    mae_test = mean_absolute_error(y_test, pred_test) # evaluamos el EMA para test, guardamos temporalmente para la corrida en curso\n",
        "    \n",
        "    mlflow.log_metric('score_train', score_train) # Loggeamos la métrica score obtenida de RF p/train en la corrida en curso\n",
        "    mlflow.log_metric('score_test', score_test) # Loggeamos la métrica score obtenida de RF p/test en la corrida en curso\n",
        "    mlflow.log_metric('mse_train', mse_train) # Loggeamos la métrica ECM obtenida de RF p/train en la corrida en curso\n",
        "    mlflow.log_metric('mse_test', mse_test) # Loggeamos la métrica ECM obtenida de RF p/test en la corrida en curso\n",
        "    mlflow.log_metric('mae_train', mae_train) # Loggeamos la métrica EMA obtenida de RF p/train en la corrida en curso\n",
        "    mlflow.log_metric('mae_test', mae_test) # Loggeamos la métrica EMA obtenida de RF p/test en la corrida en curso\n",
        "\n",
        "    \n",
        "# Como solo hacemos 2 experimentos imprimimos los resultados para rápida comparación (contemplar NO hacer esto si se ensayaran muchas versiones del modelo)\n",
        "    print('Param_set (q_criterion): {}'.format(q_crit))\n",
        "    print('Score_train: {:.3f}'.format(score_train))\n",
        "    print('Score_test: {:.3f}'.format(score_test))\n",
        "    print('MSE_train: {:.3f}'.format(mse_train))\n",
        "    print('MSE_test: {:.3f}'.format(mse_test))\n",
        "    print('MAE_train: {:.3f}'.format(mae_train))\n",
        "    print('MAE_test: {:.3f}'.format(mae_test))\n",
        "    print('\\n')\n",
        "    \n",
        "    mlflow.end_run()"
      ],
      "execution_count": null,
      "outputs": [
        {
          "output_type": "stream",
          "text": [
            "Param_set (q_criterion): mse\n",
            "Score_train: 1.000\n",
            "Score_test: 1.000\n",
            "MSE_train: 0.001\n",
            "MSE_test: 0.008\n",
            "MAE_train: 0.020\n",
            "MAE_test: 0.059\n",
            "\n",
            "\n",
            "Param_set (q_criterion): mae\n",
            "Score_train: 1.000\n",
            "Score_test: 1.000\n",
            "MSE_train: 0.001\n",
            "MSE_test: 0.007\n",
            "MAE_train: 0.021\n",
            "MAE_test: 0.057\n",
            "\n",
            "\n"
          ],
          "name": "stdout"
        }
      ]
    },
    {
      "cell_type": "code",
      "metadata": {
        "id": "9TfSHyew9ruN",
        "outputId": "0293b86b-9af5-41d7-8576-37b744a72b98"
      },
      "source": [
        "# Listar experimentos\n",
        "mlflow.tracking.MlflowClient().list_experiments()"
      ],
      "execution_count": null,
      "outputs": [
        {
          "output_type": "execute_result",
          "data": {
            "text/plain": [
              "[<Experiment: artifact_location='file:///home/nico/DIPLO/MENT/P3/mlruns/0', experiment_id='0', lifecycle_stage='active', name='Arbol_Dec', tags={}>,\n",
              " <Experiment: artifact_location='file:///home/nico/DIPLO/MENT/P3/mlruns/1', experiment_id='1', lifecycle_stage='active', name='Reg_Pol', tags={}>,\n",
              " <Experiment: artifact_location='file:///home/nico/DIPLO/MENT/P3/mlruns/2', experiment_id='2', lifecycle_stage='active', name='Rand_For', tags={}>]"
            ]
          },
          "metadata": {
            "tags": []
          },
          "execution_count": 330
        }
      ]
    },
    {
      "cell_type": "code",
      "metadata": {
        "id": "Fyzlck819ruS",
        "outputId": "fa05d0f3-3439-4f2b-d36a-24354260769c"
      },
      "source": [
        "# Ver corridas del experimento activo # Ahora se incluyen los de datos no escalados y escalados bajo Rand For\n",
        "mlflow.search_runs()\n",
        "# Localmente se puede ir al directorio donde se encuentra mlruns y correr \"mlflow ui\" para una versión GUI... ta piola,\n",
        "# se accede a través del navegador en \"localhost:5000\""
      ],
      "execution_count": null,
      "outputs": [
        {
          "output_type": "execute_result",
          "data": {
            "text/html": [
              "<div>\n",
              "<style scoped>\n",
              "    .dataframe tbody tr th:only-of-type {\n",
              "        vertical-align: middle;\n",
              "    }\n",
              "\n",
              "    .dataframe tbody tr th {\n",
              "        vertical-align: top;\n",
              "    }\n",
              "\n",
              "    .dataframe thead th {\n",
              "        text-align: right;\n",
              "    }\n",
              "</style>\n",
              "<table border=\"1\" class=\"dataframe\">\n",
              "  <thead>\n",
              "    <tr style=\"text-align: right;\">\n",
              "      <th></th>\n",
              "      <th>run_id</th>\n",
              "      <th>experiment_id</th>\n",
              "      <th>status</th>\n",
              "      <th>artifact_uri</th>\n",
              "      <th>start_time</th>\n",
              "      <th>end_time</th>\n",
              "      <th>metrics.mse_train</th>\n",
              "      <th>metrics.mae_train</th>\n",
              "      <th>metrics.score_train</th>\n",
              "      <th>metrics.mse_test</th>\n",
              "      <th>...</th>\n",
              "      <th>params.min_impurity_split</th>\n",
              "      <th>params.min_samples_split</th>\n",
              "      <th>params.random_state</th>\n",
              "      <th>params.oob_score</th>\n",
              "      <th>params.max_depth</th>\n",
              "      <th>params.ccp_alpha</th>\n",
              "      <th>tags.mlflow.source.type</th>\n",
              "      <th>tags.mlflow.source.name</th>\n",
              "      <th>tags.mlflow.runName</th>\n",
              "      <th>tags.mlflow.user</th>\n",
              "    </tr>\n",
              "  </thead>\n",
              "  <tbody>\n",
              "    <tr>\n",
              "      <th>0</th>\n",
              "      <td>f461b20f4e4c4f9faa7f6aebfcbf2850</td>\n",
              "      <td>2</td>\n",
              "      <td>FINISHED</td>\n",
              "      <td>file:///home/nico/DIPLO/MENT/P3/mlruns/2/f461b20f4e4c4f9faa7f6aebfcbf2850/artifacts</td>\n",
              "      <td>2020-10-04 18:49:16.957000+00:00</td>\n",
              "      <td>2020-10-04 18:49:17.136000+00:00</td>\n",
              "      <td>0.000846</td>\n",
              "      <td>0.021187</td>\n",
              "      <td>1.0</td>\n",
              "      <td>0.006987</td>\n",
              "      <td>...</td>\n",
              "      <td>None</td>\n",
              "      <td>2</td>\n",
              "      <td>0</td>\n",
              "      <td>False</td>\n",
              "      <td>None</td>\n",
              "      <td>0.0</td>\n",
              "      <td>LOCAL</td>\n",
              "      <td>/home/nico/miniconda3/envs/diplo_ANVD/lib/python3.6/site-packages/ipykernel_launcher.py</td>\n",
              "      <td>RF_SC_cr=mae</td>\n",
              "      <td>nico</td>\n",
              "    </tr>\n",
              "    <tr>\n",
              "      <th>1</th>\n",
              "      <td>5a21bc31a41b4daeb28ddd47edc3071e</td>\n",
              "      <td>2</td>\n",
              "      <td>FINISHED</td>\n",
              "      <td>file:///home/nico/DIPLO/MENT/P3/mlruns/2/5a21bc31a41b4daeb28ddd47edc3071e/artifacts</td>\n",
              "      <td>2020-10-04 18:49:16.809000+00:00</td>\n",
              "      <td>2020-10-04 18:49:16.956000+00:00</td>\n",
              "      <td>0.000772</td>\n",
              "      <td>0.020279</td>\n",
              "      <td>1.0</td>\n",
              "      <td>0.007550</td>\n",
              "      <td>...</td>\n",
              "      <td>None</td>\n",
              "      <td>2</td>\n",
              "      <td>0</td>\n",
              "      <td>False</td>\n",
              "      <td>None</td>\n",
              "      <td>0.0</td>\n",
              "      <td>LOCAL</td>\n",
              "      <td>/home/nico/miniconda3/envs/diplo_ANVD/lib/python3.6/site-packages/ipykernel_launcher.py</td>\n",
              "      <td>RF_SC_cr=mse</td>\n",
              "      <td>nico</td>\n",
              "    </tr>\n",
              "    <tr>\n",
              "      <th>2</th>\n",
              "      <td>9431d3cbedd448bf9795bde57868fb17</td>\n",
              "      <td>2</td>\n",
              "      <td>FINISHED</td>\n",
              "      <td>file:///home/nico/DIPLO/MENT/P3/mlruns/2/9431d3cbedd448bf9795bde57868fb17/artifacts</td>\n",
              "      <td>2020-10-04 18:48:00.400000+00:00</td>\n",
              "      <td>2020-10-04 18:48:00.576000+00:00</td>\n",
              "      <td>0.369227</td>\n",
              "      <td>0.442908</td>\n",
              "      <td>1.0</td>\n",
              "      <td>2.845740</td>\n",
              "      <td>...</td>\n",
              "      <td>None</td>\n",
              "      <td>2</td>\n",
              "      <td>0</td>\n",
              "      <td>False</td>\n",
              "      <td>None</td>\n",
              "      <td>0.0</td>\n",
              "      <td>LOCAL</td>\n",
              "      <td>/home/nico/miniconda3/envs/diplo_ANVD/lib/python3.6/site-packages/ipykernel_launcher.py</td>\n",
              "      <td>RF_NS_cr=mae</td>\n",
              "      <td>nico</td>\n",
              "    </tr>\n",
              "    <tr>\n",
              "      <th>3</th>\n",
              "      <td>3b5c316802084c18beb35a191f1a9570</td>\n",
              "      <td>2</td>\n",
              "      <td>FINISHED</td>\n",
              "      <td>file:///home/nico/DIPLO/MENT/P3/mlruns/2/3b5c316802084c18beb35a191f1a9570/artifacts</td>\n",
              "      <td>2020-10-04 18:48:00.244000+00:00</td>\n",
              "      <td>2020-10-04 18:48:00.399000+00:00</td>\n",
              "      <td>0.343835</td>\n",
              "      <td>0.434424</td>\n",
              "      <td>1.0</td>\n",
              "      <td>3.168676</td>\n",
              "      <td>...</td>\n",
              "      <td>None</td>\n",
              "      <td>2</td>\n",
              "      <td>0</td>\n",
              "      <td>False</td>\n",
              "      <td>None</td>\n",
              "      <td>0.0</td>\n",
              "      <td>LOCAL</td>\n",
              "      <td>/home/nico/miniconda3/envs/diplo_ANVD/lib/python3.6/site-packages/ipykernel_launcher.py</td>\n",
              "      <td>RF_NS_cr=mse</td>\n",
              "      <td>nico</td>\n",
              "    </tr>\n",
              "  </tbody>\n",
              "</table>\n",
              "<p>4 rows × 35 columns</p>\n",
              "</div>"
            ],
            "text/plain": [
              "                             run_id experiment_id    status  \\\n",
              "0  f461b20f4e4c4f9faa7f6aebfcbf2850  2             FINISHED   \n",
              "1  5a21bc31a41b4daeb28ddd47edc3071e  2             FINISHED   \n",
              "2  9431d3cbedd448bf9795bde57868fb17  2             FINISHED   \n",
              "3  3b5c316802084c18beb35a191f1a9570  2             FINISHED   \n",
              "\n",
              "                                                                          artifact_uri  \\\n",
              "0  file:///home/nico/DIPLO/MENT/P3/mlruns/2/f461b20f4e4c4f9faa7f6aebfcbf2850/artifacts   \n",
              "1  file:///home/nico/DIPLO/MENT/P3/mlruns/2/5a21bc31a41b4daeb28ddd47edc3071e/artifacts   \n",
              "2  file:///home/nico/DIPLO/MENT/P3/mlruns/2/9431d3cbedd448bf9795bde57868fb17/artifacts   \n",
              "3  file:///home/nico/DIPLO/MENT/P3/mlruns/2/3b5c316802084c18beb35a191f1a9570/artifacts   \n",
              "\n",
              "                        start_time                         end_time  \\\n",
              "0 2020-10-04 18:49:16.957000+00:00 2020-10-04 18:49:17.136000+00:00   \n",
              "1 2020-10-04 18:49:16.809000+00:00 2020-10-04 18:49:16.956000+00:00   \n",
              "2 2020-10-04 18:48:00.400000+00:00 2020-10-04 18:48:00.576000+00:00   \n",
              "3 2020-10-04 18:48:00.244000+00:00 2020-10-04 18:48:00.399000+00:00   \n",
              "\n",
              "   metrics.mse_train  metrics.mae_train  metrics.score_train  \\\n",
              "0  0.000846           0.021187           1.0                   \n",
              "1  0.000772           0.020279           1.0                   \n",
              "2  0.369227           0.442908           1.0                   \n",
              "3  0.343835           0.434424           1.0                   \n",
              "\n",
              "   metrics.mse_test  ...  params.min_impurity_split  params.min_samples_split  \\\n",
              "0  0.006987          ...  None                       2                          \n",
              "1  0.007550          ...  None                       2                          \n",
              "2  2.845740          ...  None                       2                          \n",
              "3  3.168676          ...  None                       2                          \n",
              "\n",
              "  params.random_state params.oob_score params.max_depth params.ccp_alpha  \\\n",
              "0  0                   False            None             0.0               \n",
              "1  0                   False            None             0.0               \n",
              "2  0                   False            None             0.0               \n",
              "3  0                   False            None             0.0               \n",
              "\n",
              "  tags.mlflow.source.type  \\\n",
              "0  LOCAL                    \n",
              "1  LOCAL                    \n",
              "2  LOCAL                    \n",
              "3  LOCAL                    \n",
              "\n",
              "                                                                   tags.mlflow.source.name  \\\n",
              "0  /home/nico/miniconda3/envs/diplo_ANVD/lib/python3.6/site-packages/ipykernel_launcher.py   \n",
              "1  /home/nico/miniconda3/envs/diplo_ANVD/lib/python3.6/site-packages/ipykernel_launcher.py   \n",
              "2  /home/nico/miniconda3/envs/diplo_ANVD/lib/python3.6/site-packages/ipykernel_launcher.py   \n",
              "3  /home/nico/miniconda3/envs/diplo_ANVD/lib/python3.6/site-packages/ipykernel_launcher.py   \n",
              "\n",
              "  tags.mlflow.runName tags.mlflow.user  \n",
              "0  RF_SC_cr=mae        nico             \n",
              "1  RF_SC_cr=mse        nico             \n",
              "2  RF_NS_cr=mae        nico             \n",
              "3  RF_NS_cr=mse        nico             \n",
              "\n",
              "[4 rows x 35 columns]"
            ]
          },
          "metadata": {
            "tags": []
          },
          "execution_count": 331
        }
      ]
    },
    {
      "cell_type": "markdown",
      "metadata": {
        "id": "hoWdeRpT4q5f"
      },
      "source": [
        "#### **Análisis**\n",
        "\n",
        "En general, la performance de los modelos con los datos escalados fue menor que con los no datos escalados. Sin embargo, se observa que para el modelo de regresión lineal simple, el score para el set de test fue de 84% y el error cuadrático medio para ese set fue muy bajo (0.01). Por lo tanto, en lo que a regresión lineal simple respecta, el escalado de los datos mejoró la performance del modelo, si se tiene en cuenta a la baja en el error cuadrático medio.\n",
        "\n",
        "La performance de los modelos de árbol de decisión y de RandomForest no varió demasiado con el escalado de los datos, y su performance fue mejor a la obtenida por los modelos de regresiones."
      ]
    },
    {
      "cell_type": "markdown",
      "metadata": {
        "id": "9ZZ2q7B_asEp"
      },
      "source": [
        "### Conclusiones generales\n",
        "\n",
        "En el presente práctico se aplicaron diferentes modelos de aprendiaje supervisado, con el objetivo de predecir la variable \"Índice de Gini\" de acuerdo a los valores de diferentes atributos. En general, los modelos construidos tuvieron una buena performance, haciendo buenas predicciones sobre la variable objetivo. Sin embargo, es necesario destacar el reducido tamaño del dataset. Esto puede traer problemas a la hora de dividir el set de train/test, ya que el set de test puede quedar muy pequeño. Si bien los resultados obtenidos fueron aceptables, ponemos en duda la performance de los modelos si se agregaran nuevos datos (principalmente para el modelo de RandomForestRegressor, el cual obtuvo un score de prácticamente 100). Creemos que el dataset puesto a entrenamiento y prueba es demasiado pequeño para los estándares de Aprendizaje Supervisado.\n",
        "\n",
        "Por otro lado, se aplicó la herramienta mlflow para guardar los modelos construidos, y se practicó exponiendo los resultados de alguno de ellos mediante esta herramienta. Concluimos que la misma es una herramienta muy potente para una buena organización del flujo de trabajo."
      ]
    }
  ]
}